{
 "cells": [
  {
   "cell_type": "code",
   "execution_count": 166,
   "metadata": {},
   "outputs": [],
   "source": [
    "import pandas as pd\n",
    "import numpy as np\n",
    "import matplotlib.pyplot as plt\n",
    "import seaborn as sns\n",
    "\n",
    "%matplotlib inline"
   ]
  },
  {
   "cell_type": "code",
   "execution_count": 167,
   "metadata": {},
   "outputs": [],
   "source": [
    "import warnings\n",
    "warnings.filterwarnings('ignore')"
   ]
  },
  {
   "cell_type": "code",
   "execution_count": 168,
   "metadata": {},
   "outputs": [],
   "source": [
    "LP=pd.read_csv(\"train_ctrUa4K.csv\")"
   ]
  },
  {
   "cell_type": "code",
   "execution_count": 169,
   "metadata": {},
   "outputs": [
    {
     "data": {
      "text/plain": [
       "(614, 13)"
      ]
     },
     "execution_count": 169,
     "metadata": {},
     "output_type": "execute_result"
    }
   ],
   "source": [
    "LP.shape"
   ]
  },
  {
   "cell_type": "code",
   "execution_count": 170,
   "metadata": {},
   "outputs": [
    {
     "data": {
      "text/html": [
       "<div>\n",
       "<style scoped>\n",
       "    .dataframe tbody tr th:only-of-type {\n",
       "        vertical-align: middle;\n",
       "    }\n",
       "\n",
       "    .dataframe tbody tr th {\n",
       "        vertical-align: top;\n",
       "    }\n",
       "\n",
       "    .dataframe thead th {\n",
       "        text-align: right;\n",
       "    }\n",
       "</style>\n",
       "<table border=\"1\" class=\"dataframe\">\n",
       "  <thead>\n",
       "    <tr style=\"text-align: right;\">\n",
       "      <th></th>\n",
       "      <th>Loan_ID</th>\n",
       "      <th>Gender</th>\n",
       "      <th>Married</th>\n",
       "      <th>Dependents</th>\n",
       "      <th>Education</th>\n",
       "      <th>Self_Employed</th>\n",
       "      <th>ApplicantIncome</th>\n",
       "      <th>CoapplicantIncome</th>\n",
       "      <th>LoanAmount</th>\n",
       "      <th>Loan_Amount_Term</th>\n",
       "      <th>Credit_History</th>\n",
       "      <th>Property_Area</th>\n",
       "      <th>Loan_Status</th>\n",
       "    </tr>\n",
       "  </thead>\n",
       "  <tbody>\n",
       "    <tr>\n",
       "      <th>0</th>\n",
       "      <td>LP001002</td>\n",
       "      <td>Male</td>\n",
       "      <td>No</td>\n",
       "      <td>0</td>\n",
       "      <td>Graduate</td>\n",
       "      <td>No</td>\n",
       "      <td>5849</td>\n",
       "      <td>0.0</td>\n",
       "      <td>NaN</td>\n",
       "      <td>360.0</td>\n",
       "      <td>1.0</td>\n",
       "      <td>Urban</td>\n",
       "      <td>Y</td>\n",
       "    </tr>\n",
       "    <tr>\n",
       "      <th>1</th>\n",
       "      <td>LP001003</td>\n",
       "      <td>Male</td>\n",
       "      <td>Yes</td>\n",
       "      <td>1</td>\n",
       "      <td>Graduate</td>\n",
       "      <td>No</td>\n",
       "      <td>4583</td>\n",
       "      <td>1508.0</td>\n",
       "      <td>128.0</td>\n",
       "      <td>360.0</td>\n",
       "      <td>1.0</td>\n",
       "      <td>Rural</td>\n",
       "      <td>N</td>\n",
       "    </tr>\n",
       "    <tr>\n",
       "      <th>2</th>\n",
       "      <td>LP001005</td>\n",
       "      <td>Male</td>\n",
       "      <td>Yes</td>\n",
       "      <td>0</td>\n",
       "      <td>Graduate</td>\n",
       "      <td>Yes</td>\n",
       "      <td>3000</td>\n",
       "      <td>0.0</td>\n",
       "      <td>66.0</td>\n",
       "      <td>360.0</td>\n",
       "      <td>1.0</td>\n",
       "      <td>Urban</td>\n",
       "      <td>Y</td>\n",
       "    </tr>\n",
       "    <tr>\n",
       "      <th>3</th>\n",
       "      <td>LP001006</td>\n",
       "      <td>Male</td>\n",
       "      <td>Yes</td>\n",
       "      <td>0</td>\n",
       "      <td>Not Graduate</td>\n",
       "      <td>No</td>\n",
       "      <td>2583</td>\n",
       "      <td>2358.0</td>\n",
       "      <td>120.0</td>\n",
       "      <td>360.0</td>\n",
       "      <td>1.0</td>\n",
       "      <td>Urban</td>\n",
       "      <td>Y</td>\n",
       "    </tr>\n",
       "    <tr>\n",
       "      <th>4</th>\n",
       "      <td>LP001008</td>\n",
       "      <td>Male</td>\n",
       "      <td>No</td>\n",
       "      <td>0</td>\n",
       "      <td>Graduate</td>\n",
       "      <td>No</td>\n",
       "      <td>6000</td>\n",
       "      <td>0.0</td>\n",
       "      <td>141.0</td>\n",
       "      <td>360.0</td>\n",
       "      <td>1.0</td>\n",
       "      <td>Urban</td>\n",
       "      <td>Y</td>\n",
       "    </tr>\n",
       "  </tbody>\n",
       "</table>\n",
       "</div>"
      ],
      "text/plain": [
       "    Loan_ID Gender Married Dependents     Education Self_Employed  \\\n",
       "0  LP001002   Male      No          0      Graduate            No   \n",
       "1  LP001003   Male     Yes          1      Graduate            No   \n",
       "2  LP001005   Male     Yes          0      Graduate           Yes   \n",
       "3  LP001006   Male     Yes          0  Not Graduate            No   \n",
       "4  LP001008   Male      No          0      Graduate            No   \n",
       "\n",
       "   ApplicantIncome  CoapplicantIncome  LoanAmount  Loan_Amount_Term  \\\n",
       "0             5849                0.0         NaN             360.0   \n",
       "1             4583             1508.0       128.0             360.0   \n",
       "2             3000                0.0        66.0             360.0   \n",
       "3             2583             2358.0       120.0             360.0   \n",
       "4             6000                0.0       141.0             360.0   \n",
       "\n",
       "   Credit_History Property_Area Loan_Status  \n",
       "0             1.0         Urban           Y  \n",
       "1             1.0         Rural           N  \n",
       "2             1.0         Urban           Y  \n",
       "3             1.0         Urban           Y  \n",
       "4             1.0         Urban           Y  "
      ]
     },
     "execution_count": 170,
     "metadata": {},
     "output_type": "execute_result"
    }
   ],
   "source": [
    "LP.head()"
   ]
  },
  {
   "cell_type": "code",
   "execution_count": 171,
   "metadata": {},
   "outputs": [
    {
     "data": {
      "text/html": [
       "<div>\n",
       "<style scoped>\n",
       "    .dataframe tbody tr th:only-of-type {\n",
       "        vertical-align: middle;\n",
       "    }\n",
       "\n",
       "    .dataframe tbody tr th {\n",
       "        vertical-align: top;\n",
       "    }\n",
       "\n",
       "    .dataframe thead th {\n",
       "        text-align: right;\n",
       "    }\n",
       "</style>\n",
       "<table border=\"1\" class=\"dataframe\">\n",
       "  <thead>\n",
       "    <tr style=\"text-align: right;\">\n",
       "      <th></th>\n",
       "      <th>Loan_ID</th>\n",
       "      <th>Gender</th>\n",
       "      <th>Married</th>\n",
       "      <th>Dependents</th>\n",
       "      <th>Education</th>\n",
       "      <th>Self_Employed</th>\n",
       "      <th>ApplicantIncome</th>\n",
       "      <th>CoapplicantIncome</th>\n",
       "      <th>LoanAmount</th>\n",
       "      <th>Loan_Amount_Term</th>\n",
       "      <th>Credit_History</th>\n",
       "      <th>Property_Area</th>\n",
       "      <th>Loan_Status</th>\n",
       "    </tr>\n",
       "  </thead>\n",
       "  <tbody>\n",
       "    <tr>\n",
       "      <th>609</th>\n",
       "      <td>LP002978</td>\n",
       "      <td>Female</td>\n",
       "      <td>No</td>\n",
       "      <td>0</td>\n",
       "      <td>Graduate</td>\n",
       "      <td>No</td>\n",
       "      <td>2900</td>\n",
       "      <td>0.0</td>\n",
       "      <td>71.0</td>\n",
       "      <td>360.0</td>\n",
       "      <td>1.0</td>\n",
       "      <td>Rural</td>\n",
       "      <td>Y</td>\n",
       "    </tr>\n",
       "    <tr>\n",
       "      <th>610</th>\n",
       "      <td>LP002979</td>\n",
       "      <td>Male</td>\n",
       "      <td>Yes</td>\n",
       "      <td>3+</td>\n",
       "      <td>Graduate</td>\n",
       "      <td>No</td>\n",
       "      <td>4106</td>\n",
       "      <td>0.0</td>\n",
       "      <td>40.0</td>\n",
       "      <td>180.0</td>\n",
       "      <td>1.0</td>\n",
       "      <td>Rural</td>\n",
       "      <td>Y</td>\n",
       "    </tr>\n",
       "    <tr>\n",
       "      <th>611</th>\n",
       "      <td>LP002983</td>\n",
       "      <td>Male</td>\n",
       "      <td>Yes</td>\n",
       "      <td>1</td>\n",
       "      <td>Graduate</td>\n",
       "      <td>No</td>\n",
       "      <td>8072</td>\n",
       "      <td>240.0</td>\n",
       "      <td>253.0</td>\n",
       "      <td>360.0</td>\n",
       "      <td>1.0</td>\n",
       "      <td>Urban</td>\n",
       "      <td>Y</td>\n",
       "    </tr>\n",
       "    <tr>\n",
       "      <th>612</th>\n",
       "      <td>LP002984</td>\n",
       "      <td>Male</td>\n",
       "      <td>Yes</td>\n",
       "      <td>2</td>\n",
       "      <td>Graduate</td>\n",
       "      <td>No</td>\n",
       "      <td>7583</td>\n",
       "      <td>0.0</td>\n",
       "      <td>187.0</td>\n",
       "      <td>360.0</td>\n",
       "      <td>1.0</td>\n",
       "      <td>Urban</td>\n",
       "      <td>Y</td>\n",
       "    </tr>\n",
       "    <tr>\n",
       "      <th>613</th>\n",
       "      <td>LP002990</td>\n",
       "      <td>Female</td>\n",
       "      <td>No</td>\n",
       "      <td>0</td>\n",
       "      <td>Graduate</td>\n",
       "      <td>Yes</td>\n",
       "      <td>4583</td>\n",
       "      <td>0.0</td>\n",
       "      <td>133.0</td>\n",
       "      <td>360.0</td>\n",
       "      <td>0.0</td>\n",
       "      <td>Semiurban</td>\n",
       "      <td>N</td>\n",
       "    </tr>\n",
       "  </tbody>\n",
       "</table>\n",
       "</div>"
      ],
      "text/plain": [
       "      Loan_ID  Gender Married Dependents Education Self_Employed  \\\n",
       "609  LP002978  Female      No          0  Graduate            No   \n",
       "610  LP002979    Male     Yes         3+  Graduate            No   \n",
       "611  LP002983    Male     Yes          1  Graduate            No   \n",
       "612  LP002984    Male     Yes          2  Graduate            No   \n",
       "613  LP002990  Female      No          0  Graduate           Yes   \n",
       "\n",
       "     ApplicantIncome  CoapplicantIncome  LoanAmount  Loan_Amount_Term  \\\n",
       "609             2900                0.0        71.0             360.0   \n",
       "610             4106                0.0        40.0             180.0   \n",
       "611             8072              240.0       253.0             360.0   \n",
       "612             7583                0.0       187.0             360.0   \n",
       "613             4583                0.0       133.0             360.0   \n",
       "\n",
       "     Credit_History Property_Area Loan_Status  \n",
       "609             1.0         Rural           Y  \n",
       "610             1.0         Rural           Y  \n",
       "611             1.0         Urban           Y  \n",
       "612             1.0         Urban           Y  \n",
       "613             0.0     Semiurban           N  "
      ]
     },
     "execution_count": 171,
     "metadata": {},
     "output_type": "execute_result"
    }
   ],
   "source": [
    "LP.tail()"
   ]
  },
  {
   "cell_type": "code",
   "execution_count": 172,
   "metadata": {},
   "outputs": [
    {
     "data": {
      "text/plain": [
       "Loan_ID               object\n",
       "Gender                object\n",
       "Married               object\n",
       "Dependents            object\n",
       "Education             object\n",
       "Self_Employed         object\n",
       "ApplicantIncome        int64\n",
       "CoapplicantIncome    float64\n",
       "LoanAmount           float64\n",
       "Loan_Amount_Term     float64\n",
       "Credit_History       float64\n",
       "Property_Area         object\n",
       "Loan_Status           object\n",
       "dtype: object"
      ]
     },
     "execution_count": 172,
     "metadata": {},
     "output_type": "execute_result"
    }
   ],
   "source": [
    "LP.dtypes"
   ]
  },
  {
   "cell_type": "code",
   "execution_count": 173,
   "metadata": {},
   "outputs": [
    {
     "data": {
      "text/html": [
       "<div>\n",
       "<style scoped>\n",
       "    .dataframe tbody tr th:only-of-type {\n",
       "        vertical-align: middle;\n",
       "    }\n",
       "\n",
       "    .dataframe tbody tr th {\n",
       "        vertical-align: top;\n",
       "    }\n",
       "\n",
       "    .dataframe thead th {\n",
       "        text-align: right;\n",
       "    }\n",
       "</style>\n",
       "<table border=\"1\" class=\"dataframe\">\n",
       "  <thead>\n",
       "    <tr style=\"text-align: right;\">\n",
       "      <th></th>\n",
       "      <th>ApplicantIncome</th>\n",
       "      <th>CoapplicantIncome</th>\n",
       "      <th>LoanAmount</th>\n",
       "      <th>Loan_Amount_Term</th>\n",
       "      <th>Credit_History</th>\n",
       "    </tr>\n",
       "  </thead>\n",
       "  <tbody>\n",
       "    <tr>\n",
       "      <th>count</th>\n",
       "      <td>614.000000</td>\n",
       "      <td>614.000000</td>\n",
       "      <td>592.000000</td>\n",
       "      <td>600.00000</td>\n",
       "      <td>564.000000</td>\n",
       "    </tr>\n",
       "    <tr>\n",
       "      <th>mean</th>\n",
       "      <td>5403.459283</td>\n",
       "      <td>1621.245798</td>\n",
       "      <td>146.412162</td>\n",
       "      <td>342.00000</td>\n",
       "      <td>0.842199</td>\n",
       "    </tr>\n",
       "    <tr>\n",
       "      <th>std</th>\n",
       "      <td>6109.041673</td>\n",
       "      <td>2926.248369</td>\n",
       "      <td>85.587325</td>\n",
       "      <td>65.12041</td>\n",
       "      <td>0.364878</td>\n",
       "    </tr>\n",
       "    <tr>\n",
       "      <th>min</th>\n",
       "      <td>150.000000</td>\n",
       "      <td>0.000000</td>\n",
       "      <td>9.000000</td>\n",
       "      <td>12.00000</td>\n",
       "      <td>0.000000</td>\n",
       "    </tr>\n",
       "    <tr>\n",
       "      <th>25%</th>\n",
       "      <td>2877.500000</td>\n",
       "      <td>0.000000</td>\n",
       "      <td>100.000000</td>\n",
       "      <td>360.00000</td>\n",
       "      <td>1.000000</td>\n",
       "    </tr>\n",
       "    <tr>\n",
       "      <th>50%</th>\n",
       "      <td>3812.500000</td>\n",
       "      <td>1188.500000</td>\n",
       "      <td>128.000000</td>\n",
       "      <td>360.00000</td>\n",
       "      <td>1.000000</td>\n",
       "    </tr>\n",
       "    <tr>\n",
       "      <th>75%</th>\n",
       "      <td>5795.000000</td>\n",
       "      <td>2297.250000</td>\n",
       "      <td>168.000000</td>\n",
       "      <td>360.00000</td>\n",
       "      <td>1.000000</td>\n",
       "    </tr>\n",
       "    <tr>\n",
       "      <th>max</th>\n",
       "      <td>81000.000000</td>\n",
       "      <td>41667.000000</td>\n",
       "      <td>700.000000</td>\n",
       "      <td>480.00000</td>\n",
       "      <td>1.000000</td>\n",
       "    </tr>\n",
       "  </tbody>\n",
       "</table>\n",
       "</div>"
      ],
      "text/plain": [
       "       ApplicantIncome  CoapplicantIncome  LoanAmount  Loan_Amount_Term  \\\n",
       "count       614.000000         614.000000  592.000000         600.00000   \n",
       "mean       5403.459283        1621.245798  146.412162         342.00000   \n",
       "std        6109.041673        2926.248369   85.587325          65.12041   \n",
       "min         150.000000           0.000000    9.000000          12.00000   \n",
       "25%        2877.500000           0.000000  100.000000         360.00000   \n",
       "50%        3812.500000        1188.500000  128.000000         360.00000   \n",
       "75%        5795.000000        2297.250000  168.000000         360.00000   \n",
       "max       81000.000000       41667.000000  700.000000         480.00000   \n",
       "\n",
       "       Credit_History  \n",
       "count      564.000000  \n",
       "mean         0.842199  \n",
       "std          0.364878  \n",
       "min          0.000000  \n",
       "25%          1.000000  \n",
       "50%          1.000000  \n",
       "75%          1.000000  \n",
       "max          1.000000  "
      ]
     },
     "execution_count": 173,
     "metadata": {},
     "output_type": "execute_result"
    }
   ],
   "source": [
    "LP.describe()"
   ]
  },
  {
   "cell_type": "code",
   "execution_count": 174,
   "metadata": {},
   "outputs": [
    {
     "data": {
      "text/html": [
       "<div>\n",
       "<style scoped>\n",
       "    .dataframe tbody tr th:only-of-type {\n",
       "        vertical-align: middle;\n",
       "    }\n",
       "\n",
       "    .dataframe tbody tr th {\n",
       "        vertical-align: top;\n",
       "    }\n",
       "\n",
       "    .dataframe thead th {\n",
       "        text-align: right;\n",
       "    }\n",
       "</style>\n",
       "<table border=\"1\" class=\"dataframe\">\n",
       "  <thead>\n",
       "    <tr style=\"text-align: right;\">\n",
       "      <th></th>\n",
       "      <th>Loan_ID</th>\n",
       "      <th>Gender</th>\n",
       "      <th>Married</th>\n",
       "      <th>Dependents</th>\n",
       "      <th>Education</th>\n",
       "      <th>Self_Employed</th>\n",
       "      <th>Property_Area</th>\n",
       "      <th>Loan_Status</th>\n",
       "    </tr>\n",
       "  </thead>\n",
       "  <tbody>\n",
       "    <tr>\n",
       "      <th>count</th>\n",
       "      <td>614</td>\n",
       "      <td>601</td>\n",
       "      <td>611</td>\n",
       "      <td>599</td>\n",
       "      <td>614</td>\n",
       "      <td>582</td>\n",
       "      <td>614</td>\n",
       "      <td>614</td>\n",
       "    </tr>\n",
       "    <tr>\n",
       "      <th>unique</th>\n",
       "      <td>614</td>\n",
       "      <td>2</td>\n",
       "      <td>2</td>\n",
       "      <td>4</td>\n",
       "      <td>2</td>\n",
       "      <td>2</td>\n",
       "      <td>3</td>\n",
       "      <td>2</td>\n",
       "    </tr>\n",
       "    <tr>\n",
       "      <th>top</th>\n",
       "      <td>LP001138</td>\n",
       "      <td>Male</td>\n",
       "      <td>Yes</td>\n",
       "      <td>0</td>\n",
       "      <td>Graduate</td>\n",
       "      <td>No</td>\n",
       "      <td>Semiurban</td>\n",
       "      <td>Y</td>\n",
       "    </tr>\n",
       "    <tr>\n",
       "      <th>freq</th>\n",
       "      <td>1</td>\n",
       "      <td>489</td>\n",
       "      <td>398</td>\n",
       "      <td>345</td>\n",
       "      <td>480</td>\n",
       "      <td>500</td>\n",
       "      <td>233</td>\n",
       "      <td>422</td>\n",
       "    </tr>\n",
       "  </tbody>\n",
       "</table>\n",
       "</div>"
      ],
      "text/plain": [
       "         Loan_ID Gender Married Dependents Education Self_Employed  \\\n",
       "count        614    601     611        599       614           582   \n",
       "unique       614      2       2          4         2             2   \n",
       "top     LP001138   Male     Yes          0  Graduate            No   \n",
       "freq           1    489     398        345       480           500   \n",
       "\n",
       "       Property_Area Loan_Status  \n",
       "count            614         614  \n",
       "unique             3           2  \n",
       "top        Semiurban           Y  \n",
       "freq             233         422  "
      ]
     },
     "execution_count": 174,
     "metadata": {},
     "output_type": "execute_result"
    }
   ],
   "source": [
    "LP.describe(include=\"object\")"
   ]
  },
  {
   "cell_type": "code",
   "execution_count": 175,
   "metadata": {},
   "outputs": [],
   "source": [
    "#observation: count is not 614 in some of the columns there might be null values.credit_history column has 0 min and 1 max value so it is the category variable."
   ]
  },
  {
   "cell_type": "code",
   "execution_count": 176,
   "metadata": {},
   "outputs": [],
   "source": [
    "## Missing values"
   ]
  },
  {
   "cell_type": "code",
   "execution_count": 177,
   "metadata": {},
   "outputs": [
    {
     "data": {
      "text/plain": [
       "Loan_ID               0\n",
       "Gender               13\n",
       "Married               3\n",
       "Dependents           15\n",
       "Education             0\n",
       "Self_Employed        32\n",
       "ApplicantIncome       0\n",
       "CoapplicantIncome     0\n",
       "LoanAmount           22\n",
       "Loan_Amount_Term     14\n",
       "Credit_History       50\n",
       "Property_Area         0\n",
       "Loan_Status           0\n",
       "dtype: int64"
      ]
     },
     "execution_count": 177,
     "metadata": {},
     "output_type": "execute_result"
    }
   ],
   "source": [
    "LP.isna().sum()"
   ]
  },
  {
   "cell_type": "code",
   "execution_count": 178,
   "metadata": {},
   "outputs": [],
   "source": [
    "## number of unique values"
   ]
  },
  {
   "cell_type": "code",
   "execution_count": 179,
   "metadata": {},
   "outputs": [],
   "source": [
    "# for col in LP.columns:\n",
    "#     print(col)\n",
    "#     print(\"{} has {} no. of unique values and levels are {}\".format(col, LP.col.nunique(), LP.col.unique()))"
   ]
  },
  {
   "cell_type": "code",
   "execution_count": 180,
   "metadata": {},
   "outputs": [
    {
     "data": {
      "text/plain": [
       "Loan_ID              614\n",
       "Gender                 2\n",
       "Married                2\n",
       "Dependents             4\n",
       "Education              2\n",
       "Self_Employed          2\n",
       "ApplicantIncome      505\n",
       "CoapplicantIncome    287\n",
       "LoanAmount           203\n",
       "Loan_Amount_Term      10\n",
       "Credit_History         2\n",
       "Property_Area          3\n",
       "Loan_Status            2\n",
       "dtype: int64"
      ]
     },
     "execution_count": 180,
     "metadata": {},
     "output_type": "execute_result"
    }
   ],
   "source": [
    "LP.nunique()"
   ]
  },
  {
   "cell_type": "code",
   "execution_count": 181,
   "metadata": {},
   "outputs": [
    {
     "name": "stdout",
     "output_type": "stream",
     "text": [
      "Loan_ID\n"
     ]
    }
   ],
   "source": [
    "for col in LP.columns:\n",
    "    if(LP[col].nunique() == LP.shape[0]):\n",
    "        LP.drop([col],axis=1,inplace=True)\n",
    "        print(col)"
   ]
  },
  {
   "cell_type": "code",
   "execution_count": 182,
   "metadata": {},
   "outputs": [
    {
     "data": {
      "text/plain": [
       "(614, 12)"
      ]
     },
     "execution_count": 182,
     "metadata": {},
     "output_type": "execute_result"
    }
   ],
   "source": [
    "LP.shape #Loan_ID is dropped"
   ]
  },
  {
   "cell_type": "code",
   "execution_count": 183,
   "metadata": {},
   "outputs": [],
   "source": [
    "## type casting"
   ]
  },
  {
   "cell_type": "code",
   "execution_count": 184,
   "metadata": {},
   "outputs": [
    {
     "data": {
      "text/plain": [
       "Gender                object\n",
       "Married               object\n",
       "Dependents            object\n",
       "Education             object\n",
       "Self_Employed         object\n",
       "ApplicantIncome        int64\n",
       "CoapplicantIncome    float64\n",
       "LoanAmount           float64\n",
       "Loan_Amount_Term     float64\n",
       "Credit_History       float64\n",
       "Property_Area         object\n",
       "Loan_Status           object\n",
       "dtype: object"
      ]
     },
     "execution_count": 184,
     "metadata": {},
     "output_type": "execute_result"
    }
   ],
   "source": [
    "LP.dtypes"
   ]
  },
  {
   "cell_type": "code",
   "execution_count": 185,
   "metadata": {},
   "outputs": [
    {
     "name": "stdout",
     "output_type": "stream",
     "text": [
      "Gender - category\n",
      "Married - category\n",
      "Dependents - category\n",
      "Education - category\n",
      "Self_Employed - category\n",
      "ApplicantIncome float64\n",
      "CoapplicantIncome float64\n",
      "LoanAmount float64\n",
      "Loan_Amount_Term float64\n",
      "Credit_History - category\n",
      "Property_Area - category\n",
      "Loan_Status - category\n"
     ]
    }
   ],
   "source": [
    "for col in LP.columns:\n",
    "    if(LP[col].nunique() <5):\n",
    "        LP[col]=LP[col].astype(\"category\")\n",
    "        print(col,\"-\",LP[col].dtype)\n",
    "    else:\n",
    "       # LP[col] = pd.to_numeric(LP[col],errors=\"coerce\")\n",
    "        LP[col]=LP[col].astype(\"float\")\n",
    "        print(col,LP[col].dtype)"
   ]
  },
  {
   "cell_type": "code",
   "execution_count": 186,
   "metadata": {},
   "outputs": [],
   "source": [
    "## Target column distribution"
   ]
  },
  {
   "cell_type": "code",
   "execution_count": 187,
   "metadata": {},
   "outputs": [
    {
     "data": {
      "text/plain": [
       "Y    422\n",
       "N    192\n",
       "Name: Loan_Status, dtype: int64"
      ]
     },
     "execution_count": 187,
     "metadata": {},
     "output_type": "execute_result"
    }
   ],
   "source": [
    "LP.Loan_Status.value_counts()"
   ]
  },
  {
   "cell_type": "code",
   "execution_count": 188,
   "metadata": {},
   "outputs": [
    {
     "data": {
      "text/plain": [
       "Y    68.729642\n",
       "N    31.270358\n",
       "Name: Loan_Status, dtype: float64"
      ]
     },
     "execution_count": 188,
     "metadata": {},
     "output_type": "execute_result"
    }
   ],
   "source": [
    "LP.Loan_Status.value_counts(normalize=True)*100"
   ]
  },
  {
   "cell_type": "code",
   "execution_count": 189,
   "metadata": {},
   "outputs": [],
   "source": [
    "# not so balanced ."
   ]
  },
  {
   "cell_type": "code",
   "execution_count": 190,
   "metadata": {},
   "outputs": [
    {
     "name": "stdout",
     "output_type": "stream",
     "text": [
      "Duplicate Rows :\n"
     ]
    },
    {
     "data": {
      "text/html": [
       "<div>\n",
       "<style scoped>\n",
       "    .dataframe tbody tr th:only-of-type {\n",
       "        vertical-align: middle;\n",
       "    }\n",
       "\n",
       "    .dataframe tbody tr th {\n",
       "        vertical-align: top;\n",
       "    }\n",
       "\n",
       "    .dataframe thead th {\n",
       "        text-align: right;\n",
       "    }\n",
       "</style>\n",
       "<table border=\"1\" class=\"dataframe\">\n",
       "  <thead>\n",
       "    <tr style=\"text-align: right;\">\n",
       "      <th></th>\n",
       "      <th>Gender</th>\n",
       "      <th>Married</th>\n",
       "      <th>Dependents</th>\n",
       "      <th>Education</th>\n",
       "      <th>Self_Employed</th>\n",
       "      <th>ApplicantIncome</th>\n",
       "      <th>CoapplicantIncome</th>\n",
       "      <th>LoanAmount</th>\n",
       "      <th>Loan_Amount_Term</th>\n",
       "      <th>Credit_History</th>\n",
       "      <th>Property_Area</th>\n",
       "      <th>Loan_Status</th>\n",
       "    </tr>\n",
       "  </thead>\n",
       "  <tbody>\n",
       "  </tbody>\n",
       "</table>\n",
       "</div>"
      ],
      "text/plain": [
       "Empty DataFrame\n",
       "Columns: [Gender, Married, Dependents, Education, Self_Employed, ApplicantIncome, CoapplicantIncome, LoanAmount, Loan_Amount_Term, Credit_History, Property_Area, Loan_Status]\n",
       "Index: []"
      ]
     },
     "execution_count": 190,
     "metadata": {},
     "output_type": "execute_result"
    }
   ],
   "source": [
    "# Selecting duplicate rows except first  \n",
    "# occurrence based on all columns \n",
    "duplicate = LP[LP.duplicated()] \n",
    "  \n",
    "print(\"Duplicate Rows :\") \n",
    "  \n",
    "# Print the resultant Dataframe \n",
    "duplicate "
   ]
  },
  {
   "cell_type": "code",
   "execution_count": 191,
   "metadata": {},
   "outputs": [],
   "source": [
    "# there are no duplicate rows"
   ]
  },
  {
   "cell_type": "code",
   "execution_count": 192,
   "metadata": {},
   "outputs": [
    {
     "name": "stdout",
     "output_type": "stream",
     "text": [
      "**************************************\n",
      "Feature: Gender --> 2 unique variables \n",
      "The list of unique variables is ['Male', 'Female', nan] \n",
      "Their count is: \n",
      "Male      489\n",
      "Female    112\n",
      "Name: Gender, dtype: int64 \n",
      "**************************************\n",
      "Feature: Married --> 2 unique variables \n",
      "The list of unique variables is ['No', 'Yes', nan] \n",
      "Their count is: \n",
      "Yes    398\n",
      "No     213\n",
      "Name: Married, dtype: int64 \n",
      "**************************************\n",
      "Feature: Dependents --> 4 unique variables \n",
      "The list of unique variables is ['0', '1', '2', '3+', nan] \n",
      "Their count is: \n",
      "0     345\n",
      "1     102\n",
      "2     101\n",
      "3+     51\n",
      "Name: Dependents, dtype: int64 \n",
      "**************************************\n",
      "Feature: Education --> 2 unique variables \n",
      "The list of unique variables is ['Graduate', 'Not Graduate'] \n",
      "Their count is: \n",
      "Graduate        480\n",
      "Not Graduate    134\n",
      "Name: Education, dtype: int64 \n",
      "**************************************\n",
      "Feature: Self_Employed --> 2 unique variables \n",
      "The list of unique variables is ['No', 'Yes', nan] \n",
      "Their count is: \n",
      "No     500\n",
      "Yes     82\n",
      "Name: Self_Employed, dtype: int64 \n",
      "**************************************\n",
      "Feature: ApplicantIncome --> 505 unique variables \n",
      "The list of unique variables is [5849.0, 4583.0, 3000.0, 2583.0, 6000.0, 5417.0, 2333.0, 3036.0, 4006.0, 12841.0, 3200.0, 2500.0, 3073.0, 1853.0, 1299.0, 4950.0, 3596.0, 3510.0, 4887.0, 2600.0, 7660.0, 5955.0, 3365.0, 3717.0, 9560.0, 2799.0, 4226.0, 1442.0, 3750.0, 4166.0, 3167.0, 4692.0, 3500.0, 12500.0, 2275.0, 1828.0, 3667.0, 3748.0, 3600.0, 1800.0, 2400.0, 3941.0, 4695.0, 3410.0, 5649.0, 5821.0, 2645.0, 4000.0, 1928.0, 3086.0, 4230.0, 4616.0, 11500.0, 2708.0, 2132.0, 3366.0, 8080.0, 3357.0, 3029.0, 2609.0, 4945.0, 5726.0, 10750.0, 7100.0, 4300.0, 3208.0, 1875.0, 4755.0, 5266.0, 1000.0, 3333.0, 3846.0, 2395.0, 1378.0, 3988.0, 2366.0, 8566.0, 5695.0, 2958.0, 6250.0, 3273.0, 4133.0, 3620.0, 6782.0, 2484.0, 1977.0, 4188.0, 1759.0, 4288.0, 4843.0, 13650.0, 4652.0, 3816.0, 3052.0, 11417.0, 7333.0, 3800.0, 2071.0, 5316.0, 2929.0, 3572.0, 7451.0, 5050.0, 14583.0, 2214.0, 5568.0, 10408.0, 5667.0, 2137.0, 2957.0, 3692.0, 23803.0, 3865.0, 10513.0, 6080.0, 20166.0, 2014.0, 2718.0, 3459.0, 4895.0, 3316.0, 14999.0, 4200.0, 5042.0, 6950.0, 2698.0, 11757.0, 2330.0, 14866.0, 1538.0, 10000.0, 4860.0, 6277.0, 2577.0, 9166.0, 2281.0, 3254.0, 39999.0, 9538.0, 2980.0, 1863.0, 7933.0, 3089.0, 4167.0, 9323.0, 3707.0, 2439.0, 2237.0, 8000.0, 1820.0, 51763.0, 3522.0, 5708.0, 4344.0, 3497.0, 2045.0, 5516.0, 6400.0, 1916.0, 4600.0, 33846.0, 3625.0, 39147.0, 2178.0, 2383.0, 674.0, 9328.0, 4885.0, 12000.0, 6033.0, 3858.0, 4191.0, 3125.0, 8333.0, 1907.0, 3416.0, 11000.0, 4923.0, 3992.0, 3917.0, 4408.0, 3244.0, 3975.0, 2479.0, 3418.0, 3430.0, 7787.0, 5703.0, 3173.0, 3850.0, 150.0, 3727.0, 5000.0, 4283.0, 2221.0, 4009.0, 2971.0, 7578.0, 3250.0, 4735.0, 4758.0, 2491.0, 3716.0, 3189.0, 3155.0, 5500.0, 5746.0, 3463.0, 3812.0, 3315.0, 5819.0, 2510.0, 2965.0, 3406.0, 6050.0, 9703.0, 6608.0, 2882.0, 1809.0, 1668.0, 3427.0, 2661.0, 16250.0, 3083.0, 6045.0, 5250.0, 14683.0, 4931.0, 6083.0, 2060.0, 3481.0, 7200.0, 5166.0, 4095.0, 4708.0, 4333.0, 2876.0, 3237.0, 11146.0, 2833.0, 2620.0, 3900.0, 2750.0, 3993.0, 3103.0, 4100.0, 4053.0, 3927.0, 2301.0, 1811.0, 20667.0, 3158.0, 3704.0, 4124.0, 9508.0, 3075.0, 4400.0, 3153.0, 4416.0, 6875.0, 4666.0, 2875.0, 1625.0, 2000.0, 3762.0, 20233.0, 7667.0, 2917.0, 2927.0, 2507.0, 2473.0, 3399.0, 2058.0, 3541.0, 4342.0, 3601.0, 3166.0, 15000.0, 8666.0, 4917.0, 5818.0, 4384.0, 2935.0, 63337.0, 9833.0, 5503.0, 1830.0, 4160.0, 2647.0, 2378.0, 4554.0, 2499.0, 3523.0, 6333.0, 2625.0, 9083.0, 8750.0, 2666.0, 2423.0, 3813.0, 3875.0, 5167.0, 4723.0, 4750.0, 3013.0, 6822.0, 6216.0, 5124.0, 6325.0, 19730.0, 15759.0, 5185.0, 3062.0, 2764.0, 4817.0, 4310.0, 3069.0, 5391.0, 5941.0, 7167.0, 4566.0, 2346.0, 3010.0, 5488.0, 9167.0, 9504.0, 1993.0, 3100.0, 3276.0, 3180.0, 3033.0, 3902.0, 1500.0, 2889.0, 2755.0, 1963.0, 7441.0, 4547.0, 2167.0, 2213.0, 8300.0, 81000.0, 3867.0, 6256.0, 6096.0, 2253.0, 2149.0, 2995.0, 1600.0, 1025.0, 3246.0, 5829.0, 2720.0, 7250.0, 14880.0, 4606.0, 5935.0, 2920.0, 2717.0, 8624.0, 6500.0, 12876.0, 2425.0, 10047.0, 1926.0, 10416.0, 7142.0, 3660.0, 7901.0, 4707.0, 37719.0, 3466.0, 3539.0, 3340.0, 2769.0, 2309.0, 1958.0, 3948.0, 2483.0, 7085.0, 3859.0, 4301.0, 3708.0, 4354.0, 8334.0, 2083.0, 7740.0, 3015.0, 5191.0, 2947.0, 16692.0, 210.0, 3450.0, 2653.0, 4691.0, 5532.0, 16525.0, 6700.0, 2873.0, 16667.0, 4350.0, 3095.0, 10833.0, 3547.0, 18333.0, 2435.0, 2699.0, 5333.0, 3691.0, 17263.0, 3597.0, 3326.0, 4625.0, 2895.0, 6283.0, 645.0, 3159.0, 4865.0, 4050.0, 3814.0, 20833.0, 3583.0, 13262.0, 3598.0, 6065.0, 3283.0, 2130.0, 5815.0, 2031.0, 3074.0, 4683.0, 3400.0, 2192.0, 5677.0, 7948.0, 4680.0, 17500.0, 3775.0, 5285.0, 2679.0, 6783.0, 4281.0, 3588.0, 11250.0, 18165.0, 2550.0, 6133.0, 3617.0, 6417.0, 4608.0, 2138.0, 3652.0, 2239.0, 3017.0, 2768.0, 3358.0, 2526.0, 2785.0, 6633.0, 2492.0, 2454.0, 3593.0, 5468.0, 2667.0, 10139.0, 3887.0, 4180.0, 3675.0, 19484.0, 5923.0, 5800.0, 8799.0, 4467.0, 3417.0, 5116.0, 16666.0, 6125.0, 6406.0, 3087.0, 3229.0, 1782.0, 3182.0, 6540.0, 1836.0, 1880.0, 2787.0, 2297.0, 2165.0, 2726.0, 9357.0, 16120.0, 3833.0, 6383.0, 2987.0, 9963.0, 5780.0, 416.0, 2894.0, 3676.0, 3987.0, 3232.0, 2900.0, 4106.0, 8072.0, 7583.0] \n",
      "Their count is: \n",
      "2500.0     9\n",
      "2600.0     6\n",
      "4583.0     6\n",
      "6000.0     6\n",
      "3750.0     5\n",
      "5000.0     5\n",
      "3333.0     5\n",
      "4166.0     5\n",
      "6250.0     4\n",
      "2400.0     4\n",
      "2583.0     4\n",
      "8333.0     4\n",
      "3166.0     3\n",
      "10000.0    3\n",
      "4333.0     3\n",
      "3400.0     3\n",
      "3000.0     3\n",
      "2333.0     3\n",
      "5417.0     3\n",
      "3167.0     3\n",
      "4000.0     3\n",
      "3500.0     3\n",
      "3510.0     2\n",
      "1820.0     2\n",
      "1025.0     2\n",
      "9323.0     2\n",
      "3159.0     2\n",
      "3717.0     2\n",
      "5703.0     2\n",
      "3418.0     2\n",
      "3859.0     2\n",
      "3173.0     2\n",
      "7333.0     2\n",
      "5250.0     2\n",
      "3667.0     2\n",
      "12000.0    2\n",
      "4750.0     2\n",
      "2213.0     2\n",
      "4283.0     2\n",
      "2666.0     2\n",
      "2014.0     2\n",
      "2383.0     2\n",
      "5746.0     2\n",
      "2947.0     2\n",
      "2479.0     2\n",
      "2378.0     2\n",
      "5500.0     2\n",
      "2083.0     2\n",
      "3466.0     2\n",
      "1958.0     2\n",
      "6400.0     2\n",
      "8750.0     2\n",
      "3083.0     2\n",
      "4300.0     2\n",
      "2917.0     2\n",
      "4652.0     2\n",
      "2833.0     2\n",
      "14583.0    2\n",
      "3200.0     2\n",
      "1800.0     2\n",
      "7583.0     1\n",
      "4226.0     1\n",
      "8566.0     1\n",
      "3089.0     1\n",
      "3813.0     1\n",
      "4708.0     1\n",
      "1853.0     1\n",
      "12876.0    1\n",
      "3993.0     1\n",
      "5677.0     1\n",
      "2221.0     1\n",
      "1759.0     1\n",
      "3707.0     1\n",
      "5191.0     1\n",
      "6325.0     1\n",
      "3073.0     1\n",
      "2510.0     1\n",
      "20233.0    1\n",
      "5488.0     1\n",
      "3208.0     1\n",
      "4600.0     1\n",
      "1916.0     1\n",
      "11417.0    1\n",
      "4200.0     1\n",
      "3992.0     1\n",
      "3010.0     1\n",
      "1668.0     1\n",
      "3100.0     1\n",
      "3074.0     1\n",
      "1836.0     1\n",
      "14866.0    1\n",
      "4680.0     1\n",
      "6256.0     1\n",
      "3598.0     1\n",
      "3013.0     1\n",
      "1963.0     1\n",
      "3583.0     1\n",
      "2920.0     1\n",
      "3660.0     1\n",
      "2698.0     1\n",
      "3588.0     1\n",
      "3250.0     1\n",
      "2058.0     1\n",
      "5955.0     1\n",
      "3596.0     1\n",
      "2625.0     1\n",
      "2366.0     1\n",
      "3463.0     1\n",
      "3748.0     1\n",
      "13650.0    1\n",
      "3365.0     1\n",
      "5042.0     1\n",
      "4344.0     1\n",
      "2484.0     1\n",
      "2395.0     1\n",
      "2060.0     1\n",
      "5708.0     1\n",
      "2980.0     1\n",
      "3900.0     1\n",
      "16525.0    1\n",
      "3948.0     1\n",
      "2900.0     1\n",
      "5649.0     1\n",
      "2492.0     1\n",
      "4106.0     1\n",
      "4467.0     1\n",
      "5285.0     1\n",
      "4895.0     1\n",
      "37719.0    1\n",
      "3326.0     1\n",
      "3315.0     1\n",
      "3254.0     1\n",
      "7100.0     1\n",
      "5818.0     1\n",
      "4124.0     1\n",
      "20667.0    1\n",
      "15000.0    1\n",
      "19484.0    1\n",
      "10833.0    1\n",
      "4931.0     1\n",
      "4191.0     1\n",
      "3675.0     1\n",
      "5935.0     1\n",
      "2425.0     1\n",
      "3927.0     1\n",
      "3775.0     1\n",
      "3075.0     1\n",
      "4342.0     1\n",
      "2889.0     1\n",
      "3366.0     1\n",
      "2239.0     1\n",
      "2799.0     1\n",
      "3800.0     1\n",
      "4843.0     1\n",
      "9167.0     1\n",
      "10513.0    1\n",
      "3410.0     1\n",
      "5050.0     1\n",
      "5819.0     1\n",
      "3850.0     1\n",
      "2935.0     1\n",
      "11000.0    1\n",
      "4100.0     1\n",
      "2473.0     1\n",
      "3062.0     1\n",
      "3539.0     1\n",
      "5532.0     1\n",
      "6045.0     1\n",
      "2309.0     1\n",
      "7948.0     1\n",
      "2526.0     1\n",
      "4950.0     1\n",
      "2281.0     1\n",
      "3727.0     1\n",
      "2253.0     1\n",
      "2995.0     1\n",
      "3601.0     1\n",
      "2679.0     1\n",
      "5391.0     1\n",
      "3283.0     1\n",
      "2717.0     1\n",
      "1442.0     1\n",
      "8300.0     1\n",
      "1000.0     1\n",
      "4288.0     1\n",
      "5568.0     1\n",
      "3572.0     1\n",
      "6080.0     1\n",
      "8000.0     1\n",
      "150.0      1\n",
      "4416.0     1\n",
      "2000.0     1\n",
      "4160.0     1\n",
      "3180.0     1\n",
      "1600.0     1\n",
      "81000.0    1\n",
      "2720.0     1\n",
      "14880.0    1\n",
      "210.0      1\n",
      "4608.0     1\n",
      "416.0      1\n",
      "9963.0     1\n",
      "3232.0     1\n",
      "20833.0    1\n",
      "2137.0     1\n",
      "8666.0     1\n",
      "4230.0     1\n",
      "2927.0     1\n",
      "10139.0    1\n",
      "5941.0     1\n",
      "5923.0     1\n",
      "14999.0    1\n",
      "4817.0     1\n",
      "2718.0     1\n",
      "3125.0     1\n",
      "3450.0     1\n",
      "2214.0     1\n",
      "4566.0     1\n",
      "5124.0     1\n",
      "3246.0     1\n",
      "2873.0     1\n",
      "4133.0     1\n",
      "9833.0     1\n",
      "8334.0     1\n",
      "2031.0     1\n",
      "2435.0     1\n",
      "4923.0     1\n",
      "2645.0     1\n",
      "9357.0     1\n",
      "3427.0     1\n",
      "4009.0     1\n",
      "2423.0     1\n",
      "3069.0     1\n",
      "3691.0     1\n",
      "4887.0     1\n",
      "16692.0    1\n",
      "3987.0     1\n",
      "3858.0     1\n",
      "3975.0     1\n",
      "20166.0    1\n",
      "1811.0     1\n",
      "5849.0     1\n",
      "10408.0    1\n",
      "3052.0     1\n",
      "3459.0     1\n",
      "3988.0     1\n",
      "4860.0     1\n",
      "9328.0     1\n",
      "3762.0     1\n",
      "1830.0     1\n",
      "4554.0     1\n",
      "5800.0     1\n",
      "3708.0     1\n",
      "8799.0     1\n",
      "5185.0     1\n",
      "6125.0     1\n",
      "3358.0     1\n",
      "3676.0     1\n",
      "9083.0     1\n",
      "3357.0     1\n",
      "4865.0     1\n",
      "2507.0     1\n",
      "4053.0     1\n",
      "2769.0     1\n",
      "7667.0     1\n",
      "4917.0     1\n",
      "6417.0     1\n",
      "7441.0     1\n",
      "6700.0     1\n",
      "11757.0    1\n",
      "4692.0     1\n",
      "3273.0     1\n",
      "2958.0     1\n",
      "5503.0     1\n",
      "2178.0     1\n",
      "2491.0     1\n",
      "3846.0     1\n",
      "2138.0     1\n",
      "3237.0     1\n",
      "2750.0     1\n",
      "6500.0     1\n",
      "4301.0     1\n",
      "11250.0    1\n",
      "4735.0     1\n",
      "2726.0     1\n",
      "23803.0    1\n",
      "5695.0     1\n",
      "2929.0     1\n",
      "3399.0     1\n",
      "3189.0     1\n",
      "4310.0     1\n",
      "3033.0     1\n",
      "3087.0     1\n",
      "3229.0     1\n",
      "10750.0    1\n",
      "7167.0     1\n",
      "7451.0     1\n",
      "4691.0     1\n",
      "2149.0     1\n",
      "7085.0     1\n",
      "9703.0     1\n",
      "8080.0     1\n",
      "2045.0     1\n",
      "3620.0     1\n",
      "674.0      1\n",
      "2876.0     1\n",
      "6608.0     1\n",
      "1907.0     1\n",
      "3704.0     1\n",
      "3812.0     1\n",
      "9504.0     1\n",
      "8624.0     1\n",
      "51763.0    1\n",
      "6096.0     1\n",
      "6133.0     1\n",
      "8072.0     1\n",
      "1782.0     1\n",
      "2609.0     1\n",
      "4758.0     1\n",
      "2301.0     1\n",
      "6783.0     1\n",
      "2647.0     1\n",
      "9508.0     1\n",
      "3875.0     1\n",
      "2165.0     1\n",
      "11146.0    1\n",
      "3036.0     1\n",
      "3833.0     1\n",
      "4050.0     1\n",
      "6033.0     1\n",
      "10047.0    1\n",
      "15759.0    1\n",
      "3086.0     1\n",
      "2275.0     1\n",
      "2330.0     1\n",
      "5829.0     1\n",
      "3625.0     1\n",
      "1809.0     1\n",
      "2167.0     1\n",
      "3430.0     1\n",
      "2653.0     1\n",
      "4885.0     1\n",
      "2667.0     1\n",
      "2987.0     1\n",
      "2454.0     1\n",
      "5116.0     1\n",
      "2439.0     1\n",
      "4723.0     1\n",
      "2237.0     1\n",
      "2971.0     1\n",
      "6050.0     1\n",
      "2895.0     1\n",
      "3417.0     1\n",
      "39999.0    1\n",
      "4167.0     1\n",
      "5667.0     1\n",
      "3017.0     1\n",
      "7660.0     1\n",
      "6065.0     1\n",
      "2132.0     1\n",
      "3029.0     1\n",
      "3692.0     1\n",
      "2882.0     1\n",
      "1538.0     1\n",
      "4408.0     1\n",
      "3406.0     1\n",
      "645.0      1\n",
      "2755.0     1\n",
      "2764.0     1\n",
      "5780.0     1\n",
      "6216.0     1\n",
      "3814.0     1\n",
      "3887.0     1\n",
      "4683.0     1\n",
      "2297.0     1\n",
      "10416.0    1\n",
      "14683.0    1\n",
      "16120.0    1\n",
      "18333.0    1\n",
      "12500.0    1\n",
      "4281.0     1\n",
      "5166.0     1\n",
      "2577.0     1\n",
      "6822.0     1\n",
      "3597.0     1\n",
      "5815.0     1\n",
      "3867.0     1\n",
      "3015.0     1\n",
      "9560.0     1\n",
      "5266.0     1\n",
      "16250.0    1\n",
      "6950.0     1\n",
      "4606.0     1\n",
      "3617.0     1\n",
      "2699.0     1\n",
      "6283.0     1\n",
      "6406.0     1\n",
      "6383.0     1\n",
      "16667.0    1\n",
      "12841.0    1\n",
      "5316.0     1\n",
      "4707.0     1\n",
      "4547.0     1\n",
      "3103.0     1\n",
      "1863.0     1\n",
      "1625.0     1\n",
      "3153.0     1\n",
      "5516.0     1\n",
      "4180.0     1\n",
      "3547.0     1\n",
      "3902.0     1\n",
      "7933.0     1\n",
      "2550.0     1\n",
      "3182.0     1\n",
      "11500.0    1\n",
      "1926.0     1\n",
      "1500.0     1\n",
      "3481.0     1\n",
      "4006.0     1\n",
      "2894.0     1\n",
      "17263.0    1\n",
      "2071.0     1\n",
      "6083.0     1\n",
      "3917.0     1\n",
      "4354.0     1\n",
      "4350.0     1\n",
      "3541.0     1\n",
      "7142.0     1\n",
      "3593.0     1\n",
      "9166.0     1\n",
      "7901.0     1\n",
      "3600.0     1\n",
      "7740.0     1\n",
      "1828.0     1\n",
      "1928.0     1\n",
      "4616.0     1\n",
      "7200.0     1\n",
      "3816.0     1\n",
      "4384.0     1\n",
      "2965.0     1\n",
      "2192.0     1\n",
      "3416.0     1\n",
      "2768.0     1\n",
      "1880.0     1\n",
      "4400.0     1\n",
      "4695.0     1\n",
      "3865.0     1\n",
      "4095.0     1\n",
      "4188.0     1\n",
      "3497.0     1\n",
      "2875.0     1\n",
      "2661.0     1\n",
      "3095.0     1\n",
      "2483.0     1\n",
      "39147.0    1\n",
      "4755.0     1\n",
      "17500.0    1\n",
      "1299.0     1\n",
      "5726.0     1\n",
      "3522.0     1\n",
      "6633.0     1\n",
      "7578.0     1\n",
      "4666.0     1\n",
      "3158.0     1\n",
      "3523.0     1\n",
      "1993.0     1\n",
      "33846.0    1\n",
      "6277.0     1\n",
      "19730.0    1\n",
      "13262.0    1\n",
      "5468.0     1\n",
      "7787.0     1\n",
      "3941.0     1\n",
      "3155.0     1\n",
      "4625.0     1\n",
      "6782.0     1\n",
      "4945.0     1\n",
      "2957.0     1\n",
      "18165.0    1\n",
      "2499.0     1\n",
      "2785.0     1\n",
      "5167.0     1\n",
      "5333.0     1\n",
      "16666.0    1\n",
      "5821.0     1\n",
      "2708.0     1\n",
      "1977.0     1\n",
      "1378.0     1\n",
      "1875.0     1\n",
      "3244.0     1\n",
      "3316.0     1\n",
      "2346.0     1\n",
      "2620.0     1\n",
      "7250.0     1\n",
      "3716.0     1\n",
      "3276.0     1\n",
      "63337.0    1\n",
      "9538.0     1\n",
      "2130.0     1\n",
      "6875.0     1\n",
      "2787.0     1\n",
      "3652.0     1\n",
      "6540.0     1\n",
      "3340.0     1\n",
      "6333.0     1\n",
      "Name: ApplicantIncome, dtype: int64 \n",
      "**************************************\n",
      "Feature: CoapplicantIncome --> 287 unique variables \n",
      "The list of unique variables is [0.0, 1508.0, 2358.0, 4196.0, 1516.0, 2504.0, 1526.0, 10968.0, 700.0, 1840.0, 8106.0, 2840.0, 1086.0, 3500.0, 5625.0, 1911.0, 1917.0, 2925.0, 2253.0, 1040.0, 2083.0, 3369.0, 1667.0, 3000.0, 2067.0, 1330.0, 1459.0, 7210.0, 1668.0, 1213.0, 2336.0, 3440.0, 2275.0, 1644.0, 1167.0, 1591.0, 2200.0, 2250.0, 2859.0, 3796.0, 3449.0, 4595.0, 2254.0, 3066.0, 1875.0, 1774.0, 4750.0, 3022.0, 4000.0, 2166.0, 1881.0, 2531.0, 2000.0, 2118.0, 4167.0, 2900.0, 5654.0, 1820.0, 2302.0, 997.0, 3541.0, 3263.0, 3806.0, 3583.0, 754.0, 1030.0, 1126.0, 3600.0, 2333.0, 4114.0, 2283.0, 1398.0, 2142.0, 2667.0, 8980.0, 2014.0, 1640.0, 3850.0, 2569.0, 1929.0, 7750.0, 1430.0, 2034.0, 4486.0, 1425.0, 1666.0, 830.0, 3750.0, 1041.0, 1280.0, 1447.0, 3166.0, 3333.0, 1769.0, 736.0, 1964.0, 1619.0, 11300.0, 1451.0, 7250.0, 5063.0, 2138.0, 5296.0, 2583.0, 2365.0, 2816.0, 2500.0, 1083.0, 1250.0, 3021.0, 983.0, 1800.0, 1775.0, 2383.0, 1717.0, 2791.0, 1010.0, 1695.0, 2054.0, 2598.0, 1779.0, 1260.0, 5000.0, 1983.0, 5701.0, 1300.0, 4417.0, 4333.0, 1843.0, 1868.0, 3890.0, 2167.0, 7101.0, 2100.0, 4250.0, 2209.0, 3447.0, 1387.0, 1811.0, 1560.0, 1857.0, 2223.0, 1842.0, 3274.0, 2426.0, 800.0, 985.7999877999998, 3053.0, 2416.0, 3334.0, 2541.0, 2934.0, 1750.0, 1803.0, 1863.0, 2405.0, 2134.0, 189.0, 1590.0, 2985.0, 4983.0, 2160.0, 2451.0, 1793.0, 1833.0, 4490.0, 688.0, 4600.0, 1587.0, 1229.0, 2330.0, 2458.0, 3230.0, 2168.0, 4583.0, 6250.0, 505.0, 3167.0, 3667.0, 3033.0, 5266.0, 7873.0, 1987.0, 923.0, 4996.0, 4232.0, 1600.0, 3136.0, 2417.0, 2115.0, 1625.0, 1400.0, 484.0, 20000.0, 2400.0, 2033.0, 3237.0, 2773.0, 1417.0, 1719.0, 4300.0, 16.12000084, 2340.0, 1851.0, 1125.0, 5064.0, 1993.0, 8333.0, 1210.0, 1376.0, 1710.0, 1542.0, 1255.0, 1456.0, 1733.0, 2466.0, 4083.0, 2188.0, 1664.0, 2917.0, 2079.0, 1500.0, 4648.0, 1014.0, 1872.0, 1603.0, 3150.0, 2436.0, 2785.0, 1131.0, 2157.0, 913.0, 1700.0, 2857.0, 4416.0, 3683.0, 5624.0, 5302.0, 1483.0, 6667.0, 3013.0, 1287.0, 2004.0, 2035.0, 6666.0, 3666.0, 3428.0, 1632.0, 1915.0, 1742.0, 1424.0, 7166.0, 2087.0, 1302.0, 5500.0, 2042.0, 3906.0, 536.0, 2845.0, 2524.0, 663.0, 1950.0, 1783.0, 2016.0, 2375.0, 3250.0, 4266.0, 1032.0, 2669.0, 2306.0, 242.0, 2064.0, 461.0, 2210.0, 2739.0, 2232.0, 33837.0, 1522.0, 3416.0, 3300.0, 1000.0, 41667.0, 2792.0, 4301.0, 3800.0, 1411.0, 240.0] \n",
      "Their count is: \n",
      "0.000000        273\n",
      "1666.000000       5\n",
      "2083.000000       5\n",
      "2500.000000       5\n",
      "1750.000000       3\n",
      "1459.000000       3\n",
      "2333.000000       3\n",
      "1800.000000       3\n",
      "1625.000000       3\n",
      "2250.000000       3\n",
      "5625.000000       3\n",
      "2451.000000       2\n",
      "1640.000000       2\n",
      "2917.000000       2\n",
      "1560.000000       2\n",
      "20000.000000      2\n",
      "1717.000000       2\n",
      "1950.000000       2\n",
      "1843.000000       2\n",
      "2569.000000       2\n",
      "3750.000000       2\n",
      "4167.000000       2\n",
      "3500.000000       2\n",
      "2925.000000       2\n",
      "1300.000000       2\n",
      "1430.000000       2\n",
      "754.000000        2\n",
      "3167.000000       2\n",
      "1667.000000       2\n",
      "4416.000000       2\n",
      "1917.000000       2\n",
      "2054.000000       2\n",
      "1250.000000       2\n",
      "2167.000000       2\n",
      "1833.000000       2\n",
      "2531.000000       2\n",
      "2000.000000       2\n",
      "3000.000000       2\n",
      "1451.000000       2\n",
      "4750.000000       2\n",
      "5624.000000       1\n",
      "2306.000000       1\n",
      "1260.000000       1\n",
      "1842.000000       1\n",
      "1851.000000       1\n",
      "1590.000000       1\n",
      "2383.000000       1\n",
      "2598.000000       1\n",
      "1820.000000       1\n",
      "3428.000000       1\n",
      "3022.000000       1\n",
      "2840.000000       1\n",
      "2900.000000       1\n",
      "1508.000000       1\n",
      "1210.000000       1\n",
      "8106.000000       1\n",
      "5266.000000       1\n",
      "4486.000000       1\n",
      "6250.000000       1\n",
      "4232.000000       1\n",
      "3666.000000       1\n",
      "3906.000000       1\n",
      "1255.000000       1\n",
      "3274.000000       1\n",
      "1587.000000       1\n",
      "4333.000000       1\n",
      "2067.000000       1\n",
      "1733.000000       1\n",
      "3237.000000       1\n",
      "1083.000000       1\n",
      "2115.000000       1\n",
      "3890.000000       1\n",
      "2302.000000       1\n",
      "2785.000000       1\n",
      "4595.000000       1\n",
      "3150.000000       1\n",
      "3053.000000       1\n",
      "1526.000000       1\n",
      "2209.000000       1\n",
      "1483.000000       1\n",
      "3800.000000       1\n",
      "1591.000000       1\n",
      "2034.000000       1\n",
      "913.000000        1\n",
      "461.000000        1\n",
      "11300.000000      1\n",
      "2014.000000       1\n",
      "1014.000000       1\n",
      "1742.000000       1\n",
      "1700.000000       1\n",
      "2223.000000       1\n",
      "2466.000000       1\n",
      "2400.000000       1\n",
      "2405.000000       1\n",
      "7750.000000       1\n",
      "3449.000000       1\n",
      "240.000000        1\n",
      "1000.000000       1\n",
      "242.000000        1\n",
      "2016.000000       1\n",
      "536.000000        1\n",
      "1424.000000       1\n",
      "1632.000000       1\n",
      "1872.000000       1\n",
      "1664.000000       1\n",
      "1456.000000       1\n",
      "1376.000000       1\n",
      "484.000000        1\n",
      "2426.000000       1\n",
      "3136.000000       1\n",
      "1600.000000       1\n",
      "189.000000        1\n",
      "688.000000        1\n",
      "1868.000000       1\n",
      "800.000000        1\n",
      "2816.000000       1\n",
      "736.000000        1\n",
      "830.000000        1\n",
      "1280.000000       1\n",
      "4000.000000       1\n",
      "2336.000000       1\n",
      "1040.000000       1\n",
      "1840.000000       1\n",
      "41667.000000      1\n",
      "4196.000000       1\n",
      "2253.000000       1\n",
      "1875.000000       1\n",
      "4490.000000       1\n",
      "3806.000000       1\n",
      "1929.000000       1\n",
      "2791.000000       1\n",
      "10968.000000      1\n",
      "7873.000000       1\n",
      "2087.000000       1\n",
      "985.799988        1\n",
      "4417.000000       1\n",
      "2524.000000       1\n",
      "3334.000000       1\n",
      "1542.000000       1\n",
      "1417.000000       1\n",
      "5000.000000       1\n",
      "983.000000        1\n",
      "2142.000000       1\n",
      "2100.000000       1\n",
      "2667.000000       1\n",
      "1030.000000       1\n",
      "1213.000000       1\n",
      "1330.000000       1\n",
      "2739.000000       1\n",
      "2157.000000       1\n",
      "2859.000000       1\n",
      "2035.000000       1\n",
      "1783.000000       1\n",
      "2934.000000       1\n",
      "2033.000000       1\n",
      "3166.000000       1\n",
      "8980.000000       1\n",
      "5063.000000       1\n",
      "3683.000000       1\n",
      "1125.000000       1\n",
      "1857.000000       1\n",
      "2254.000000       1\n",
      "4114.000000       1\n",
      "8333.000000       1\n",
      "2857.000000       1\n",
      "2845.000000       1\n",
      "2283.000000       1\n",
      "2417.000000       1\n",
      "2792.000000       1\n",
      "2232.000000       1\n",
      "2004.000000       1\n",
      "5064.000000       1\n",
      "2168.000000       1\n",
      "505.000000        1\n",
      "923.000000        1\n",
      "1964.000000       1\n",
      "1010.000000       1\n",
      "1644.000000       1\n",
      "1769.000000       1\n",
      "1668.000000       1\n",
      "1516.000000       1\n",
      "4983.000000       1\n",
      "3667.000000       1\n",
      "3333.000000       1\n",
      "3263.000000       1\n",
      "4300.000000       1\n",
      "33837.000000      1\n",
      "3230.000000       1\n",
      "1993.000000       1\n",
      "1619.000000       1\n",
      "1229.000000       1\n",
      "6666.000000       1\n",
      "2188.000000       1\n",
      "1915.000000       1\n",
      "1811.000000       1\n",
      "1775.000000       1\n",
      "4996.000000       1\n",
      "2985.000000       1\n",
      "3066.000000       1\n",
      "1911.000000       1\n",
      "2669.000000       1\n",
      "4083.000000       1\n",
      "7210.000000       1\n",
      "1603.000000       1\n",
      "663.000000        1\n",
      "2436.000000       1\n",
      "2042.000000       1\n",
      "1983.000000       1\n",
      "1695.000000       1\n",
      "4600.000000       1\n",
      "1793.000000       1\n",
      "1398.000000       1\n",
      "4250.000000       1\n",
      "997.000000        1\n",
      "1086.000000       1\n",
      "4266.000000       1\n",
      "2375.000000       1\n",
      "2275.000000       1\n",
      "4301.000000       1\n",
      "2134.000000       1\n",
      "3250.000000       1\n",
      "1387.000000       1\n",
      "2541.000000       1\n",
      "16.120001         1\n",
      "1447.000000       1\n",
      "2064.000000       1\n",
      "1522.000000       1\n",
      "1032.000000       1\n",
      "3416.000000       1\n",
      "1400.000000       1\n",
      "1987.000000       1\n",
      "2160.000000       1\n",
      "1500.000000       1\n",
      "2416.000000       1\n",
      "5296.000000       1\n",
      "2200.000000       1\n",
      "3600.000000       1\n",
      "1126.000000       1\n",
      "3440.000000       1\n",
      "2504.000000       1\n",
      "700.000000        1\n",
      "2358.000000       1\n",
      "4583.000000       1\n",
      "2365.000000       1\n",
      "2583.000000       1\n",
      "1411.000000       1\n",
      "2210.000000       1\n",
      "1803.000000       1\n",
      "2458.000000       1\n",
      "1719.000000       1\n",
      "2118.000000       1\n",
      "3850.000000       1\n",
      "5654.000000       1\n",
      "1167.000000       1\n",
      "3369.000000       1\n",
      "2773.000000       1\n",
      "6667.000000       1\n",
      "1881.000000       1\n",
      "1041.000000       1\n",
      "3583.000000       1\n",
      "3013.000000       1\n",
      "7250.000000       1\n",
      "3300.000000       1\n",
      "1302.000000       1\n",
      "1287.000000       1\n",
      "2340.000000       1\n",
      "1710.000000       1\n",
      "2330.000000       1\n",
      "4648.000000       1\n",
      "3447.000000       1\n",
      "1774.000000       1\n",
      "3796.000000       1\n",
      "1425.000000       1\n",
      "5701.000000       1\n",
      "2079.000000       1\n",
      "3033.000000       1\n",
      "5302.000000       1\n",
      "1131.000000       1\n",
      "7101.000000       1\n",
      "5500.000000       1\n",
      "1779.000000       1\n",
      "1863.000000       1\n",
      "7166.000000       1\n",
      "2138.000000       1\n",
      "2166.000000       1\n",
      "3541.000000       1\n",
      "3021.000000       1\n",
      "Name: CoapplicantIncome, dtype: int64 \n",
      "**************************************\n",
      "Feature: LoanAmount --> 203 unique variables \n",
      "The list of unique variables is [nan, 128.0, 66.0, 120.0, 141.0, 267.0, 95.0, 158.0, 168.0, 349.0, 70.0, 109.0, 200.0, 114.0, 17.0, 125.0, 100.0, 76.0, 133.0, 115.0, 104.0, 315.0, 116.0, 112.0, 151.0, 191.0, 122.0, 110.0, 35.0, 201.0, 74.0, 106.0, 320.0, 144.0, 184.0, 80.0, 47.0, 75.0, 134.0, 96.0, 88.0, 44.0, 286.0, 97.0, 135.0, 180.0, 99.0, 165.0, 258.0, 126.0, 312.0, 136.0, 172.0, 81.0, 187.0, 113.0, 176.0, 130.0, 111.0, 167.0, 265.0, 50.0, 210.0, 175.0, 131.0, 188.0, 25.0, 137.0, 160.0, 225.0, 216.0, 94.0, 139.0, 152.0, 118.0, 185.0, 154.0, 85.0, 259.0, 194.0, 93.0, 370.0, 182.0, 650.0, 102.0, 290.0, 84.0, 242.0, 129.0, 30.0, 244.0, 600.0, 255.0, 98.0, 275.0, 121.0, 63.0, 700.0, 87.0, 101.0, 495.0, 67.0, 73.0, 260.0, 108.0, 58.0, 48.0, 164.0, 170.0, 83.0, 90.0, 166.0, 124.0, 55.0, 59.0, 127.0, 214.0, 240.0, 72.0, 60.0, 138.0, 42.0, 280.0, 140.0, 155.0, 123.0, 279.0, 192.0, 304.0, 330.0, 150.0, 207.0, 436.0, 78.0, 54.0, 89.0, 143.0, 105.0, 132.0, 480.0, 56.0, 159.0, 300.0, 376.0, 117.0, 71.0, 490.0, 173.0, 46.0, 228.0, 308.0, 236.0, 570.0, 380.0, 296.0, 156.0, 103.0, 45.0, 65.0, 53.0, 360.0, 62.0, 218.0, 178.0, 239.0, 405.0, 148.0, 190.0, 149.0, 153.0, 162.0, 230.0, 86.0, 234.0, 246.0, 500.0, 186.0, 119.0, 107.0, 209.0, 208.0, 243.0, 40.0, 250.0, 311.0, 400.0, 161.0, 196.0, 324.0, 157.0, 145.0, 181.0, 26.0, 211.0, 9.0, 205.0, 36.0, 61.0, 146.0, 292.0, 142.0, 350.0, 496.0, 253.0] \n",
      "Their count is: \n",
      "120.0    20\n",
      "110.0    17\n",
      "100.0    15\n",
      "187.0    12\n",
      "160.0    12\n",
      "128.0    11\n",
      "113.0    11\n",
      "130.0    10\n",
      "96.0      9\n",
      "95.0      9\n",
      "70.0      8\n",
      "115.0     8\n",
      "112.0     8\n",
      "150.0     7\n",
      "135.0     7\n",
      "136.0     7\n",
      "132.0     7\n",
      "125.0     7\n",
      "104.0     7\n",
      "80.0      6\n",
      "81.0      6\n",
      "138.0     6\n",
      "90.0      6\n",
      "158.0     6\n",
      "116.0     6\n",
      "175.0     6\n",
      "144.0     6\n",
      "155.0     6\n",
      "180.0     6\n",
      "152.0     5\n",
      "124.0     5\n",
      "133.0     5\n",
      "200.0     5\n",
      "71.0      5\n",
      "140.0     5\n",
      "111.0     5\n",
      "185.0     5\n",
      "108.0     5\n",
      "88.0      4\n",
      "60.0      4\n",
      "123.0     4\n",
      "55.0      4\n",
      "66.0      4\n",
      "84.0      4\n",
      "98.0      4\n",
      "122.0     4\n",
      "182.0     4\n",
      "134.0     4\n",
      "94.0      4\n",
      "99.0      4\n",
      "50.0      4\n",
      "126.0     4\n",
      "172.0     4\n",
      "105.0     4\n",
      "131.0     4\n",
      "137.0     4\n",
      "151.0     4\n",
      "170.0     3\n",
      "255.0     3\n",
      "173.0     3\n",
      "75.0      3\n",
      "103.0     3\n",
      "225.0     3\n",
      "74.0      3\n",
      "188.0     3\n",
      "162.0     3\n",
      "127.0     3\n",
      "118.0     3\n",
      "480.0     3\n",
      "93.0      3\n",
      "275.0     3\n",
      "260.0     3\n",
      "102.0     3\n",
      "67.0      3\n",
      "165.0     3\n",
      "107.0     3\n",
      "168.0     3\n",
      "194.0     2\n",
      "87.0      2\n",
      "259.0     2\n",
      "30.0      2\n",
      "121.0     2\n",
      "129.0     2\n",
      "176.0     2\n",
      "192.0     2\n",
      "141.0     2\n",
      "139.0     2\n",
      "210.0     2\n",
      "25.0      2\n",
      "216.0     2\n",
      "201.0     2\n",
      "56.0      2\n",
      "258.0     2\n",
      "154.0     2\n",
      "143.0     2\n",
      "600.0     2\n",
      "184.0     2\n",
      "205.0     2\n",
      "161.0     2\n",
      "76.0      2\n",
      "148.0     2\n",
      "186.0     2\n",
      "106.0     2\n",
      "40.0      2\n",
      "45.0      2\n",
      "114.0     2\n",
      "157.0     2\n",
      "109.0     2\n",
      "44.0      2\n",
      "97.0      2\n",
      "145.0     1\n",
      "17.0      1\n",
      "350.0     1\n",
      "253.0     1\n",
      "211.0     1\n",
      "242.0     1\n",
      "181.0     1\n",
      "267.0     1\n",
      "265.0     1\n",
      "85.0      1\n",
      "244.0     1\n",
      "209.0     1\n",
      "167.0     1\n",
      "290.0     1\n",
      "159.0     1\n",
      "330.0     1\n",
      "312.0     1\n",
      "700.0     1\n",
      "490.0     1\n",
      "47.0      1\n",
      "239.0     1\n",
      "243.0     1\n",
      "370.0     1\n",
      "149.0     1\n",
      "320.0     1\n",
      "35.0      1\n",
      "153.0     1\n",
      "207.0     1\n",
      "496.0     1\n",
      "58.0      1\n",
      "286.0     1\n",
      "234.0     1\n",
      "236.0     1\n",
      "380.0     1\n",
      "296.0     1\n",
      "156.0     1\n",
      "65.0      1\n",
      "53.0      1\n",
      "360.0     1\n",
      "62.0      1\n",
      "218.0     1\n",
      "178.0     1\n",
      "190.0     1\n",
      "230.0     1\n",
      "86.0      1\n",
      "246.0     1\n",
      "228.0     1\n",
      "500.0     1\n",
      "119.0     1\n",
      "208.0     1\n",
      "250.0     1\n",
      "400.0     1\n",
      "196.0     1\n",
      "324.0     1\n",
      "26.0      1\n",
      "9.0       1\n",
      "36.0      1\n",
      "61.0      1\n",
      "146.0     1\n",
      "292.0     1\n",
      "308.0     1\n",
      "46.0      1\n",
      "63.0      1\n",
      "315.0     1\n",
      "101.0     1\n",
      "73.0      1\n",
      "142.0     1\n",
      "48.0      1\n",
      "164.0     1\n",
      "83.0      1\n",
      "191.0     1\n",
      "166.0     1\n",
      "495.0     1\n",
      "59.0      1\n",
      "214.0     1\n",
      "240.0     1\n",
      "72.0      1\n",
      "42.0      1\n",
      "349.0     1\n",
      "280.0     1\n",
      "405.0     1\n",
      "279.0     1\n",
      "304.0     1\n",
      "650.0     1\n",
      "436.0     1\n",
      "78.0      1\n",
      "54.0      1\n",
      "89.0      1\n",
      "570.0     1\n",
      "300.0     1\n",
      "376.0     1\n",
      "117.0     1\n",
      "311.0     1\n",
      "Name: LoanAmount, dtype: int64 \n",
      "**************************************\n",
      "Feature: Loan_Amount_Term --> 10 unique variables \n",
      "The list of unique variables is [360.0, 120.0, 240.0, nan, 180.0, 60.0, 300.0, 480.0, 36.0, 84.0, 12.0] \n",
      "Their count is: \n",
      "360.0    512\n",
      "180.0     44\n",
      "480.0     15\n",
      "300.0     13\n",
      "84.0       4\n",
      "240.0      4\n",
      "120.0      3\n",
      "36.0       2\n",
      "60.0       2\n",
      "12.0       1\n",
      "Name: Loan_Amount_Term, dtype: int64 \n",
      "**************************************\n",
      "Feature: Credit_History --> 2 unique variables \n",
      "The list of unique variables is [1.0, 0.0, nan] \n",
      "Their count is: \n",
      "1.0    475\n",
      "0.0     89\n",
      "Name: Credit_History, dtype: int64 \n"
     ]
    },
    {
     "name": "stdout",
     "output_type": "stream",
     "text": [
      "**************************************\n",
      "Feature: Property_Area --> 3 unique variables \n",
      "The list of unique variables is ['Urban', 'Rural', 'Semiurban'] \n",
      "Their count is: \n",
      "Semiurban    233\n",
      "Urban        202\n",
      "Rural        179\n",
      "Name: Property_Area, dtype: int64 \n",
      "**************************************\n",
      "Feature: Loan_Status --> 2 unique variables \n",
      "The list of unique variables is ['Y', 'N'] \n",
      "Their count is: \n",
      "Y    422\n",
      "N    192\n",
      "Name: Loan_Status, dtype: int64 \n"
     ]
    }
   ],
   "source": [
    "for i in LP.columns:\n",
    "    x = LP[i].nunique()\n",
    "    y = list(LP[i].unique())\n",
    "    z = LP[i].value_counts()\n",
    "    print('**************************************')\n",
    "    print(f'Feature: {i} --> {x} unique variables \\nThe list of unique variables is {y} \\nTheir count is: \\n{z} ')"
   ]
  },
  {
   "cell_type": "code",
   "execution_count": 193,
   "metadata": {},
   "outputs": [
    {
     "data": {
      "text/plain": [
       "Gender               category\n",
       "Married              category\n",
       "Dependents           category\n",
       "Education            category\n",
       "Self_Employed        category\n",
       "ApplicantIncome       float64\n",
       "CoapplicantIncome     float64\n",
       "LoanAmount            float64\n",
       "Loan_Amount_Term      float64\n",
       "Credit_History       category\n",
       "Property_Area        category\n",
       "Loan_Status          category\n",
       "dtype: object"
      ]
     },
     "execution_count": 193,
     "metadata": {},
     "output_type": "execute_result"
    }
   ],
   "source": [
    "LP.dtypes"
   ]
  },
  {
   "cell_type": "code",
   "execution_count": 194,
   "metadata": {},
   "outputs": [
    {
     "data": {
      "text/html": [
       "<div>\n",
       "<style scoped>\n",
       "    .dataframe tbody tr th:only-of-type {\n",
       "        vertical-align: middle;\n",
       "    }\n",
       "\n",
       "    .dataframe tbody tr th {\n",
       "        vertical-align: top;\n",
       "    }\n",
       "\n",
       "    .dataframe thead th {\n",
       "        text-align: right;\n",
       "    }\n",
       "</style>\n",
       "<table border=\"1\" class=\"dataframe\">\n",
       "  <thead>\n",
       "    <tr style=\"text-align: right;\">\n",
       "      <th></th>\n",
       "      <th>Gender</th>\n",
       "      <th>Married</th>\n",
       "      <th>Dependents</th>\n",
       "      <th>Education</th>\n",
       "      <th>Self_Employed</th>\n",
       "      <th>ApplicantIncome</th>\n",
       "      <th>CoapplicantIncome</th>\n",
       "      <th>LoanAmount</th>\n",
       "      <th>Loan_Amount_Term</th>\n",
       "      <th>Credit_History</th>\n",
       "      <th>Property_Area</th>\n",
       "      <th>Loan_Status</th>\n",
       "    </tr>\n",
       "  </thead>\n",
       "  <tbody>\n",
       "    <tr>\n",
       "      <th>count</th>\n",
       "      <td>601</td>\n",
       "      <td>611</td>\n",
       "      <td>599</td>\n",
       "      <td>614</td>\n",
       "      <td>582</td>\n",
       "      <td>614.000000</td>\n",
       "      <td>614.000000</td>\n",
       "      <td>592.000000</td>\n",
       "      <td>600.00000</td>\n",
       "      <td>564.0</td>\n",
       "      <td>614</td>\n",
       "      <td>614</td>\n",
       "    </tr>\n",
       "    <tr>\n",
       "      <th>unique</th>\n",
       "      <td>2</td>\n",
       "      <td>2</td>\n",
       "      <td>4</td>\n",
       "      <td>2</td>\n",
       "      <td>2</td>\n",
       "      <td>NaN</td>\n",
       "      <td>NaN</td>\n",
       "      <td>NaN</td>\n",
       "      <td>NaN</td>\n",
       "      <td>2.0</td>\n",
       "      <td>3</td>\n",
       "      <td>2</td>\n",
       "    </tr>\n",
       "    <tr>\n",
       "      <th>top</th>\n",
       "      <td>Male</td>\n",
       "      <td>Yes</td>\n",
       "      <td>0</td>\n",
       "      <td>Graduate</td>\n",
       "      <td>No</td>\n",
       "      <td>NaN</td>\n",
       "      <td>NaN</td>\n",
       "      <td>NaN</td>\n",
       "      <td>NaN</td>\n",
       "      <td>1.0</td>\n",
       "      <td>Semiurban</td>\n",
       "      <td>Y</td>\n",
       "    </tr>\n",
       "    <tr>\n",
       "      <th>freq</th>\n",
       "      <td>489</td>\n",
       "      <td>398</td>\n",
       "      <td>345</td>\n",
       "      <td>480</td>\n",
       "      <td>500</td>\n",
       "      <td>NaN</td>\n",
       "      <td>NaN</td>\n",
       "      <td>NaN</td>\n",
       "      <td>NaN</td>\n",
       "      <td>475.0</td>\n",
       "      <td>233</td>\n",
       "      <td>422</td>\n",
       "    </tr>\n",
       "    <tr>\n",
       "      <th>mean</th>\n",
       "      <td>NaN</td>\n",
       "      <td>NaN</td>\n",
       "      <td>NaN</td>\n",
       "      <td>NaN</td>\n",
       "      <td>NaN</td>\n",
       "      <td>5403.459283</td>\n",
       "      <td>1621.245798</td>\n",
       "      <td>146.412162</td>\n",
       "      <td>342.00000</td>\n",
       "      <td>NaN</td>\n",
       "      <td>NaN</td>\n",
       "      <td>NaN</td>\n",
       "    </tr>\n",
       "    <tr>\n",
       "      <th>std</th>\n",
       "      <td>NaN</td>\n",
       "      <td>NaN</td>\n",
       "      <td>NaN</td>\n",
       "      <td>NaN</td>\n",
       "      <td>NaN</td>\n",
       "      <td>6109.041673</td>\n",
       "      <td>2926.248369</td>\n",
       "      <td>85.587325</td>\n",
       "      <td>65.12041</td>\n",
       "      <td>NaN</td>\n",
       "      <td>NaN</td>\n",
       "      <td>NaN</td>\n",
       "    </tr>\n",
       "    <tr>\n",
       "      <th>min</th>\n",
       "      <td>NaN</td>\n",
       "      <td>NaN</td>\n",
       "      <td>NaN</td>\n",
       "      <td>NaN</td>\n",
       "      <td>NaN</td>\n",
       "      <td>150.000000</td>\n",
       "      <td>0.000000</td>\n",
       "      <td>9.000000</td>\n",
       "      <td>12.00000</td>\n",
       "      <td>NaN</td>\n",
       "      <td>NaN</td>\n",
       "      <td>NaN</td>\n",
       "    </tr>\n",
       "    <tr>\n",
       "      <th>25%</th>\n",
       "      <td>NaN</td>\n",
       "      <td>NaN</td>\n",
       "      <td>NaN</td>\n",
       "      <td>NaN</td>\n",
       "      <td>NaN</td>\n",
       "      <td>2877.500000</td>\n",
       "      <td>0.000000</td>\n",
       "      <td>100.000000</td>\n",
       "      <td>360.00000</td>\n",
       "      <td>NaN</td>\n",
       "      <td>NaN</td>\n",
       "      <td>NaN</td>\n",
       "    </tr>\n",
       "    <tr>\n",
       "      <th>50%</th>\n",
       "      <td>NaN</td>\n",
       "      <td>NaN</td>\n",
       "      <td>NaN</td>\n",
       "      <td>NaN</td>\n",
       "      <td>NaN</td>\n",
       "      <td>3812.500000</td>\n",
       "      <td>1188.500000</td>\n",
       "      <td>128.000000</td>\n",
       "      <td>360.00000</td>\n",
       "      <td>NaN</td>\n",
       "      <td>NaN</td>\n",
       "      <td>NaN</td>\n",
       "    </tr>\n",
       "    <tr>\n",
       "      <th>75%</th>\n",
       "      <td>NaN</td>\n",
       "      <td>NaN</td>\n",
       "      <td>NaN</td>\n",
       "      <td>NaN</td>\n",
       "      <td>NaN</td>\n",
       "      <td>5795.000000</td>\n",
       "      <td>2297.250000</td>\n",
       "      <td>168.000000</td>\n",
       "      <td>360.00000</td>\n",
       "      <td>NaN</td>\n",
       "      <td>NaN</td>\n",
       "      <td>NaN</td>\n",
       "    </tr>\n",
       "    <tr>\n",
       "      <th>max</th>\n",
       "      <td>NaN</td>\n",
       "      <td>NaN</td>\n",
       "      <td>NaN</td>\n",
       "      <td>NaN</td>\n",
       "      <td>NaN</td>\n",
       "      <td>81000.000000</td>\n",
       "      <td>41667.000000</td>\n",
       "      <td>700.000000</td>\n",
       "      <td>480.00000</td>\n",
       "      <td>NaN</td>\n",
       "      <td>NaN</td>\n",
       "      <td>NaN</td>\n",
       "    </tr>\n",
       "  </tbody>\n",
       "</table>\n",
       "</div>"
      ],
      "text/plain": [
       "       Gender Married Dependents Education Self_Employed  ApplicantIncome  \\\n",
       "count     601     611        599       614           582       614.000000   \n",
       "unique      2       2          4         2             2              NaN   \n",
       "top      Male     Yes          0  Graduate            No              NaN   \n",
       "freq      489     398        345       480           500              NaN   \n",
       "mean      NaN     NaN        NaN       NaN           NaN      5403.459283   \n",
       "std       NaN     NaN        NaN       NaN           NaN      6109.041673   \n",
       "min       NaN     NaN        NaN       NaN           NaN       150.000000   \n",
       "25%       NaN     NaN        NaN       NaN           NaN      2877.500000   \n",
       "50%       NaN     NaN        NaN       NaN           NaN      3812.500000   \n",
       "75%       NaN     NaN        NaN       NaN           NaN      5795.000000   \n",
       "max       NaN     NaN        NaN       NaN           NaN     81000.000000   \n",
       "\n",
       "        CoapplicantIncome  LoanAmount  Loan_Amount_Term  Credit_History  \\\n",
       "count          614.000000  592.000000         600.00000           564.0   \n",
       "unique                NaN         NaN               NaN             2.0   \n",
       "top                   NaN         NaN               NaN             1.0   \n",
       "freq                  NaN         NaN               NaN           475.0   \n",
       "mean          1621.245798  146.412162         342.00000             NaN   \n",
       "std           2926.248369   85.587325          65.12041             NaN   \n",
       "min              0.000000    9.000000          12.00000             NaN   \n",
       "25%              0.000000  100.000000         360.00000             NaN   \n",
       "50%           1188.500000  128.000000         360.00000             NaN   \n",
       "75%           2297.250000  168.000000         360.00000             NaN   \n",
       "max          41667.000000  700.000000         480.00000             NaN   \n",
       "\n",
       "       Property_Area Loan_Status  \n",
       "count            614         614  \n",
       "unique             3           2  \n",
       "top        Semiurban           Y  \n",
       "freq             233         422  \n",
       "mean             NaN         NaN  \n",
       "std              NaN         NaN  \n",
       "min              NaN         NaN  \n",
       "25%              NaN         NaN  \n",
       "50%              NaN         NaN  \n",
       "75%              NaN         NaN  \n",
       "max              NaN         NaN  "
      ]
     },
     "execution_count": 194,
     "metadata": {},
     "output_type": "execute_result"
    }
   ],
   "source": [
    "LP.describe(include=\"all\")"
   ]
  },
  {
   "cell_type": "code",
   "execution_count": 195,
   "metadata": {},
   "outputs": [],
   "source": [
    "# EDA"
   ]
  },
  {
   "cell_type": "code",
   "execution_count": 196,
   "metadata": {},
   "outputs": [],
   "source": [
    "## Univariate Analysis"
   ]
  },
  {
   "cell_type": "code",
   "execution_count": 197,
   "metadata": {},
   "outputs": [],
   "source": [
    "def barplot(column,df):\n",
    "#     print('**************************************')\n",
    "#     print(\"{} bar plot\".format(col))\n",
    "    plt.figure(figsize = (15,6))\n",
    "    bar_plot1 = sns.countplot(x=column, data=df)\n",
    "    plt.xticks(rotation = 45)\n",
    "    total = len(df[column])\n",
    "    for p in bar_plot1.patches:\n",
    "        percentage = '{:.2f}%'.format(100 * p.get_height()/total)\n",
    "        height = p.get_height()\n",
    "        bar_plot1.text(p.get_x()+ p.get_width()/2, height + 10,percentage, ha=\"center\")"
   ]
  },
  {
   "cell_type": "code",
   "execution_count": 198,
   "metadata": {},
   "outputs": [],
   "source": [
    "# cat_attr = list(X_train.select_dtypes(include=['category']).columns)\n",
    "# num_attr = list(X_train.select_dtypes(include=['number']).columns)"
   ]
  },
  {
   "cell_type": "code",
   "execution_count": 199,
   "metadata": {},
   "outputs": [
    {
     "data": {
      "image/png": "[encoded data removed]",
      "text/plain": [
       "<Figure size 1080x432 with 1 Axes>"
      ]
     },
     "metadata": {
      "needs_background": "light"
     },
     "output_type": "display_data"
    },
    {
     "data": {
      "image/png": "[encoded data removed]",
      "text/plain": [
       "<Figure size 1080x432 with 1 Axes>"
      ]
     },
     "metadata": {
      "needs_background": "light"
     },
     "output_type": "display_data"
    },
    {
     "data": {
      "image/png": "[encoded data removed]",
      "text/plain": [
       "<Figure size 1080x432 with 1 Axes>"
      ]
     },
     "metadata": {
      "needs_background": "light"
     },
     "output_type": "display_data"
    },
    {
     "data": {
      "image/png": "[encoded data removed]",
      "text/plain": [
       "<Figure size 1080x432 with 1 Axes>"
      ]
     },
     "metadata": {
      "needs_background": "light"
     },
     "output_type": "display_data"
    },
    {
     "data": {
      "image/png": "[encoded data removed]",
      "text/plain": [
       "<Figure size 1080x432 with 1 Axes>"
      ]
     },
     "metadata": {
      "needs_background": "light"
     },
     "output_type": "display_data"
    },
    {
     "data": {
      "image/png": "[encoded data removed]",
      "text/plain": [
       "<Figure size 1080x432 with 1 Axes>"
      ]
     },
     "metadata": {
      "needs_background": "light"
     },
     "output_type": "display_data"
    },
    {
     "data": {
      "image/png": "[encoded data removed]",
      "text/plain": [
       "<Figure size 1080x432 with 1 Axes>"
      ]
     },
     "metadata": {
      "needs_background": "light"
     },
     "output_type": "display_data"
    },
    {
     "data": {
      "image/png": "[encoded data removed]",
      "text/plain": [
       "<Figure size 1080x432 with 1 Axes>"
      ]
     },
     "metadata": {
      "needs_background": "light"
     },
     "output_type": "display_data"
    }
   ],
   "source": [
    "for col in LP.select_dtypes(include=['category']).columns:\n",
    "       barplot(col,LP)"
   ]
  },
  {
   "cell_type": "code",
   "execution_count": 200,
   "metadata": {},
   "outputs": [
    {
     "data": {
      "image/png": "[encoded data removed]",
      "text/plain": [
       "<Figure size 1080x432 with 1 Axes>"
      ]
     },
     "metadata": {
      "needs_background": "light"
     },
     "output_type": "display_data"
    }
   ],
   "source": [
    "barplot(\"Loan_Amount_Term\",LP)"
   ]
  },
  {
   "cell_type": "code",
   "execution_count": 201,
   "metadata": {},
   "outputs": [],
   "source": [
    "##binning on Loan_Amount_Term might will work"
   ]
  },
  {
   "cell_type": "code",
   "execution_count": 202,
   "metadata": {},
   "outputs": [
    {
     "name": "stdout",
     "output_type": "stream",
     "text": [
      "150.0\n",
      "81000.0\n"
     ]
    }
   ],
   "source": [
    "print(LP['ApplicantIncome'].min())\n",
    "print(LP['ApplicantIncome'].max())"
   ]
  },
  {
   "cell_type": "code",
   "execution_count": 203,
   "metadata": {},
   "outputs": [
    {
     "name": "stdout",
     "output_type": "stream",
     "text": [
      "150.0\n",
      "81000.0\n"
     ]
    }
   ],
   "source": [
    "print(LP['ApplicantIncome'].min())\n",
    "print(LP['ApplicantIncome'].max())"
   ]
  },
  {
   "cell_type": "code",
   "execution_count": 204,
   "metadata": {},
   "outputs": [
    {
     "data": {
      "image/png": "[encoded data removed]",
      "text/plain": [
       "<Figure size 720x360 with 1 Axes>"
      ]
     },
     "metadata": {
      "needs_background": "light"
     },
     "output_type": "display_data"
    }
   ],
   "source": [
    "plt.figure(figsize=(10,5))\n",
    "plt.xlabel(\"ApplicantIncome\")\n",
    "plt.ylabel(\"frequency\")\n",
    "#print(Age.mean())\n",
    "\n",
    "# matplotlib.pyplot.axvline() - This function add the vertical lines across the axes of the plot\n",
    "#plt.axvline(x=grp_exp.mean(), linewidth=2, color = 'r') \n",
    "plt.hist(LP[\"ApplicantIncome\"])\n",
    "plt.grid()\n",
    "plt.show()"
   ]
  },
  {
   "cell_type": "code",
   "execution_count": 205,
   "metadata": {},
   "outputs": [],
   "source": [
    "pd.set_option('display.max_rows', None) "
   ]
  },
  {
   "cell_type": "code",
   "execution_count": 206,
   "metadata": {},
   "outputs": [
    {
     "data": {
      "text/plain": [
       "6333.0     1\n",
       "3340.0     1\n",
       "6540.0     1\n",
       "3652.0     1\n",
       "2787.0     1\n",
       "6875.0     1\n",
       "2130.0     1\n",
       "9538.0     1\n",
       "63337.0    1\n",
       "3276.0     1\n",
       "3716.0     1\n",
       "7250.0     1\n",
       "2620.0     1\n",
       "2346.0     1\n",
       "3316.0     1\n",
       "3244.0     1\n",
       "1875.0     1\n",
       "1378.0     1\n",
       "1977.0     1\n",
       "2708.0     1\n",
       "5821.0     1\n",
       "16666.0    1\n",
       "5333.0     1\n",
       "5167.0     1\n",
       "2785.0     1\n",
       "2499.0     1\n",
       "18165.0    1\n",
       "2957.0     1\n",
       "4945.0     1\n",
       "6782.0     1\n",
       "4625.0     1\n",
       "3155.0     1\n",
       "3941.0     1\n",
       "7787.0     1\n",
       "5468.0     1\n",
       "13262.0    1\n",
       "19730.0    1\n",
       "6277.0     1\n",
       "33846.0    1\n",
       "1993.0     1\n",
       "3523.0     1\n",
       "3158.0     1\n",
       "4666.0     1\n",
       "7578.0     1\n",
       "6633.0     1\n",
       "3522.0     1\n",
       "5726.0     1\n",
       "1299.0     1\n",
       "17500.0    1\n",
       "4755.0     1\n",
       "39147.0    1\n",
       "2483.0     1\n",
       "3095.0     1\n",
       "2661.0     1\n",
       "2875.0     1\n",
       "3497.0     1\n",
       "4188.0     1\n",
       "4095.0     1\n",
       "3865.0     1\n",
       "4695.0     1\n",
       "4400.0     1\n",
       "1880.0     1\n",
       "2768.0     1\n",
       "3416.0     1\n",
       "2192.0     1\n",
       "2965.0     1\n",
       "4384.0     1\n",
       "3816.0     1\n",
       "7200.0     1\n",
       "4616.0     1\n",
       "1928.0     1\n",
       "1828.0     1\n",
       "7740.0     1\n",
       "3600.0     1\n",
       "7901.0     1\n",
       "9166.0     1\n",
       "3593.0     1\n",
       "7142.0     1\n",
       "3541.0     1\n",
       "4350.0     1\n",
       "4354.0     1\n",
       "3917.0     1\n",
       "6083.0     1\n",
       "2071.0     1\n",
       "17263.0    1\n",
       "2894.0     1\n",
       "4006.0     1\n",
       "3481.0     1\n",
       "1500.0     1\n",
       "1926.0     1\n",
       "11500.0    1\n",
       "3182.0     1\n",
       "2550.0     1\n",
       "7933.0     1\n",
       "3902.0     1\n",
       "3547.0     1\n",
       "4180.0     1\n",
       "5516.0     1\n",
       "3153.0     1\n",
       "1625.0     1\n",
       "1863.0     1\n",
       "3103.0     1\n",
       "4547.0     1\n",
       "4707.0     1\n",
       "5316.0     1\n",
       "12841.0    1\n",
       "16667.0    1\n",
       "6383.0     1\n",
       "6406.0     1\n",
       "6283.0     1\n",
       "2699.0     1\n",
       "3617.0     1\n",
       "4606.0     1\n",
       "6950.0     1\n",
       "16250.0    1\n",
       "5266.0     1\n",
       "9560.0     1\n",
       "3015.0     1\n",
       "3867.0     1\n",
       "5815.0     1\n",
       "3597.0     1\n",
       "6822.0     1\n",
       "2577.0     1\n",
       "5166.0     1\n",
       "4281.0     1\n",
       "12500.0    1\n",
       "18333.0    1\n",
       "16120.0    1\n",
       "14683.0    1\n",
       "10416.0    1\n",
       "2297.0     1\n",
       "4683.0     1\n",
       "3887.0     1\n",
       "3814.0     1\n",
       "6216.0     1\n",
       "5780.0     1\n",
       "2764.0     1\n",
       "2755.0     1\n",
       "645.0      1\n",
       "3406.0     1\n",
       "4408.0     1\n",
       "1538.0     1\n",
       "2882.0     1\n",
       "3692.0     1\n",
       "3029.0     1\n",
       "2132.0     1\n",
       "6065.0     1\n",
       "7660.0     1\n",
       "3017.0     1\n",
       "5667.0     1\n",
       "4167.0     1\n",
       "39999.0    1\n",
       "3417.0     1\n",
       "2895.0     1\n",
       "6050.0     1\n",
       "2971.0     1\n",
       "2237.0     1\n",
       "4723.0     1\n",
       "2439.0     1\n",
       "5116.0     1\n",
       "2454.0     1\n",
       "2987.0     1\n",
       "2667.0     1\n",
       "4885.0     1\n",
       "2653.0     1\n",
       "3430.0     1\n",
       "2167.0     1\n",
       "1809.0     1\n",
       "3625.0     1\n",
       "5829.0     1\n",
       "2330.0     1\n",
       "2275.0     1\n",
       "3086.0     1\n",
       "15759.0    1\n",
       "10047.0    1\n",
       "6033.0     1\n",
       "4050.0     1\n",
       "3833.0     1\n",
       "3036.0     1\n",
       "11146.0    1\n",
       "2165.0     1\n",
       "3875.0     1\n",
       "9508.0     1\n",
       "2647.0     1\n",
       "6783.0     1\n",
       "2301.0     1\n",
       "4758.0     1\n",
       "2609.0     1\n",
       "1782.0     1\n",
       "8072.0     1\n",
       "6133.0     1\n",
       "6096.0     1\n",
       "51763.0    1\n",
       "8624.0     1\n",
       "9504.0     1\n",
       "3812.0     1\n",
       "3704.0     1\n",
       "1907.0     1\n",
       "6608.0     1\n",
       "2876.0     1\n",
       "674.0      1\n",
       "3620.0     1\n",
       "2045.0     1\n",
       "8080.0     1\n",
       "9703.0     1\n",
       "7085.0     1\n",
       "2149.0     1\n",
       "4691.0     1\n",
       "7451.0     1\n",
       "7167.0     1\n",
       "10750.0    1\n",
       "3229.0     1\n",
       "3087.0     1\n",
       "3033.0     1\n",
       "4310.0     1\n",
       "3189.0     1\n",
       "3399.0     1\n",
       "2929.0     1\n",
       "5695.0     1\n",
       "23803.0    1\n",
       "2726.0     1\n",
       "4735.0     1\n",
       "11250.0    1\n",
       "4301.0     1\n",
       "6500.0     1\n",
       "2750.0     1\n",
       "3237.0     1\n",
       "2138.0     1\n",
       "3846.0     1\n",
       "2491.0     1\n",
       "2178.0     1\n",
       "5503.0     1\n",
       "2958.0     1\n",
       "3273.0     1\n",
       "4692.0     1\n",
       "11757.0    1\n",
       "6700.0     1\n",
       "7441.0     1\n",
       "6417.0     1\n",
       "4917.0     1\n",
       "7667.0     1\n",
       "2769.0     1\n",
       "4053.0     1\n",
       "2507.0     1\n",
       "4865.0     1\n",
       "3357.0     1\n",
       "9083.0     1\n",
       "3676.0     1\n",
       "3358.0     1\n",
       "6125.0     1\n",
       "5185.0     1\n",
       "8799.0     1\n",
       "3708.0     1\n",
       "5800.0     1\n",
       "4554.0     1\n",
       "1830.0     1\n",
       "3762.0     1\n",
       "9328.0     1\n",
       "4860.0     1\n",
       "3988.0     1\n",
       "3459.0     1\n",
       "3052.0     1\n",
       "10408.0    1\n",
       "5849.0     1\n",
       "1811.0     1\n",
       "20166.0    1\n",
       "3975.0     1\n",
       "3858.0     1\n",
       "3987.0     1\n",
       "16692.0    1\n",
       "4887.0     1\n",
       "3691.0     1\n",
       "3069.0     1\n",
       "2423.0     1\n",
       "4009.0     1\n",
       "3427.0     1\n",
       "9357.0     1\n",
       "2645.0     1\n",
       "4923.0     1\n",
       "2435.0     1\n",
       "2031.0     1\n",
       "8334.0     1\n",
       "9833.0     1\n",
       "4133.0     1\n",
       "2873.0     1\n",
       "3246.0     1\n",
       "5124.0     1\n",
       "4566.0     1\n",
       "2214.0     1\n",
       "3450.0     1\n",
       "3125.0     1\n",
       "2718.0     1\n",
       "4817.0     1\n",
       "14999.0    1\n",
       "5923.0     1\n",
       "5941.0     1\n",
       "10139.0    1\n",
       "2927.0     1\n",
       "4230.0     1\n",
       "8666.0     1\n",
       "2137.0     1\n",
       "20833.0    1\n",
       "3232.0     1\n",
       "9963.0     1\n",
       "416.0      1\n",
       "4608.0     1\n",
       "210.0      1\n",
       "14880.0    1\n",
       "2720.0     1\n",
       "81000.0    1\n",
       "1600.0     1\n",
       "3180.0     1\n",
       "4160.0     1\n",
       "2000.0     1\n",
       "4416.0     1\n",
       "150.0      1\n",
       "8000.0     1\n",
       "6080.0     1\n",
       "3572.0     1\n",
       "5568.0     1\n",
       "4288.0     1\n",
       "1000.0     1\n",
       "8300.0     1\n",
       "1442.0     1\n",
       "2717.0     1\n",
       "3283.0     1\n",
       "5391.0     1\n",
       "2679.0     1\n",
       "3601.0     1\n",
       "2995.0     1\n",
       "2253.0     1\n",
       "3727.0     1\n",
       "2281.0     1\n",
       "4950.0     1\n",
       "2526.0     1\n",
       "7948.0     1\n",
       "2309.0     1\n",
       "6045.0     1\n",
       "5532.0     1\n",
       "3539.0     1\n",
       "3062.0     1\n",
       "2473.0     1\n",
       "4100.0     1\n",
       "11000.0    1\n",
       "2935.0     1\n",
       "3850.0     1\n",
       "5819.0     1\n",
       "5050.0     1\n",
       "3410.0     1\n",
       "10513.0    1\n",
       "9167.0     1\n",
       "4843.0     1\n",
       "3800.0     1\n",
       "2799.0     1\n",
       "2239.0     1\n",
       "3366.0     1\n",
       "2889.0     1\n",
       "4342.0     1\n",
       "3075.0     1\n",
       "3775.0     1\n",
       "3927.0     1\n",
       "2425.0     1\n",
       "5935.0     1\n",
       "3675.0     1\n",
       "4191.0     1\n",
       "4931.0     1\n",
       "10833.0    1\n",
       "19484.0    1\n",
       "15000.0    1\n",
       "20667.0    1\n",
       "4124.0     1\n",
       "5818.0     1\n",
       "7100.0     1\n",
       "3254.0     1\n",
       "3315.0     1\n",
       "3326.0     1\n",
       "37719.0    1\n",
       "4895.0     1\n",
       "5285.0     1\n",
       "4467.0     1\n",
       "4106.0     1\n",
       "2492.0     1\n",
       "5649.0     1\n",
       "2900.0     1\n",
       "3948.0     1\n",
       "16525.0    1\n",
       "3900.0     1\n",
       "2980.0     1\n",
       "5708.0     1\n",
       "2060.0     1\n",
       "2395.0     1\n",
       "2484.0     1\n",
       "4344.0     1\n",
       "5042.0     1\n",
       "3365.0     1\n",
       "13650.0    1\n",
       "3748.0     1\n",
       "3463.0     1\n",
       "2366.0     1\n",
       "2625.0     1\n",
       "3596.0     1\n",
       "5955.0     1\n",
       "2058.0     1\n",
       "3250.0     1\n",
       "3588.0     1\n",
       "2698.0     1\n",
       "3660.0     1\n",
       "2920.0     1\n",
       "3583.0     1\n",
       "1963.0     1\n",
       "3013.0     1\n",
       "3598.0     1\n",
       "6256.0     1\n",
       "4680.0     1\n",
       "14866.0    1\n",
       "1836.0     1\n",
       "3074.0     1\n",
       "3100.0     1\n",
       "1668.0     1\n",
       "3010.0     1\n",
       "3992.0     1\n",
       "4200.0     1\n",
       "11417.0    1\n",
       "1916.0     1\n",
       "4600.0     1\n",
       "3208.0     1\n",
       "5488.0     1\n",
       "20233.0    1\n",
       "2510.0     1\n",
       "3073.0     1\n",
       "6325.0     1\n",
       "5191.0     1\n",
       "3707.0     1\n",
       "1759.0     1\n",
       "2221.0     1\n",
       "5677.0     1\n",
       "3993.0     1\n",
       "12876.0    1\n",
       "1853.0     1\n",
       "4708.0     1\n",
       "3813.0     1\n",
       "3089.0     1\n",
       "8566.0     1\n",
       "4226.0     1\n",
       "7583.0     1\n",
       "1800.0     2\n",
       "3200.0     2\n",
       "14583.0    2\n",
       "2833.0     2\n",
       "4652.0     2\n",
       "2917.0     2\n",
       "4300.0     2\n",
       "3083.0     2\n",
       "8750.0     2\n",
       "6400.0     2\n",
       "1958.0     2\n",
       "3466.0     2\n",
       "2083.0     2\n",
       "5500.0     2\n",
       "2378.0     2\n",
       "2479.0     2\n",
       "2947.0     2\n",
       "5746.0     2\n",
       "2383.0     2\n",
       "2014.0     2\n",
       "2666.0     2\n",
       "4283.0     2\n",
       "2213.0     2\n",
       "4750.0     2\n",
       "12000.0    2\n",
       "3667.0     2\n",
       "5250.0     2\n",
       "7333.0     2\n",
       "3173.0     2\n",
       "3859.0     2\n",
       "3418.0     2\n",
       "5703.0     2\n",
       "3717.0     2\n",
       "3159.0     2\n",
       "9323.0     2\n",
       "1025.0     2\n",
       "1820.0     2\n",
       "3510.0     2\n",
       "3500.0     3\n",
       "4000.0     3\n",
       "3167.0     3\n",
       "5417.0     3\n",
       "2333.0     3\n",
       "3000.0     3\n",
       "3400.0     3\n",
       "4333.0     3\n",
       "10000.0    3\n",
       "3166.0     3\n",
       "8333.0     4\n",
       "2583.0     4\n",
       "2400.0     4\n",
       "6250.0     4\n",
       "4166.0     5\n",
       "3333.0     5\n",
       "5000.0     5\n",
       "3750.0     5\n",
       "6000.0     6\n",
       "4583.0     6\n",
       "2600.0     6\n",
       "2500.0     9\n",
       "Name: ApplicantIncome, dtype: int64"
      ]
     },
     "execution_count": 206,
     "metadata": {},
     "output_type": "execute_result"
    }
   ],
   "source": [
    "LP['ApplicantIncome'].value_counts(sort=True,ascending=True)#2500 to 81000"
   ]
  },
  {
   "cell_type": "code",
   "execution_count": 207,
   "metadata": {},
   "outputs": [
    {
     "data": {
      "text/plain": [
       "2500.0     9\n",
       "2600.0     6\n",
       "4583.0     6\n",
       "6000.0     6\n",
       "3750.0     5\n",
       "5000.0     5\n",
       "3333.0     5\n",
       "4166.0     5\n",
       "6250.0     4\n",
       "2400.0     4\n",
       "2583.0     4\n",
       "8333.0     4\n",
       "3166.0     3\n",
       "10000.0    3\n",
       "4333.0     3\n",
       "3400.0     3\n",
       "3000.0     3\n",
       "2333.0     3\n",
       "5417.0     3\n",
       "3167.0     3\n",
       "4000.0     3\n",
       "3500.0     3\n",
       "3510.0     2\n",
       "1820.0     2\n",
       "1025.0     2\n",
       "9323.0     2\n",
       "3159.0     2\n",
       "3717.0     2\n",
       "5703.0     2\n",
       "3418.0     2\n",
       "3859.0     2\n",
       "3173.0     2\n",
       "7333.0     2\n",
       "5250.0     2\n",
       "3667.0     2\n",
       "12000.0    2\n",
       "4750.0     2\n",
       "2213.0     2\n",
       "4283.0     2\n",
       "2666.0     2\n",
       "2014.0     2\n",
       "2383.0     2\n",
       "5746.0     2\n",
       "2947.0     2\n",
       "2479.0     2\n",
       "2378.0     2\n",
       "5500.0     2\n",
       "2083.0     2\n",
       "3466.0     2\n",
       "1958.0     2\n",
       "6400.0     2\n",
       "8750.0     2\n",
       "3083.0     2\n",
       "4300.0     2\n",
       "2917.0     2\n",
       "4652.0     2\n",
       "2833.0     2\n",
       "14583.0    2\n",
       "3200.0     2\n",
       "1800.0     2\n",
       "7583.0     1\n",
       "4226.0     1\n",
       "8566.0     1\n",
       "3089.0     1\n",
       "3813.0     1\n",
       "4708.0     1\n",
       "1853.0     1\n",
       "12876.0    1\n",
       "3993.0     1\n",
       "5677.0     1\n",
       "2221.0     1\n",
       "1759.0     1\n",
       "3707.0     1\n",
       "5191.0     1\n",
       "6325.0     1\n",
       "3073.0     1\n",
       "2510.0     1\n",
       "20233.0    1\n",
       "5488.0     1\n",
       "3208.0     1\n",
       "4600.0     1\n",
       "1916.0     1\n",
       "11417.0    1\n",
       "4200.0     1\n",
       "3992.0     1\n",
       "3010.0     1\n",
       "1668.0     1\n",
       "3100.0     1\n",
       "3074.0     1\n",
       "1836.0     1\n",
       "14866.0    1\n",
       "4680.0     1\n",
       "6256.0     1\n",
       "3598.0     1\n",
       "3013.0     1\n",
       "1963.0     1\n",
       "3583.0     1\n",
       "2920.0     1\n",
       "3660.0     1\n",
       "2698.0     1\n",
       "3588.0     1\n",
       "3250.0     1\n",
       "2058.0     1\n",
       "5955.0     1\n",
       "3596.0     1\n",
       "2625.0     1\n",
       "2366.0     1\n",
       "3463.0     1\n",
       "3748.0     1\n",
       "13650.0    1\n",
       "3365.0     1\n",
       "5042.0     1\n",
       "4344.0     1\n",
       "2484.0     1\n",
       "2395.0     1\n",
       "2060.0     1\n",
       "5708.0     1\n",
       "2980.0     1\n",
       "3900.0     1\n",
       "16525.0    1\n",
       "3948.0     1\n",
       "2900.0     1\n",
       "5649.0     1\n",
       "2492.0     1\n",
       "4106.0     1\n",
       "4467.0     1\n",
       "5285.0     1\n",
       "4895.0     1\n",
       "37719.0    1\n",
       "3326.0     1\n",
       "3315.0     1\n",
       "3254.0     1\n",
       "7100.0     1\n",
       "5818.0     1\n",
       "4124.0     1\n",
       "20667.0    1\n",
       "15000.0    1\n",
       "19484.0    1\n",
       "10833.0    1\n",
       "4931.0     1\n",
       "4191.0     1\n",
       "3675.0     1\n",
       "5935.0     1\n",
       "2425.0     1\n",
       "3927.0     1\n",
       "3775.0     1\n",
       "3075.0     1\n",
       "4342.0     1\n",
       "2889.0     1\n",
       "3366.0     1\n",
       "2239.0     1\n",
       "2799.0     1\n",
       "3800.0     1\n",
       "4843.0     1\n",
       "9167.0     1\n",
       "10513.0    1\n",
       "3410.0     1\n",
       "5050.0     1\n",
       "5819.0     1\n",
       "3850.0     1\n",
       "2935.0     1\n",
       "11000.0    1\n",
       "4100.0     1\n",
       "2473.0     1\n",
       "3062.0     1\n",
       "3539.0     1\n",
       "5532.0     1\n",
       "6045.0     1\n",
       "2309.0     1\n",
       "7948.0     1\n",
       "2526.0     1\n",
       "4950.0     1\n",
       "2281.0     1\n",
       "3727.0     1\n",
       "2253.0     1\n",
       "2995.0     1\n",
       "3601.0     1\n",
       "2679.0     1\n",
       "5391.0     1\n",
       "3283.0     1\n",
       "2717.0     1\n",
       "1442.0     1\n",
       "8300.0     1\n",
       "1000.0     1\n",
       "4288.0     1\n",
       "5568.0     1\n",
       "3572.0     1\n",
       "6080.0     1\n",
       "8000.0     1\n",
       "150.0      1\n",
       "4416.0     1\n",
       "2000.0     1\n",
       "4160.0     1\n",
       "3180.0     1\n",
       "1600.0     1\n",
       "81000.0    1\n",
       "2720.0     1\n",
       "14880.0    1\n",
       "210.0      1\n",
       "4608.0     1\n",
       "416.0      1\n",
       "9963.0     1\n",
       "3232.0     1\n",
       "20833.0    1\n",
       "2137.0     1\n",
       "8666.0     1\n",
       "4230.0     1\n",
       "2927.0     1\n",
       "10139.0    1\n",
       "5941.0     1\n",
       "5923.0     1\n",
       "14999.0    1\n",
       "4817.0     1\n",
       "2718.0     1\n",
       "3125.0     1\n",
       "3450.0     1\n",
       "2214.0     1\n",
       "4566.0     1\n",
       "5124.0     1\n",
       "3246.0     1\n",
       "2873.0     1\n",
       "4133.0     1\n",
       "9833.0     1\n",
       "8334.0     1\n",
       "2031.0     1\n",
       "2435.0     1\n",
       "4923.0     1\n",
       "2645.0     1\n",
       "9357.0     1\n",
       "3427.0     1\n",
       "4009.0     1\n",
       "2423.0     1\n",
       "3069.0     1\n",
       "3691.0     1\n",
       "4887.0     1\n",
       "16692.0    1\n",
       "3987.0     1\n",
       "3858.0     1\n",
       "3975.0     1\n",
       "20166.0    1\n",
       "1811.0     1\n",
       "5849.0     1\n",
       "10408.0    1\n",
       "3052.0     1\n",
       "3459.0     1\n",
       "3988.0     1\n",
       "4860.0     1\n",
       "9328.0     1\n",
       "3762.0     1\n",
       "1830.0     1\n",
       "4554.0     1\n",
       "5800.0     1\n",
       "3708.0     1\n",
       "8799.0     1\n",
       "5185.0     1\n",
       "6125.0     1\n",
       "3358.0     1\n",
       "3676.0     1\n",
       "9083.0     1\n",
       "3357.0     1\n",
       "4865.0     1\n",
       "2507.0     1\n",
       "4053.0     1\n",
       "2769.0     1\n",
       "7667.0     1\n",
       "4917.0     1\n",
       "6417.0     1\n",
       "7441.0     1\n",
       "6700.0     1\n",
       "11757.0    1\n",
       "4692.0     1\n",
       "3273.0     1\n",
       "2958.0     1\n",
       "5503.0     1\n",
       "2178.0     1\n",
       "2491.0     1\n",
       "3846.0     1\n",
       "2138.0     1\n",
       "3237.0     1\n",
       "2750.0     1\n",
       "6500.0     1\n",
       "4301.0     1\n",
       "11250.0    1\n",
       "4735.0     1\n",
       "2726.0     1\n",
       "23803.0    1\n",
       "5695.0     1\n",
       "2929.0     1\n",
       "3399.0     1\n",
       "3189.0     1\n",
       "4310.0     1\n",
       "3033.0     1\n",
       "3087.0     1\n",
       "3229.0     1\n",
       "10750.0    1\n",
       "7167.0     1\n",
       "7451.0     1\n",
       "4691.0     1\n",
       "2149.0     1\n",
       "7085.0     1\n",
       "9703.0     1\n",
       "8080.0     1\n",
       "2045.0     1\n",
       "3620.0     1\n",
       "674.0      1\n",
       "2876.0     1\n",
       "6608.0     1\n",
       "1907.0     1\n",
       "3704.0     1\n",
       "3812.0     1\n",
       "9504.0     1\n",
       "8624.0     1\n",
       "51763.0    1\n",
       "6096.0     1\n",
       "6133.0     1\n",
       "8072.0     1\n",
       "1782.0     1\n",
       "2609.0     1\n",
       "4758.0     1\n",
       "2301.0     1\n",
       "6783.0     1\n",
       "2647.0     1\n",
       "9508.0     1\n",
       "3875.0     1\n",
       "2165.0     1\n",
       "11146.0    1\n",
       "3036.0     1\n",
       "3833.0     1\n",
       "4050.0     1\n",
       "6033.0     1\n",
       "10047.0    1\n",
       "15759.0    1\n",
       "3086.0     1\n",
       "2275.0     1\n",
       "2330.0     1\n",
       "5829.0     1\n",
       "3625.0     1\n",
       "1809.0     1\n",
       "2167.0     1\n",
       "3430.0     1\n",
       "2653.0     1\n",
       "4885.0     1\n",
       "2667.0     1\n",
       "2987.0     1\n",
       "2454.0     1\n",
       "5116.0     1\n",
       "2439.0     1\n",
       "4723.0     1\n",
       "2237.0     1\n",
       "2971.0     1\n",
       "6050.0     1\n",
       "2895.0     1\n",
       "3417.0     1\n",
       "39999.0    1\n",
       "4167.0     1\n",
       "5667.0     1\n",
       "3017.0     1\n",
       "7660.0     1\n",
       "6065.0     1\n",
       "2132.0     1\n",
       "3029.0     1\n",
       "3692.0     1\n",
       "2882.0     1\n",
       "1538.0     1\n",
       "4408.0     1\n",
       "3406.0     1\n",
       "645.0      1\n",
       "2755.0     1\n",
       "2764.0     1\n",
       "5780.0     1\n",
       "6216.0     1\n",
       "3814.0     1\n",
       "3887.0     1\n",
       "4683.0     1\n",
       "2297.0     1\n",
       "10416.0    1\n",
       "14683.0    1\n",
       "16120.0    1\n",
       "18333.0    1\n",
       "12500.0    1\n",
       "4281.0     1\n",
       "5166.0     1\n",
       "2577.0     1\n",
       "6822.0     1\n",
       "3597.0     1\n",
       "5815.0     1\n",
       "3867.0     1\n",
       "3015.0     1\n",
       "9560.0     1\n",
       "5266.0     1\n",
       "16250.0    1\n",
       "6950.0     1\n",
       "4606.0     1\n",
       "3617.0     1\n",
       "2699.0     1\n",
       "6283.0     1\n",
       "6406.0     1\n",
       "6383.0     1\n",
       "16667.0    1\n",
       "12841.0    1\n",
       "5316.0     1\n",
       "4707.0     1\n",
       "4547.0     1\n",
       "3103.0     1\n",
       "1863.0     1\n",
       "1625.0     1\n",
       "3153.0     1\n",
       "5516.0     1\n",
       "4180.0     1\n",
       "3547.0     1\n",
       "3902.0     1\n",
       "7933.0     1\n",
       "2550.0     1\n",
       "3182.0     1\n",
       "11500.0    1\n",
       "1926.0     1\n",
       "1500.0     1\n",
       "3481.0     1\n",
       "4006.0     1\n",
       "2894.0     1\n",
       "17263.0    1\n",
       "2071.0     1\n",
       "6083.0     1\n",
       "3917.0     1\n",
       "4354.0     1\n",
       "4350.0     1\n",
       "3541.0     1\n",
       "7142.0     1\n",
       "3593.0     1\n",
       "9166.0     1\n",
       "7901.0     1\n",
       "3600.0     1\n",
       "7740.0     1\n",
       "1828.0     1\n",
       "1928.0     1\n",
       "4616.0     1\n",
       "7200.0     1\n",
       "3816.0     1\n",
       "4384.0     1\n",
       "2965.0     1\n",
       "2192.0     1\n",
       "3416.0     1\n",
       "2768.0     1\n",
       "1880.0     1\n",
       "4400.0     1\n",
       "4695.0     1\n",
       "3865.0     1\n",
       "4095.0     1\n",
       "4188.0     1\n",
       "3497.0     1\n",
       "2875.0     1\n",
       "2661.0     1\n",
       "3095.0     1\n",
       "2483.0     1\n",
       "39147.0    1\n",
       "4755.0     1\n",
       "17500.0    1\n",
       "1299.0     1\n",
       "5726.0     1\n",
       "3522.0     1\n",
       "6633.0     1\n",
       "7578.0     1\n",
       "4666.0     1\n",
       "3158.0     1\n",
       "3523.0     1\n",
       "1993.0     1\n",
       "33846.0    1\n",
       "6277.0     1\n",
       "19730.0    1\n",
       "13262.0    1\n",
       "5468.0     1\n",
       "7787.0     1\n",
       "3941.0     1\n",
       "3155.0     1\n",
       "4625.0     1\n",
       "6782.0     1\n",
       "4945.0     1\n",
       "2957.0     1\n",
       "18165.0    1\n",
       "2499.0     1\n",
       "2785.0     1\n",
       "5167.0     1\n",
       "5333.0     1\n",
       "16666.0    1\n",
       "5821.0     1\n",
       "2708.0     1\n",
       "1977.0     1\n",
       "1378.0     1\n",
       "1875.0     1\n",
       "3244.0     1\n",
       "3316.0     1\n",
       "2346.0     1\n",
       "2620.0     1\n",
       "7250.0     1\n",
       "3716.0     1\n",
       "3276.0     1\n",
       "63337.0    1\n",
       "9538.0     1\n",
       "2130.0     1\n",
       "6875.0     1\n",
       "2787.0     1\n",
       "3652.0     1\n",
       "6540.0     1\n",
       "3340.0     1\n",
       "6333.0     1\n",
       "Name: ApplicantIncome, dtype: int64"
      ]
     },
     "execution_count": 207,
     "metadata": {},
     "output_type": "execute_result"
    }
   ],
   "source": [
    "LP['ApplicantIncome'].value_counts(sort=True,ascending=False)"
   ]
  },
  {
   "cell_type": "code",
   "execution_count": 208,
   "metadata": {},
   "outputs": [
    {
     "data": {
      "image/png": "[encoded data removed]",
      "text/plain": [
       "<Figure size 1080x432 with 1 Axes>"
      ]
     },
     "metadata": {
      "needs_background": "light"
     },
     "output_type": "display_data"
    }
   ],
   "source": [
    "plt.figure(figsize = (15,6))\n",
    "sns.distplot(LP['ApplicantIncome'],kde = False, bins = 10)#,color = '#ff3800'\n",
    "plt.xlim((0,81000));"
   ]
  },
  {
   "cell_type": "code",
   "execution_count": 209,
   "metadata": {},
   "outputs": [],
   "source": [
    "# import numpy as np\n",
    "\n",
    "# def outliers_iqr(col):\n",
    "#     quartile_1, quartile_3 = np.percentile(col, [.25, .75])\n",
    "#     iqr = quartile_3 - quartile_1\n",
    "#     lower_bound = quartile_1 - (iqr * 1.5)\n",
    "#     upper_bound = quartile_3 + (iqr * 1.5)\n",
    "#     return np.where((ys > upper_bound) | (ys < lower_bound))"
   ]
  },
  {
   "cell_type": "code",
   "execution_count": 210,
   "metadata": {},
   "outputs": [],
   "source": [
    "# columns=[\"CCAvg\",\"Mortage\"]\n",
    "# print(columns)\n",
    "# for col in columns:\n",
    "#     out=outliers_iqr(col)\n",
    "#     print(out)\n",
    "#    # outliers_imp=np.percentile()"
   ]
  },
  {
   "cell_type": "code",
   "execution_count": 211,
   "metadata": {},
   "outputs": [
    {
     "data": {
      "image/png": "[encoded data removed]",
      "text/plain": [
       "<Figure size 432x288 with 1 Axes>"
      ]
     },
     "metadata": {
      "needs_background": "light"
     },
     "output_type": "display_data"
    }
   ],
   "source": [
    "sns.boxplot( LP[\"ApplicantIncome\"]).set_title(\"Box plot of the ApplicantIncome\")\n",
    "plt.show()"
   ]
  },
  {
   "cell_type": "code",
   "execution_count": 212,
   "metadata": {},
   "outputs": [
    {
     "data": {
      "image/png": "[encoded data removed]",
      "text/plain": [
       "<Figure size 1080x432 with 1 Axes>"
      ]
     },
     "metadata": {
      "needs_background": "light"
     },
     "output_type": "display_data"
    }
   ],
   "source": [
    "plt.figure(figsize = (15,6))\n",
    "sns.kdeplot(LP['ApplicantIncome'])\n",
    "plt.xlim((0,81000)); "
   ]
  },
  {
   "cell_type": "code",
   "execution_count": 213,
   "metadata": {},
   "outputs": [],
   "source": [
    "#ApplicantIncome feature is left skewed, not normally distributed. it has so many oultiers along left side "
   ]
  },
  {
   "cell_type": "code",
   "execution_count": 214,
   "metadata": {},
   "outputs": [
    {
     "name": "stdout",
     "output_type": "stream",
     "text": [
      "41667.0\n",
      "0.0\n"
     ]
    }
   ],
   "source": [
    "print(LP[\"CoapplicantIncome\"].max())\n",
    "print(LP[\"CoapplicantIncome\"].min())"
   ]
  },
  {
   "cell_type": "code",
   "execution_count": 215,
   "metadata": {},
   "outputs": [
    {
     "data": {
      "image/png": "[encoded data removed]",
      "text/plain": [
       "<Figure size 432x288 with 1 Axes>"
      ]
     },
     "metadata": {
      "needs_background": "light"
     },
     "output_type": "display_data"
    }
   ],
   "source": [
    "sns.boxplot( LP[\"CoapplicantIncome\"]).set_title(\"Box plot of the CoapplicantIncome\")\n",
    "plt.show()"
   ]
  },
  {
   "cell_type": "code",
   "execution_count": 216,
   "metadata": {},
   "outputs": [
    {
     "data": {
      "image/png": "[encoded data removed]",
      "text/plain": [
       "<Figure size 1080x432 with 1 Axes>"
      ]
     },
     "metadata": {
      "needs_background": "light"
     },
     "output_type": "display_data"
    }
   ],
   "source": [
    "plt.figure(figsize = (15,6))\n",
    "sns.distplot(LP['CoapplicantIncome'],kde = False, bins = 1000,color = '#ff3800')\n",
    "plt.xlim((0,50000));"
   ]
  },
  {
   "cell_type": "code",
   "execution_count": 217,
   "metadata": {},
   "outputs": [],
   "source": [
    "#check with boxplot"
   ]
  },
  {
   "cell_type": "code",
   "execution_count": 218,
   "metadata": {},
   "outputs": [
    {
     "data": {
      "image/png": "[encoded data removed]",
      "text/plain": [
       "<Figure size 1080x432 with 1 Axes>"
      ]
     },
     "metadata": {
      "needs_background": "light"
     },
     "output_type": "display_data"
    }
   ],
   "source": [
    "plt.figure(figsize = (15,6))\n",
    "sns.kdeplot(LP['CoapplicantIncome'])\n",
    "plt.xlim((0,50000)); "
   ]
  },
  {
   "cell_type": "code",
   "execution_count": 219,
   "metadata": {},
   "outputs": [],
   "source": [
    "#CoapplicantIncome feature is not normally distributed. it has so many oultiers along left side ."
   ]
  },
  {
   "cell_type": "code",
   "execution_count": 220,
   "metadata": {},
   "outputs": [
    {
     "name": "stdout",
     "output_type": "stream",
     "text": [
      "700.0\n",
      "9.0\n"
     ]
    }
   ],
   "source": [
    "print(LP[\"LoanAmount\"].max())\n",
    "print(LP[\"LoanAmount\"].min())"
   ]
  },
  {
   "cell_type": "code",
   "execution_count": 221,
   "metadata": {},
   "outputs": [
    {
     "data": {
      "image/png": "[encoded data removed]",
      "text/plain": [
       "<Figure size 1080x432 with 1 Axes>"
      ]
     },
     "metadata": {
      "needs_background": "light"
     },
     "output_type": "display_data"
    }
   ],
   "source": [
    "plt.figure(figsize = (15,6))\n",
    "sns.distplot(LP['LoanAmount'],kde = False, bins = 10,color = '#ff3800')\n",
    "plt.xlim((0,700));"
   ]
  },
  {
   "cell_type": "code",
   "execution_count": 222,
   "metadata": {},
   "outputs": [
    {
     "data": {
      "image/png": "[encoded data removed]",
      "text/plain": [
       "<Figure size 432x288 with 1 Axes>"
      ]
     },
     "metadata": {
      "needs_background": "light"
     },
     "output_type": "display_data"
    }
   ],
   "source": [
    "sns.boxplot( LP[\"LoanAmount\"]).set_title(\"Box plot of the LoanAmount\")\n",
    "plt.show()"
   ]
  },
  {
   "cell_type": "code",
   "execution_count": 223,
   "metadata": {},
   "outputs": [
    {
     "data": {
      "image/png": "[encoded data removed]",
      "text/plain": [
       "<Figure size 1080x432 with 1 Axes>"
      ]
     },
     "metadata": {
      "needs_background": "light"
     },
     "output_type": "display_data"
    }
   ],
   "source": [
    "plt.figure(figsize = (15,6))\n",
    "sns.kdeplot(LP['LoanAmount'])\n",
    "plt.xlim((0,700)); "
   ]
  },
  {
   "cell_type": "code",
   "execution_count": 224,
   "metadata": {},
   "outputs": [],
   "source": [
    "# Loan Amount  variable is fairly normally distributed but it has some outliers."
   ]
  },
  {
   "cell_type": "code",
   "execution_count": 225,
   "metadata": {},
   "outputs": [
    {
     "name": "stdout",
     "output_type": "stream",
     "text": [
      "480.0\n",
      "12.0\n"
     ]
    }
   ],
   "source": [
    "print(LP[\"Loan_Amount_Term\"].max())\n",
    "print(LP[\"Loan_Amount_Term\"].min())"
   ]
  },
  {
   "cell_type": "code",
   "execution_count": 226,
   "metadata": {},
   "outputs": [
    {
     "data": {
      "image/png": "[encoded data removed]",
      "text/plain": [
       "<Figure size 1080x432 with 1 Axes>"
      ]
     },
     "metadata": {
      "needs_background": "light"
     },
     "output_type": "display_data"
    }
   ],
   "source": [
    "plt.figure(figsize = (15,6))\n",
    "sns.distplot(LP['Loan_Amount_Term'],kde = False, bins = 100,color = '#ff3800')\n",
    "plt.xlim((0,480));"
   ]
  },
  {
   "cell_type": "code",
   "execution_count": 227,
   "metadata": {},
   "outputs": [
    {
     "data": {
      "image/png": "[encoded data removed]",
      "text/plain": [
       "<Figure size 432x288 with 1 Axes>"
      ]
     },
     "metadata": {
      "needs_background": "light"
     },
     "output_type": "display_data"
    }
   ],
   "source": [
    "sns.boxplot( LP[\"Loan_Amount_Term\"]).set_title(\"Box plot of the Loan_Amount_Term\")\n",
    "plt.show()"
   ]
  },
  {
   "cell_type": "code",
   "execution_count": 228,
   "metadata": {},
   "outputs": [
    {
     "data": {
      "image/png": "[encoded data removed]",
      "text/plain": [
       "<Figure size 1080x432 with 1 Axes>"
      ]
     },
     "metadata": {
      "needs_background": "light"
     },
     "output_type": "display_data"
    }
   ],
   "source": [
    "plt.figure(figsize = (15,6))\n",
    "sns.kdeplot(LP['Loan_Amount_Term'])\n",
    "plt.xlim((0,480)); "
   ]
  },
  {
   "cell_type": "code",
   "execution_count": 229,
   "metadata": {},
   "outputs": [],
   "source": [
    "# Loan Amount Term variable is fairly normally distributed but it has some outliers."
   ]
  },
  {
   "cell_type": "code",
   "execution_count": 230,
   "metadata": {},
   "outputs": [],
   "source": [
    "# BiVariate Analysis"
   ]
  },
  {
   "cell_type": "code",
   "execution_count": 231,
   "metadata": {},
   "outputs": [],
   "source": [
    "def getProbOfLoan(col, target, df, forGraph=True):\n",
    "    crosstab = pd.crosstab(index = df[col], columns = df[target])\n",
    "    crosstab.columns = pd.Index(list(crosstab.columns))\n",
    "    #print(crosstab.columns)\n",
    "    crosstab = crosstab.reset_index() \n",
    "    crosstab['TotalCount'] = crosstab['N'] + crosstab['Y']\n",
    "    crosstab['Loan_Status'] = crosstab['Y'] / crosstab['TotalCount']\n",
    "    \n",
    "    print(crosstab.head())\n",
    "    if forGraph:\n",
    "        return crosstab[[col, 'Loan_Status']]\n",
    "    else:\n",
    "        return crosstab[[col, 'TotalCount', 'Loan_Status']]"
   ]
  },
  {
   "cell_type": "code",
   "execution_count": 232,
   "metadata": {},
   "outputs": [
    {
     "name": "stdout",
     "output_type": "stream",
     "text": [
      "   Gender    N    Y  TotalCount  Loan_Status\n",
      "0  Female   37   75         112     0.669643\n",
      "1    Male  150  339         489     0.693252\n"
     ]
    },
    {
     "data": {
      "image/png": "[encoded data removed]",
      "text/plain": [
       "<Figure size 432x288 with 1 Axes>"
      ]
     },
     "metadata": {
      "needs_background": "light"
     },
     "output_type": "display_data"
    }
   ],
   "source": [
    "sns.barplot(x = 'Gender',y = 'Loan_Status', data=getProbOfLoan('Gender', 'Loan_Status',LP));\n",
    "# data=getProbOfChurn('gender', 'Churn',df)"
   ]
  },
  {
   "cell_type": "code",
   "execution_count": 233,
   "metadata": {},
   "outputs": [],
   "source": [
    "#Male applicants have slightly higher probability of approval of loan."
   ]
  },
  {
   "cell_type": "code",
   "execution_count": 234,
   "metadata": {},
   "outputs": [
    {
     "name": "stdout",
     "output_type": "stream",
     "text": [
      "  Married    N    Y  TotalCount  Loan_Status\n",
      "0      No   79  134         213     0.629108\n",
      "1     Yes  113  285         398     0.716080\n"
     ]
    },
    {
     "data": {
      "image/png": "[encoded data removed]",
      "text/plain": [
       "<Figure size 432x288 with 1 Axes>"
      ]
     },
     "metadata": {
      "needs_background": "light"
     },
     "output_type": "display_data"
    }
   ],
   "source": [
    "sns.barplot(x = 'Married',y = 'Loan_Status', data=getProbOfLoan('Married', 'Loan_Status',LP));"
   ]
  },
  {
   "cell_type": "code",
   "execution_count": 235,
   "metadata": {},
   "outputs": [],
   "source": [
    "#Proportion of Married applicants is higher for the approved loans"
   ]
  },
  {
   "cell_type": "code",
   "execution_count": 236,
   "metadata": {},
   "outputs": [
    {
     "name": "stdout",
     "output_type": "stream",
     "text": [
      "  Dependents    N    Y  TotalCount  Loan_Status\n",
      "0          0  107  238         345     0.689855\n",
      "1          1   36   66         102     0.647059\n",
      "2          2   25   76         101     0.752475\n",
      "3         3+   18   33          51     0.647059\n"
     ]
    },
    {
     "data": {
      "text/plain": [
       "<matplotlib.axes._subplots.AxesSubplot at 0x177c8ef7438>"
      ]
     },
     "execution_count": 236,
     "metadata": {},
     "output_type": "execute_result"
    },
    {
     "data": {
      "image/png": "[encoded data removed]",
      "text/plain": [
       "<Figure size 432x288 with 1 Axes>"
      ]
     },
     "metadata": {
      "needs_background": "light"
     },
     "output_type": "display_data"
    }
   ],
   "source": [
    "sns.barplot(x = 'Dependents',y = 'Loan_Status', data=getProbOfLoan('Dependents', 'Loan_Status',LP))"
   ]
  },
  {
   "cell_type": "code",
   "execution_count": 237,
   "metadata": {},
   "outputs": [],
   "source": [
    "# 1 and 3+ Dependents have equal chances of getting loan. with the 2 dependents have higher probability getting loan.\n",
    "#Distribution of applicants with 1 or 3+ dependents is similar across both the categories of Loan_Status."
   ]
  },
  {
   "cell_type": "code",
   "execution_count": 238,
   "metadata": {},
   "outputs": [
    {
     "name": "stdout",
     "output_type": "stream",
     "text": [
      "      Education    N    Y  TotalCount  Loan_Status\n",
      "0      Graduate  140  340         480     0.708333\n",
      "1  Not Graduate   52   82         134     0.611940\n"
     ]
    },
    {
     "data": {
      "text/plain": [
       "<matplotlib.axes._subplots.AxesSubplot at 0x177cbe2d668>"
      ]
     },
     "execution_count": 238,
     "metadata": {},
     "output_type": "execute_result"
    },
    {
     "data": {
      "image/png": "[encoded data removed]",
      "text/plain": [
       "<Figure size 432x288 with 1 Axes>"
      ]
     },
     "metadata": {
      "needs_background": "light"
     },
     "output_type": "display_data"
    }
   ],
   "source": [
    "sns.barplot(x = 'Education',y = 'Loan_Status', data=getProbOfLoan('Education', 'Loan_Status',LP))"
   ]
  },
  {
   "cell_type": "code",
   "execution_count": 239,
   "metadata": {},
   "outputs": [],
   "source": [
    "#Graduate people have more chances of approval of loan.\n",
    "#Proportion of Graduate applicants is higher for the approved loans."
   ]
  },
  {
   "cell_type": "code",
   "execution_count": 240,
   "metadata": {},
   "outputs": [
    {
     "name": "stdout",
     "output_type": "stream",
     "text": [
      "  Self_Employed    N    Y  TotalCount  Loan_Status\n",
      "0            No  157  343         500     0.686000\n",
      "1           Yes   26   56          82     0.682927\n"
     ]
    },
    {
     "data": {
      "text/plain": [
       "<matplotlib.axes._subplots.AxesSubplot at 0x177cd4afac8>"
      ]
     },
     "execution_count": 240,
     "metadata": {},
     "output_type": "execute_result"
    },
    {
     "data": {
      "image/png": "[encoded data removed]",
      "text/plain": [
       "<Figure size 432x288 with 1 Axes>"
      ]
     },
     "metadata": {
      "needs_background": "light"
     },
     "output_type": "display_data"
    }
   ],
   "source": [
    "sns.barplot(x = 'Self_Employed',y = 'Loan_Status', data=getProbOfLoan('Self_Employed', 'Loan_Status',LP))"
   ]
  },
  {
   "cell_type": "code",
   "execution_count": 241,
   "metadata": {},
   "outputs": [],
   "source": [
    "#Self_Employed column has same proportion approval of Loan. There is no variation in the two classes of Self_Employed.\n",
    "#There is nothing significant we can infer from Self_Employed vs Loan_Status plot"
   ]
  },
  {
   "cell_type": "code",
   "execution_count": 242,
   "metadata": {},
   "outputs": [
    {
     "name": "stdout",
     "output_type": "stream",
     "text": [
      "  Credit_History   N    Y  TotalCount  Loan_Status\n",
      "0            0.0  82    7          89     0.078652\n",
      "1            1.0  97  378         475     0.795789\n"
     ]
    },
    {
     "data": {
      "image/png": "[encoded data removed]",
      "text/plain": [
       "<Figure size 432x288 with 1 Axes>"
      ]
     },
     "metadata": {
      "needs_background": "light"
     },
     "output_type": "display_data"
    }
   ],
   "source": [
    "sns.barplot(x = 'Credit_History',y = 'Loan_Status', data=getProbOfLoan('Credit_History', 'Loan_Status',LP));"
   ]
  },
  {
   "cell_type": "code",
   "execution_count": 243,
   "metadata": {},
   "outputs": [],
   "source": [
    "#The people who has Credit_history as 1 , they will get loan easily."
   ]
  },
  {
   "cell_type": "code",
   "execution_count": 244,
   "metadata": {},
   "outputs": [
    {
     "name": "stdout",
     "output_type": "stream",
     "text": [
      "  Property_Area   N    Y  TotalCount  Loan_Status\n",
      "0         Rural  69  110         179     0.614525\n",
      "1     Semiurban  54  179         233     0.768240\n",
      "2         Urban  69  133         202     0.658416\n"
     ]
    },
    {
     "data": {
      "text/plain": [
       "<matplotlib.axes._subplots.AxesSubplot at 0x177cd550780>"
      ]
     },
     "execution_count": 244,
     "metadata": {},
     "output_type": "execute_result"
    },
    {
     "data": {
      "image/png": "[encoded data removed]",
      "text/plain": [
       "<Figure size 432x288 with 1 Axes>"
      ]
     },
     "metadata": {
      "needs_background": "light"
     },
     "output_type": "display_data"
    }
   ],
   "source": [
    "sns.barplot(x = 'Property_Area',y = 'Loan_Status', data=getProbOfLoan('Property_Area', 'Loan_Status',LP))"
   ]
  },
  {
   "cell_type": "code",
   "execution_count": 245,
   "metadata": {},
   "outputs": [],
   "source": [
    "# semiurban property_area has high probability of getting loan compared to other 2(Rural and Urban). The remaining two Rural and Urban areas have nearly similar proportion of getting Loan."
   ]
  },
  {
   "cell_type": "code",
   "execution_count": 246,
   "metadata": {},
   "outputs": [
    {
     "data": {
      "image/png": "[encoded data removed]",
      "text/plain": [
       "<Figure size 1080x576 with 1 Axes>"
      ]
     },
     "metadata": {},
     "output_type": "display_data"
    }
   ],
   "source": [
    "sns.set_style('darkgrid')\n",
    "plt.figure(figsize=(15,8))\n",
    "LP[LP['Loan_Status']== 'N']['ApplicantIncome'].hist(alpha=0.5,color='blue',\n",
    "                                              bins=30,label='NO_Loan_Status')\n",
    "LP[LP['Loan_Status']=='Y']['ApplicantIncome'].hist(alpha=0.5,color='red',\n",
    "                                              bins=30,label='Yes_Loan_Status')\n",
    "plt.legend()\n",
    "plt.xlabel('ApplicantIncome')\n",
    "plt.xlim(0,81000)\n",
    "plt.ylim(0,1000);"
   ]
  },
  {
   "cell_type": "code",
   "execution_count": 247,
   "metadata": {},
   "outputs": [
    {
     "data": {
      "image/png": "[encoded data removed]",
      "text/plain": [
       "<Figure size 1080x576 with 1 Axes>"
      ]
     },
     "metadata": {},
     "output_type": "display_data"
    }
   ],
   "source": [
    "# sns.set_style('darkgrid')\n",
    "# plt.figure(figsize=(15,8))\n",
    "# LP[LP['Loan_Status']== 'N']['CoapplicantIncome'].hist(alpha=0.5,color='blue',\n",
    "#                                               bins=30,label='N_Loan_Status')\n",
    "# LP[LP['Loan_Status']=='Y']['CoapplicantIncome'].hist(alpha=0.5,color='red',\n",
    "#                                               bins=30,label='Y_Loan_Status')\n",
    "# plt.legend()\n",
    "# plt.xlabel('CoapplicantIncome')\n",
    "# plt.xlim(0,50000)\n",
    "# plt.ylim(0,1500);"
   ]
  },
  {
   "cell_type": "code",
   "execution_count": 248,
   "metadata": {},
   "outputs": [
    {
     "data": {
      "image/png": "[encoded data removed]",
      "text/plain": [
       "<Figure size 1080x576 with 1 Axes>"
      ]
     },
     "metadata": {},
     "output_type": "display_data"
    }
   ],
   "source": [
    "sns.set_style('darkgrid')\n",
    "plt.figure(figsize=(15,8))\n",
    "LP[LP['Loan_Status']== 'No']['LoanAmount'].hist(alpha=0.5,color='blue',\n",
    "                                              bins=30,label='N_Loan_Status')\n",
    "LP[LP['Loan_Status']=='Yes']['LoanAmount'].hist(alpha=0.5,color='red',\n",
    "                                              bins=30,label='Y_Loan_Status')\n",
    "plt.legend()\n",
    "plt.xlabel('LoanAmount')\n",
    "plt.xlim(0,750)\n",
    "plt.ylim(0,1000);"
   ]
  },
  {
   "cell_type": "code",
   "execution_count": 249,
   "metadata": {},
   "outputs": [
    {
     "name": "stdout",
     "output_type": "stream",
     "text": [
      "   ApplicantIncome  N  Y  TotalCount  Loan_Status\n",
      "0            150.0  1  0           1          0.0\n",
      "1            210.0  0  1           1          1.0\n",
      "2            416.0  1  0           1          0.0\n",
      "3            645.0  0  1           1          1.0\n",
      "4            674.0  0  1           1          1.0\n"
     ]
    }
   ],
   "source": [
    "data = getProbOfLoan(\"ApplicantIncome\",\"Loan_Status\",LP)"
   ]
  },
  {
   "cell_type": "code",
   "execution_count": 250,
   "metadata": {},
   "outputs": [
    {
     "data": {
      "image/png": "[encoded data removed]",
      "text/plain": [
       "<Figure size 432x288 with 1 Axes>"
      ]
     },
     "metadata": {},
     "output_type": "display_data"
    }
   ],
   "source": [
    "# plt.scatter(data[\"ApplicantIncome\"], data[\"Loan_Status\"])\n",
    "# plt.xticks(np.arange(np.min(LP[\"ApplicantIncome\"]),np.max(LP[\"ApplicantIncome\"]),10))\n",
    "# plt.xlabel(\"ApplicantIncome of applicant\")\n",
    "# plt.ylabel(\"Loan_Status\")\n",
    "\n",
    "# plt.show()"
   ]
  },
  {
   "cell_type": "code",
   "execution_count": 251,
   "metadata": {},
   "outputs": [
    {
     "data": {
      "text/plain": [
       "count      614.000000\n",
       "mean      5403.459283\n",
       "std       6109.041673\n",
       "min        150.000000\n",
       "25%       2877.500000\n",
       "50%       3812.500000\n",
       "75%       5795.000000\n",
       "max      81000.000000\n",
       "Name: ApplicantIncome, dtype: float64"
      ]
     },
     "execution_count": 251,
     "metadata": {},
     "output_type": "execute_result"
    }
   ],
   "source": [
    "LP[\"ApplicantIncome\"].describe()"
   ]
  },
  {
   "cell_type": "code",
   "execution_count": 252,
   "metadata": {},
   "outputs": [],
   "source": [
    "# bins = [0, 2500, 6000,10000,81000]\n",
    "# print(bins)"
   ]
  },
  {
   "cell_type": "code",
   "execution_count": 253,
   "metadata": {},
   "outputs": [],
   "source": [
    "LP[\"Binned_ApplicantIncome\"]=pd.qcut(LP[\"ApplicantIncome\"], q=4,precision=0,labels=[\"Low\",\"Average\",\"High\",\"Veryhigh\"])"
   ]
  },
  {
   "cell_type": "code",
   "execution_count": 254,
   "metadata": {},
   "outputs": [
    {
     "data": {
      "text/plain": [
       "Average     153\n",
       "High        153\n",
       "Low         154\n",
       "Veryhigh    154\n",
       "Name: Binned_ApplicantIncome, dtype: int64"
      ]
     },
     "execution_count": 254,
     "metadata": {},
     "output_type": "execute_result"
    }
   ],
   "source": [
    "LP[\"Binned_ApplicantIncome\"].value_counts(sort=True,ascending=True)"
   ]
  },
  {
   "cell_type": "code",
   "execution_count": 255,
   "metadata": {},
   "outputs": [
    {
     "name": "stdout",
     "output_type": "stream",
     "text": [
      "  Binned_ApplicantIncome   N    Y  TotalCount  Loan_Status\n",
      "0                    Low  48  106         154     0.688312\n",
      "1                Average  48  105         153     0.686275\n",
      "2                   High  47  106         153     0.692810\n",
      "3               Veryhigh  49  105         154     0.681818\n"
     ]
    },
    {
     "data": {
      "text/plain": [
       "<matplotlib.axes._subplots.AxesSubplot at 0x177d6104f60>"
      ]
     },
     "execution_count": 255,
     "metadata": {},
     "output_type": "execute_result"
    },
    {
     "data": {
      "image/png": "[encoded data removed]",
      "text/plain": [
       "<Figure size 432x288 with 1 Axes>"
      ]
     },
     "metadata": {},
     "output_type": "display_data"
    }
   ],
   "source": [
    "sns.barplot(x = 'Binned_ApplicantIncome',y = 'Loan_Status', data=getProbOfLoan('Binned_ApplicantIncome', 'Loan_Status',LP))"
   ]
  },
  {
   "cell_type": "code",
   "execution_count": 256,
   "metadata": {},
   "outputs": [
    {
     "name": "stdout",
     "output_type": "stream",
     "text": [
      "41667.0\n",
      "0.0\n"
     ]
    }
   ],
   "source": [
    "print(LP[\"CoapplicantIncome\"].max())\n",
    "print(LP[\"CoapplicantIncome\"].min())"
   ]
  },
  {
   "cell_type": "code",
   "execution_count": 257,
   "metadata": {},
   "outputs": [
    {
     "data": {
      "text/plain": [
       "count      614.000000\n",
       "mean      1621.245798\n",
       "std       2926.248369\n",
       "min          0.000000\n",
       "25%          0.000000\n",
       "50%       1188.500000\n",
       "75%       2297.250000\n",
       "max      41667.000000\n",
       "Name: CoapplicantIncome, dtype: float64"
      ]
     },
     "execution_count": 257,
     "metadata": {},
     "output_type": "execute_result"
    }
   ],
   "source": [
    "LP[\"CoapplicantIncome\"].describe()"
   ]
  },
  {
   "cell_type": "code",
   "execution_count": 258,
   "metadata": {},
   "outputs": [],
   "source": [
    "#bins_a=[0,1000,3000,42000]\n",
    "LP[\"Binned_CoapplicantIncome\"]=pd.qcut(LP[\"CoapplicantIncome\"], q=4,labels=[\"Low\",\"Average\",\"High\"],duplicates= 'drop')"
   ]
  },
  {
   "cell_type": "code",
   "execution_count": 259,
   "metadata": {},
   "outputs": [],
   "source": [
    "bins_1=[0,1000,3000,42000]\n",
    "LP[\"Binned_CoapplicantIncome_1\"]=pd.cut(LP[\"CoapplicantIncome\"],bins_1,labels=[\"Low\",\"Average\",\"High\"],duplicates= 'drop')"
   ]
  },
  {
   "cell_type": "code",
   "execution_count": 260,
   "metadata": {},
   "outputs": [
    {
     "data": {
      "text/plain": [
       "Low         22\n",
       "High        97\n",
       "Average    222\n",
       "Name: Binned_CoapplicantIncome_1, dtype: int64"
      ]
     },
     "execution_count": 260,
     "metadata": {},
     "output_type": "execute_result"
    }
   ],
   "source": [
    "LP[\"Binned_CoapplicantIncome_1\"].value_counts(sort=True,ascending=True)"
   ]
  },
  {
   "cell_type": "code",
   "execution_count": 261,
   "metadata": {},
   "outputs": [
    {
     "data": {
      "text/plain": [
       "Average    153\n",
       "High       154\n",
       "Low        307\n",
       "Name: Binned_CoapplicantIncome, dtype: int64"
      ]
     },
     "execution_count": 261,
     "metadata": {},
     "output_type": "execute_result"
    }
   ],
   "source": [
    "LP[\"Binned_CoapplicantIncome\"].value_counts(sort=True,ascending=True)"
   ]
  },
  {
   "cell_type": "code",
   "execution_count": 262,
   "metadata": {},
   "outputs": [
    {
     "name": "stdout",
     "output_type": "stream",
     "text": [
      "  Binned_CoapplicantIncome   N    Y  TotalCount  Loan_Status\n",
      "0                      Low  99  208         307     0.677524\n",
      "1                  Average  45  108         153     0.705882\n",
      "2                     High  48  106         154     0.688312\n"
     ]
    },
    {
     "data": {
      "text/plain": [
       "<matplotlib.axes._subplots.AxesSubplot at 0x177d5ff52b0>"
      ]
     },
     "execution_count": 262,
     "metadata": {},
     "output_type": "execute_result"
    },
    {
     "data": {
      "image/png": "[encoded data removed]",
      "text/plain": [
       "<Figure size 432x288 with 1 Axes>"
      ]
     },
     "metadata": {},
     "output_type": "display_data"
    }
   ],
   "source": [
    "sns.barplot(x = 'Binned_CoapplicantIncome',y = 'Loan_Status', data=getProbOfLoan('Binned_CoapplicantIncome', 'Loan_Status',LP))"
   ]
  },
  {
   "cell_type": "code",
   "execution_count": 263,
   "metadata": {},
   "outputs": [
    {
     "name": "stdout",
     "output_type": "stream",
     "text": [
      "  Binned_CoapplicantIncome_1   N    Y  TotalCount  Loan_Status\n",
      "0                        Low   3   19          22     0.863636\n",
      "1                    Average  61  161         222     0.725225\n",
      "2                       High  32   65          97     0.670103\n"
     ]
    },
    {
     "data": {
      "text/plain": [
       "<matplotlib.axes._subplots.AxesSubplot at 0x177d717f9b0>"
      ]
     },
     "execution_count": 263,
     "metadata": {},
     "output_type": "execute_result"
    },
    {
     "data": {
      "image/png": "[encoded data removed]",
      "text/plain": [
       "<Figure size 432x288 with 1 Axes>"
      ]
     },
     "metadata": {},
     "output_type": "display_data"
    }
   ],
   "source": [
    "sns.barplot(x = 'Binned_CoapplicantIncome_1',y = 'Loan_Status', data=getProbOfLoan('Binned_CoapplicantIncome_1', 'Loan_Status',LP))"
   ]
  },
  {
   "cell_type": "code",
   "execution_count": 264,
   "metadata": {},
   "outputs": [],
   "source": [
    "# low coapplicant income has high chances of getting Loan"
   ]
  },
  {
   "cell_type": "code",
   "execution_count": 265,
   "metadata": {},
   "outputs": [],
   "source": [
    "#creating a new feature as Total Income"
   ]
  },
  {
   "cell_type": "code",
   "execution_count": 266,
   "metadata": {},
   "outputs": [],
   "source": [
    "LP[\"Total_Income\"]=LP[\"ApplicantIncome\"]+LP[\"CoapplicantIncome\"]"
   ]
  },
  {
   "cell_type": "code",
   "execution_count": 267,
   "metadata": {},
   "outputs": [
    {
     "data": {
      "text/plain": [
       "count      614.000000\n",
       "mean      7024.705081\n",
       "std       6458.663872\n",
       "min       1442.000000\n",
       "25%       4166.000000\n",
       "50%       5416.500000\n",
       "75%       7521.750000\n",
       "max      81000.000000\n",
       "Name: Total_Income, dtype: float64"
      ]
     },
     "execution_count": 267,
     "metadata": {},
     "output_type": "execute_result"
    }
   ],
   "source": [
    "LP[\"Total_Income\"].describe()"
   ]
  },
  {
   "cell_type": "code",
   "execution_count": 268,
   "metadata": {},
   "outputs": [],
   "source": [
    "LP[\"Binned_Total_Income\"]=pd.qcut(LP[\"Total_Income\"],q=4,labels=[\"Low\",\"Average\",\"High\",\"Veryhigh\"])"
   ]
  },
  {
   "cell_type": "code",
   "execution_count": 269,
   "metadata": {},
   "outputs": [
    {
     "data": {
      "text/plain": [
       "Low         155\n",
       "Veryhigh    154\n",
       "High        153\n",
       "Average     152\n",
       "Name: Binned_Total_Income, dtype: int64"
      ]
     },
     "execution_count": 269,
     "metadata": {},
     "output_type": "execute_result"
    }
   ],
   "source": [
    "LP[\"Binned_Total_Income\"].value_counts()"
   ]
  },
  {
   "cell_type": "code",
   "execution_count": 270,
   "metadata": {},
   "outputs": [
    {
     "name": "stdout",
     "output_type": "stream",
     "text": [
      "  Binned_Total_Income   N    Y  TotalCount  Loan_Status\n",
      "0                 Low  50  105         155     0.677419\n",
      "1             Average  48  104         152     0.684211\n",
      "2                High  44  109         153     0.712418\n",
      "3            Veryhigh  50  104         154     0.675325\n"
     ]
    },
    {
     "data": {
      "text/plain": [
       "<matplotlib.axes._subplots.AxesSubplot at 0x177d5f86470>"
      ]
     },
     "execution_count": 270,
     "metadata": {},
     "output_type": "execute_result"
    },
    {
     "data": {
      "image/png": "[encoded data removed]",
      "text/plain": [
       "<Figure size 432x288 with 1 Axes>"
      ]
     },
     "metadata": {},
     "output_type": "display_data"
    }
   ],
   "source": [
    "sns.barplot(x = 'Binned_Total_Income',y = 'Loan_Status', data=getProbOfLoan('Binned_Total_Income', 'Loan_Status',LP))"
   ]
  },
  {
   "cell_type": "code",
   "execution_count": 271,
   "metadata": {},
   "outputs": [],
   "source": [
    "#Low income applicant has low chances of getting loan compared Average and Veryhigh.High income has high probability of getting job."
   ]
  },
  {
   "cell_type": "code",
   "execution_count": 272,
   "metadata": {},
   "outputs": [
    {
     "data": {
      "text/plain": [
       "1.0    475\n",
       "0.0     89\n",
       "Name: Credit_History, dtype: int64"
      ]
     },
     "execution_count": 272,
     "metadata": {},
     "output_type": "execute_result"
    }
   ],
   "source": [
    "LP[\"Credit_History\"].value_counts()"
   ]
  },
  {
   "cell_type": "code",
   "execution_count": 273,
   "metadata": {},
   "outputs": [
    {
     "data": {
      "text/plain": [
       "Y    422\n",
       "N    192\n",
       "Name: Loan_Status, dtype: int64"
      ]
     },
     "execution_count": 273,
     "metadata": {},
     "output_type": "execute_result"
    }
   ],
   "source": [
    "LP[\"Loan_Status\"].value_counts()"
   ]
  },
  {
   "cell_type": "code",
   "execution_count": 274,
   "metadata": {},
   "outputs": [],
   "source": [
    "LP[\"Loan_Status\"].replace(to_replace={\"Y\":\"1\",\"N\":\"0\"},inplace=True)"
   ]
  },
  {
   "cell_type": "code",
   "execution_count": 275,
   "metadata": {},
   "outputs": [
    {
     "data": {
      "text/plain": [
       "1    422\n",
       "0    192\n",
       "Name: Loan_Status, dtype: int64"
      ]
     },
     "execution_count": 275,
     "metadata": {},
     "output_type": "execute_result"
    }
   ],
   "source": [
    "LP[\"Loan_Status\"].value_counts()"
   ]
  },
  {
   "cell_type": "code",
   "execution_count": 276,
   "metadata": {},
   "outputs": [
    {
     "data": {
      "text/plain": [
       "Gender                        category\n",
       "Married                       category\n",
       "Dependents                    category\n",
       "Education                     category\n",
       "Self_Employed                 category\n",
       "ApplicantIncome                float64\n",
       "CoapplicantIncome              float64\n",
       "LoanAmount                     float64\n",
       "Loan_Amount_Term               float64\n",
       "Credit_History                category\n",
       "Property_Area                 category\n",
       "Loan_Status                     object\n",
       "Binned_ApplicantIncome        category\n",
       "Binned_CoapplicantIncome      category\n",
       "Binned_CoapplicantIncome_1    category\n",
       "Total_Income                   float64\n",
       "Binned_Total_Income           category\n",
       "dtype: object"
      ]
     },
     "execution_count": 276,
     "metadata": {},
     "output_type": "execute_result"
    }
   ],
   "source": [
    "LP.dtypes"
   ]
  },
  {
   "cell_type": "code",
   "execution_count": 277,
   "metadata": {},
   "outputs": [
    {
     "name": "stdout",
     "output_type": "stream",
     "text": [
      "                   ApplicantIncome  CoapplicantIncome  LoanAmount  \\\n",
      "ApplicantIncome           1.000000          -0.116605    0.570909   \n",
      "CoapplicantIncome        -0.116605           1.000000    0.188619   \n",
      "LoanAmount                0.570909           0.188619    1.000000   \n",
      "Loan_Amount_Term         -0.045306          -0.059878    0.039447   \n",
      "Total_Income              0.893037           0.342781    0.624621   \n",
      "\n",
      "                   Loan_Amount_Term  Total_Income  \n",
      "ApplicantIncome           -0.045306      0.893037  \n",
      "CoapplicantIncome         -0.059878      0.342781  \n",
      "LoanAmount                 0.039447      0.624621  \n",
      "Loan_Amount_Term           1.000000     -0.069948  \n",
      "Total_Income              -0.069948      1.000000  \n"
     ]
    },
    {
     "data": {
      "image/png": "[encoded data removed]",
      "text/plain": [
       "<Figure size 864x1080 with 2 Axes>"
      ]
     },
     "metadata": {},
     "output_type": "display_data"
    }
   ],
   "source": [
    "correlation=LP.corr()\n",
    "print(correlation)\n",
    "f, ax = plt.subplots(figsize=(12, 15))\n",
    "#f, ax = plt.subplots(figsize=(12, 10))\n",
    "#\n",
    "# Generate a mask for upper traingle\n",
    "#\n",
    "#mask = np.triu(np.ones_like(correlation, dtype=bool))\n",
    "#sns.heatmap(correlation, annot=True, mask = mask, cmap=\"BuPu\")\n",
    "sns.heatmap(correlation, square=True, cmap=\"BuPu\",annot=True);#vmax=.8, "
   ]
  },
  {
   "cell_type": "code",
   "execution_count": 278,
   "metadata": {},
   "outputs": [],
   "source": [
    "#from this we can see that ApplicatntIncome is correlated with Loan_Amount and ApplicatntIncome and Total income has good correlation"
   ]
  },
  {
   "cell_type": "code",
   "execution_count": 279,
   "metadata": {},
   "outputs": [
    {
     "data": {
      "text/plain": [
       "<matplotlib.axes._subplots.AxesSubplot at 0x177d640e438>"
      ]
     },
     "execution_count": 279,
     "metadata": {},
     "output_type": "execute_result"
    },
    {
     "data": {
      "image/png": "[encoded data removed]",
      "text/plain": [
       "<Figure size 720x360 with 1 Axes>"
      ]
     },
     "metadata": {},
     "output_type": "display_data"
    }
   ],
   "source": [
    "LP['Total_Income'].hist(figsize=(10, 5))"
   ]
  },
  {
   "cell_type": "code",
   "execution_count": 280,
   "metadata": {},
   "outputs": [
    {
     "data": {
      "text/plain": [
       "<matplotlib.axes._subplots.AxesSubplot at 0x177d5f341d0>"
      ]
     },
     "execution_count": 280,
     "metadata": {},
     "output_type": "execute_result"
    },
    {
     "data": {
      "image/png": "[encoded data removed]",
      "text/plain": [
       "<Figure size 1080x432 with 1 Axes>"
      ]
     },
     "metadata": {},
     "output_type": "display_data"
    }
   ],
   "source": [
    "plt.figure(figsize = (15,6))\n",
    "sns.kdeplot(LP['Total_Income'])\n",
    "#plt.xlim((0,480)); "
   ]
  },
  {
   "cell_type": "code",
   "execution_count": 281,
   "metadata": {},
   "outputs": [
    {
     "data": {
      "text/plain": [
       "<matplotlib.axes._subplots.AxesSubplot at 0x177d63e0ac8>"
      ]
     },
     "execution_count": 281,
     "metadata": {},
     "output_type": "execute_result"
    },
    {
     "data": {
      "image/png": "[encoded data removed]",
      "text/plain": [
       "<Figure size 432x288 with 1 Axes>"
      ]
     },
     "metadata": {},
     "output_type": "display_data"
    }
   ],
   "source": [
    "LP[\"Total_Income_log\"]=np.log(LP[\"Total_Income\"])\n",
    "sns.distplot(LP[\"Total_Income_log\"])"
   ]
  },
  {
   "cell_type": "code",
   "execution_count": 282,
   "metadata": {},
   "outputs": [
    {
     "data": {
      "text/plain": [
       "Index(['Gender', 'Married', 'Dependents', 'Education', 'Self_Employed',\n",
       "       'ApplicantIncome', 'CoapplicantIncome', 'LoanAmount',\n",
       "       'Loan_Amount_Term', 'Credit_History', 'Property_Area', 'Loan_Status',\n",
       "       'Binned_ApplicantIncome', 'Binned_CoapplicantIncome',\n",
       "       'Binned_CoapplicantIncome_1', 'Total_Income', 'Binned_Total_Income',\n",
       "       'Total_Income_log'],\n",
       "      dtype='object')"
      ]
     },
     "execution_count": 282,
     "metadata": {},
     "output_type": "execute_result"
    }
   ],
   "source": [
    "LP.columns"
   ]
  },
  {
   "cell_type": "code",
   "execution_count": 283,
   "metadata": {},
   "outputs": [
    {
     "data": {
      "text/plain": [
       "360.0    512\n",
       "180.0     44\n",
       "480.0     15\n",
       "300.0     13\n",
       "84.0       4\n",
       "240.0      4\n",
       "120.0      3\n",
       "36.0       2\n",
       "60.0       2\n",
       "12.0       1\n",
       "Name: Loan_Amount_Term, dtype: int64"
      ]
     },
     "execution_count": 283,
     "metadata": {},
     "output_type": "execute_result"
    }
   ],
   "source": [
    "LP[\"Loan_Amount_Term\"].value_counts()"
   ]
  },
  {
   "cell_type": "code",
   "execution_count": 284,
   "metadata": {},
   "outputs": [],
   "source": [
    "LP[\"EMI\"]=LP[\"LoanAmount\"]/LP[\"Loan_Amount_Term\"]"
   ]
  },
  {
   "cell_type": "code",
   "execution_count": 285,
   "metadata": {},
   "outputs": [
    {
     "data": {
      "text/plain": [
       "0.333333    17\n",
       "0.305556    16\n",
       "0.277778    12\n",
       "0.444444    11\n",
       "0.519444    10\n",
       "0.355556    10\n",
       "0.361111    10\n",
       "0.311111     9\n",
       "0.416667     9\n",
       "0.377778     7\n",
       "0.288889     7\n",
       "0.263889     7\n",
       "0.266667     7\n",
       "0.375000     7\n",
       "0.250000     6\n",
       "0.208333     6\n",
       "0.347222     6\n",
       "0.319444     6\n",
       "0.500000     6\n",
       "0.383333     6\n",
       "0.366667     6\n",
       "0.313889     5\n",
       "0.322222     5\n",
       "0.388889     5\n",
       "0.233333     5\n",
       "0.222222     5\n",
       "0.400000     5\n",
       "0.555556     5\n",
       "0.438889     5\n",
       "0.194444     5\n",
       "0.152778     4\n",
       "0.338889     4\n",
       "0.197222     4\n",
       "0.369444     4\n",
       "0.430556     4\n",
       "0.225000     4\n",
       "0.300000     4\n",
       "0.363889     4\n",
       "0.272222     4\n",
       "0.513889     4\n",
       "0.450000     4\n",
       "0.372222     4\n",
       "0.763889     3\n",
       "0.480556     3\n",
       "0.422222     3\n",
       "0.777778     3\n",
       "0.600000     3\n",
       "0.708333     3\n",
       "0.341667     3\n",
       "0.344444     3\n",
       "1.333333     3\n",
       "0.666667     3\n",
       "0.486111     3\n",
       "0.258333     3\n",
       "1.044444     3\n",
       "0.235417     3\n",
       "0.472222     3\n",
       "0.183333     3\n",
       "0.477778     3\n",
       "0.316667     3\n",
       "0.261111     3\n",
       "0.350000     3\n",
       "0.244444     3\n",
       "0.297222     3\n",
       "0.466667     3\n",
       "0.200000     3\n",
       "0.583333     3\n",
       "0.205556     3\n",
       "0.352778     3\n",
       "0.419444     3\n",
       "0.380556     3\n",
       "0.138889     3\n",
       "0.286111     3\n",
       "0.275000     3\n",
       "0.625000     3\n",
       "0.186111     3\n",
       "0.291667     3\n",
       "0.627778     3\n",
       "0.327778     3\n",
       "0.722222     3\n",
       "0.538889     2\n",
       "0.386111     2\n",
       "0.516667     2\n",
       "0.166667     2\n",
       "0.211111     2\n",
       "0.308333     2\n",
       "0.433333     2\n",
       "0.391667     2\n",
       "0.716667     2\n",
       "0.616667     2\n",
       "0.916667     2\n",
       "0.719444     2\n",
       "0.558333     2\n",
       "0.458333     2\n",
       "0.888889     2\n",
       "0.294444     2\n",
       "0.488889     2\n",
       "0.511111     2\n",
       "0.283333     2\n",
       "1.027778     2\n",
       "0.122222     2\n",
       "0.447222     2\n",
       "0.336111     2\n",
       "0.083333     2\n",
       "0.241667     2\n",
       "0.358333     2\n",
       "0.533333     2\n",
       "0.411111     2\n",
       "0.405556     2\n",
       "0.269444     2\n",
       "0.505556     2\n",
       "0.302778     2\n",
       "0.427778     2\n",
       "1.375000     1\n",
       "2.083333     1\n",
       "0.736111     1\n",
       "0.280556     1\n",
       "1.125000     1\n",
       "1.250000     1\n",
       "1.285714     1\n",
       "0.247222     1\n",
       "0.125000     1\n",
       "0.161111     1\n",
       "0.972222     1\n",
       "0.638889     1\n",
       "9.250000     1\n",
       "0.522222     1\n",
       "0.872222     1\n",
       "0.330556     1\n",
       "0.655556     1\n",
       "0.805556     1\n",
       "1.111111     1\n",
       "0.833333     1\n",
       "1.000000     1\n",
       "0.794444     1\n",
       "0.738889     1\n",
       "1.038889     1\n",
       "0.169444     1\n",
       "0.238889     1\n",
       "0.329167     1\n",
       "1.211111     1\n",
       "0.111111     1\n",
       "0.413333     1\n",
       "0.147917     1\n",
       "0.147222     1\n",
       "0.844444     1\n",
       "0.130556     1\n",
       "0.413889     1\n",
       "1.377778     1\n",
       "0.900000     1\n",
       "0.163889     1\n",
       "0.220000     1\n",
       "1.550000     1\n",
       "0.216667     1\n",
       "0.788889     1\n",
       "0.141667     1\n",
       "0.314583     1\n",
       "0.455556     1\n",
       "0.155556     1\n",
       "0.586111     1\n",
       "0.402778     1\n",
       "1.714286     1\n",
       "1.011111     1\n",
       "0.461111     1\n",
       "0.672222     1\n",
       "0.325000     1\n",
       "2.047619     1\n",
       "2.222222     1\n",
       "0.683333     1\n",
       "0.425000     1\n",
       "0.766667     1\n",
       "0.544444     1\n",
       "0.072222     1\n",
       "1.944444     1\n",
       "1.583333     1\n",
       "0.256250     1\n",
       "0.397222     1\n",
       "0.650000     1\n",
       "0.025000     1\n",
       "1.666667     1\n",
       "0.150000     1\n",
       "0.131250     1\n",
       "0.733333     1\n",
       "0.230556     1\n",
       "0.594444     1\n",
       "0.527778     1\n",
       "0.195833     1\n",
       "2.333333     1\n",
       "0.577778     1\n",
       "0.605556     1\n",
       "0.506667     1\n",
       "0.711111     1\n",
       "0.575000     1\n",
       "0.644444     1\n",
       "0.270000     1\n",
       "2.722222     1\n",
       "2.583333     1\n",
       "0.811111     1\n",
       "0.100000     1\n",
       "0.127778     1\n",
       "0.863889     1\n",
       "0.580556     1\n",
       "0.675000     1\n",
       "0.212500     1\n",
       "0.677778     1\n",
       "0.133333     1\n",
       "0.494444     1\n",
       "0.502778     1\n",
       "0.702778     1\n",
       "3.333333     1\n",
       "0.389583     1\n",
       "0.761111     1\n",
       "0.663889     1\n",
       "0.854167     1\n",
       "0.700000     1\n",
       "0.236111     1\n",
       "0.097222     1\n",
       "0.969444     1\n",
       "0.866667     1\n",
       "0.530556     1\n",
       "0.297917     1\n",
       "0.436111     1\n",
       "0.463889     1\n",
       "0.441667     1\n",
       "0.741667     1\n",
       "0.633333     1\n",
       "1.266667     1\n",
       "0.569444     1\n",
       "1.354167     1\n",
       "0.822222     1\n",
       "0.694444     1\n",
       "0.330000     1\n",
       "1.388889     1\n",
       "0.855556     1\n",
       "4.305556     1\n",
       "0.172222     1\n",
       "0.875000     1\n",
       "Name: EMI, dtype: int64"
      ]
     },
     "execution_count": 285,
     "metadata": {},
     "output_type": "execute_result"
    }
   ],
   "source": [
    "LP[\"EMI\"].value_counts()"
   ]
  },
  {
   "cell_type": "code",
   "execution_count": null,
   "metadata": {},
   "outputs": [],
   "source": []
  },
  {
   "cell_type": "code",
   "execution_count": 286,
   "metadata": {},
   "outputs": [
    {
     "name": "stdout",
     "output_type": "stream",
     "text": [
      "0.025\n"
     ]
    }
   ],
   "source": [
    "print(LP[\"EMI\"].min())"
   ]
  },
  {
   "cell_type": "code",
   "execution_count": 287,
   "metadata": {},
   "outputs": [
    {
     "name": "stdout",
     "output_type": "stream",
     "text": [
      "9.25\n"
     ]
    }
   ],
   "source": [
    "print(LP[\"EMI\"].max())"
   ]
  },
  {
   "cell_type": "code",
   "execution_count": 288,
   "metadata": {},
   "outputs": [],
   "source": [
    "LP[\"Blance_amount\"]=LP[\"Total_Income\"]-LP[\"EMI\"]"
   ]
  },
  {
   "cell_type": "code",
   "execution_count": 289,
   "metadata": {},
   "outputs": [
    {
     "data": {
      "text/plain": [
       "count      578.000000\n",
       "mean      7075.140669\n",
       "std       6597.304273\n",
       "min       1441.902778\n",
       "25%       4165.690278\n",
       "50%       5406.629167\n",
       "75%       7539.124479\n",
       "max      80999.000000\n",
       "Name: Blance_amount, dtype: float64"
      ]
     },
     "execution_count": 289,
     "metadata": {},
     "output_type": "execute_result"
    }
   ],
   "source": [
    "LP[\"Blance_amount\"].describe()"
   ]
  },
  {
   "cell_type": "code",
   "execution_count": 290,
   "metadata": {},
   "outputs": [
    {
     "name": "stdout",
     "output_type": "stream",
     "text": [
      "1441.9027777777778\n",
      "80999.0\n"
     ]
    }
   ],
   "source": [
    "print(LP[\"Blance_amount\"].min())\n",
    "print(LP[\"Blance_amount\"].max())"
   ]
  },
  {
   "cell_type": "code",
   "execution_count": 291,
   "metadata": {},
   "outputs": [
    {
     "data": {
      "text/plain": [
       "Index(['Gender', 'Married', 'Dependents', 'Education', 'Self_Employed',\n",
       "       'ApplicantIncome', 'CoapplicantIncome', 'LoanAmount',\n",
       "       'Loan_Amount_Term', 'Credit_History', 'Property_Area', 'Loan_Status',\n",
       "       'Binned_ApplicantIncome', 'Binned_CoapplicantIncome',\n",
       "       'Binned_CoapplicantIncome_1', 'Total_Income', 'Binned_Total_Income',\n",
       "       'Total_Income_log', 'EMI', 'Blance_amount'],\n",
       "      dtype='object')"
      ]
     },
     "execution_count": 291,
     "metadata": {},
     "output_type": "execute_result"
    }
   ],
   "source": [
    "LP.columns"
   ]
  },
  {
   "cell_type": "code",
   "execution_count": 293,
   "metadata": {},
   "outputs": [],
   "source": [
    "LP.drop(['ApplicantIncome', 'CoapplicantIncome', 'LoanAmount',\n",
    "       'Loan_Amount_Term','Binned_ApplicantIncome', 'Binned_CoapplicantIncome',\n",
    "       'Binned_CoapplicantIncome_1', 'Total_Income','Binned_Total_Income'],axis=1,inplace=True)"
   ]
  },
  {
   "cell_type": "code",
   "execution_count": 294,
   "metadata": {},
   "outputs": [],
   "source": [
    "#   Feature Engineering\n"
   ]
  },
  {
   "cell_type": "code",
   "execution_count": 295,
   "metadata": {},
   "outputs": [],
   "source": [
    "from scipy.stats import chi2_contingency\n",
    "from scipy.stats import chi2\n",
    "\n",
    "import statsmodels.api as sm"
   ]
  },
  {
   "cell_type": "code",
   "execution_count": 296,
   "metadata": {},
   "outputs": [],
   "source": [
    "def find_chi2_independence(cat_col, target, df, alpha=0.05):\n",
    "    data = df[[target, cat_col]]\n",
    "    tab = sm.stats.Table.from_data(data)\n",
    "    tab = tab.table_orig.to_numpy()\n",
    "    print(f\"---------------{target} Vs {cat_col} Chi Square Test of Independence -------------------\")\n",
    "    print(f\"\\n Contingency table :\\n\")\n",
    "    print(tab)\n",
    "    \n",
    "    stat, p, dof, expected = chi2_contingency(tab)\n",
    "    print(f\"\\n Expected table :\\n\")\n",
    "    print(expected)\n",
    "    \n",
    "    print(f\"The p value returned = {p} and degrees of freedom returned = {dof}\")\n",
    "    \n",
    "    # interpret p-value\n",
    "    print('significance(alpha) = %.3f' % (alpha))\n",
    "\n",
    "    if p <= alpha:\n",
    "        print('Dependent (reject H0)')\n",
    "    else:\n",
    "        print('Independent (fail to reject H0)') "
   ]
  },
  {
   "cell_type": "code",
   "execution_count": 297,
   "metadata": {},
   "outputs": [
    {
     "name": "stdout",
     "output_type": "stream",
     "text": [
      "['Gender', 'Married', 'Dependents', 'Education', 'Self_Employed', 'Credit_History', 'Property_Area']\n"
     ]
    }
   ],
   "source": [
    "cat_cols = list(LP.select_dtypes('category').columns)\n",
    "print(cat_cols)"
   ]
  },
  {
   "cell_type": "code",
   "execution_count": 298,
   "metadata": {},
   "outputs": [
    {
     "name": "stdout",
     "output_type": "stream",
     "text": [
      "---------------Loan_Status Vs Gender Chi Square Test of Independence -------------------\n",
      "\n",
      " Contingency table :\n",
      "\n",
      "[[ 37 150]\n",
      " [ 75 339]]\n",
      "\n",
      " Expected table :\n",
      "\n",
      "[[ 34.84858569 152.15141431]\n",
      " [ 77.15141431 336.84858569]]\n",
      "The p value returned = 0.7086529816451106 and degrees of freedom returned = 1\n",
      "significance(alpha) = 0.050\n",
      "Independent (fail to reject H0)\n",
      "---------------Loan_Status Vs Married Chi Square Test of Independence -------------------\n",
      "\n",
      " Contingency table :\n",
      "\n",
      "[[ 79 113]\n",
      " [134 285]]\n",
      "\n",
      " Expected table :\n",
      "\n",
      "[[ 66.93289689 125.06710311]\n",
      " [146.06710311 272.93289689]]\n",
      "The p value returned = 0.03439381301579988 and degrees of freedom returned = 1\n",
      "significance(alpha) = 0.050\n",
      "Dependent (reject H0)\n",
      "---------------Loan_Status Vs Dependents Chi Square Test of Independence -------------------\n",
      "\n",
      " Contingency table :\n",
      "\n",
      "[[107  36  25  18]\n",
      " [238  66  76  33]]\n",
      "\n",
      " Expected table :\n",
      "\n",
      "[[107.12854758  31.67278798  31.36227045  15.83639399]\n",
      " [237.87145242  70.32721202  69.63772955  35.16360601]]\n",
      "The p value returned = 0.3678506740863211 and degrees of freedom returned = 3\n",
      "significance(alpha) = 0.050\n",
      "Independent (fail to reject H0)\n",
      "---------------Loan_Status Vs Education Chi Square Test of Independence -------------------\n",
      "\n",
      " Contingency table :\n",
      "\n",
      "[[140  52]\n",
      " [340  82]]\n",
      "\n",
      " Expected table :\n",
      "\n",
      "[[150.09771987  41.90228013]\n",
      " [329.90228013  92.09771987]]\n",
      "The p value returned = 0.04309962129357355 and degrees of freedom returned = 1\n",
      "significance(alpha) = 0.050\n",
      "Dependent (reject H0)\n",
      "---------------Loan_Status Vs Self_Employed Chi Square Test of Independence -------------------\n",
      "\n",
      " Contingency table :\n",
      "\n",
      "[[157  26]\n",
      " [343  56]]\n",
      "\n",
      " Expected table :\n",
      "\n",
      "[[157.21649485  25.78350515]\n",
      " [342.78350515  56.21649485]]\n",
      "The p value returned = 0.9420039242223718 and degrees of freedom returned = 1\n",
      "significance(alpha) = 0.050\n",
      "Independent (fail to reject H0)\n",
      "---------------Loan_Status Vs Credit_History Chi Square Test of Independence -------------------\n",
      "\n",
      " Contingency table :\n",
      "\n",
      "[[ 82  97]\n",
      " [  7 378]]\n",
      "\n",
      " Expected table :\n",
      "\n",
      "[[ 28.2464539 150.7535461]\n",
      " [ 60.7535461 324.2464539]]\n",
      "The p value returned = 7.184759548750746e-40 and degrees of freedom returned = 1\n",
      "significance(alpha) = 0.050\n",
      "Dependent (reject H0)\n",
      "---------------Loan_Status Vs Property_Area Chi Square Test of Independence -------------------\n",
      "\n",
      " Contingency table :\n",
      "\n",
      "[[ 69  54  69]\n",
      " [110 179 133]]\n",
      "\n",
      " Expected table :\n",
      "\n",
      "[[ 55.97394137  72.85993485  63.16612378]\n",
      " [123.02605863 160.14006515 138.83387622]]\n",
      "The p value returned = 0.0021360187811644915 and degrees of freedom returned = 2\n",
      "significance(alpha) = 0.050\n",
      "Dependent (reject H0)\n"
     ]
    }
   ],
   "source": [
    "for col in cat_cols:\n",
    "    find_chi2_independence(col,'Loan_Status',LP)#Gender,Dependents,Self_Employed"
   ]
  },
  {
   "cell_type": "code",
   "execution_count": 302,
   "metadata": {},
   "outputs": [],
   "source": [
    "LP.drop([\"Gender\",\"Self_Employed\",\"Dependents\"],axis=1,inplace=True)"
   ]
  },
  {
   "cell_type": "code",
   "execution_count": 303,
   "metadata": {},
   "outputs": [],
   "source": [
    "from sklearn.feature_selection import f_classif"
   ]
  },
  {
   "cell_type": "code",
   "execution_count": 304,
   "metadata": {},
   "outputs": [
    {
     "data": {
      "text/plain": [
       "array([ True])"
      ]
     },
     "execution_count": 304,
     "metadata": {},
     "output_type": "execute_result"
    }
   ],
   "source": [
    "x = f_classif(LP[['Total_Income_log']], LP['Loan_Status'])\n",
    "x[1] > 0.05\n",
    "# The f_classification value is less than 0.05 so the MonthlyCharges is significant for model building"
   ]
  },
  {
   "cell_type": "code",
   "execution_count": 310,
   "metadata": {},
   "outputs": [
    {
     "data": {
      "text/plain": [
       "Index(['Married', 'Education', 'Credit_History', 'Property_Area',\n",
       "       'Loan_Status', 'Total_Income_log', 'EMI', 'Blance_amount'],\n",
       "      dtype='object')"
      ]
     },
     "execution_count": 310,
     "metadata": {},
     "output_type": "execute_result"
    }
   ],
   "source": [
    "LP.columns"
   ]
  },
  {
   "cell_type": "code",
   "execution_count": 311,
   "metadata": {},
   "outputs": [
    {
     "data": {
      "text/plain": [
       "Married             category\n",
       "Education           category\n",
       "Credit_History      category\n",
       "Property_Area       category\n",
       "Loan_Status           object\n",
       "Total_Income_log     float64\n",
       "EMI                  float64\n",
       "Blance_amount        float64\n",
       "dtype: object"
      ]
     },
     "execution_count": 311,
     "metadata": {},
     "output_type": "execute_result"
    }
   ],
   "source": [
    "LP.dtypes"
   ]
  },
  {
   "cell_type": "code",
   "execution_count": 313,
   "metadata": {},
   "outputs": [
    {
     "data": {
      "text/plain": [
       "Married             category\n",
       "Education           category\n",
       "Credit_History      category\n",
       "Property_Area       category\n",
       "Loan_Status         category\n",
       "Total_Income_log     float64\n",
       "EMI                  float64\n",
       "Blance_amount        float64\n",
       "dtype: object"
      ]
     },
     "execution_count": 313,
     "metadata": {},
     "output_type": "execute_result"
    }
   ],
   "source": [
    "LP[\"Loan_Status\"]=LP[\"Loan_Status\"].astype(\"category\")\n",
    "LP.dtypes"
   ]
  },
  {
   "cell_type": "code",
   "execution_count": 314,
   "metadata": {},
   "outputs": [
    {
     "data": {
      "text/plain": [
       "Married              3\n",
       "Education            0\n",
       "Credit_History      50\n",
       "Property_Area        0\n",
       "Loan_Status          0\n",
       "Total_Income_log     0\n",
       "EMI                 36\n",
       "Blance_amount       36\n",
       "dtype: int64"
      ]
     },
     "execution_count": 314,
     "metadata": {},
     "output_type": "execute_result"
    }
   ],
   "source": [
    "LP.isna().sum()"
   ]
  },
  {
   "cell_type": "code",
   "execution_count": 320,
   "metadata": {},
   "outputs": [
    {
     "name": "stdout",
     "output_type": "stream",
     "text": [
      "Index(['Married', 'Education', 'Credit_History', 'Property_Area',\n",
      "       'Loan_Status'],\n",
      "      dtype='object')\n",
      "Index(['Total_Income_log', 'EMI', 'Blance_amount'], dtype='object')\n"
     ]
    }
   ],
   "source": [
    "# cat_list=LP.select_dtypes(\"category\").columns\n",
    "# num_list=LP.select_dtypes(\"number\").columns\n",
    "# print(cat_list)\n",
    "# print(num_list)"
   ]
  },
  {
   "cell_type": "code",
   "execution_count": null,
   "metadata": {},
   "outputs": [],
   "source": [
    "# ERROR METRIC"
   ]
  },
  {
   "cell_type": "code",
   "execution_count": 448,
   "metadata": {},
   "outputs": [],
   "source": [
    "def get_CR_CM(train_actual,train_predicted,test_actual,test_predicted):\n",
    "    print('''\n",
    "         ========================================\n",
    "           CLASSIFICATION REPORT FOR TRAIN DATA\n",
    "         ========================================\n",
    "        ''')\n",
    "    print(classification_report(train_actual, train_predicted, digits=4))\n",
    "\n",
    "    print('''\n",
    "             =============================================\n",
    "               CLASSIFICATION REPORT FOR VALIDATION DATA\n",
    "             =============================================\n",
    "            ''')\n",
    "    print(classification_report(test_actual, test_predicted, digits=4))\n",
    "\n",
    "    print('''\n",
    "             ========================================\n",
    "               Confusion Matrix FOR TRAIN DATA\n",
    "             ========================================\n",
    "            ''')\n",
    "    print(confusion_matrix(train_actual, train_predicted))\n",
    "\n",
    "    print('''\n",
    "             =============================================\n",
    "               Confusion matrix FOR VALIDATION DATA\n",
    "             =============================================\n",
    "            ''')\n",
    "    print(confusion_matrix(test_actual, test_predicted))\n"
   ]
  },
  {
   "cell_type": "code",
   "execution_count": 461,
   "metadata": {},
   "outputs": [],
   "source": [
    "scores = pd.DataFrame(columns=['Model','Train_Accuracy','Train_Recall','Train_Precision','Train_F1_Score','Test_Accuracy','Test_Recall','Test_Precision','Test_F1_Score'])"
   ]
  },
  {
   "cell_type": "code",
   "execution_count": 462,
   "metadata": {},
   "outputs": [],
   "source": [
    "def get_metrics(train_actual,train_predicted,test_actual,test_predicted,model_description,dataframe):\n",
    "    get_CR_CM(train_actual,train_predicted,test_actual,test_predicted)\n",
    "    train_accuracy = accuracy_score(train_actual,train_predicted)\n",
    "    train_recall   = recall_score(train_actual,train_predicted,pos_label=\"1\")\n",
    "    train_precision= precision_score(train_actual,train_predicted,pos_label=\"1\")\n",
    "    train_f1score  = f1_score(train_actual,train_predicted,pos_label=\"1\")\n",
    "    test_accuracy = accuracy_score(test_actual,test_predicted)\n",
    "    test_recall   = recall_score(test_actual,test_predicted,pos_label=\"1\")\n",
    "    test_precision= precision_score(test_actual,test_predicted,pos_label=\"1\")\n",
    "    test_f1score  = f1_score(test_actual,test_predicted,pos_label=\"1\")\n",
    "    dataframe = dataframe.append(pd.Series([model_description, train_accuracy,train_recall,train_precision,train_f1score,\n",
    "                                            test_accuracy,test_recall,test_precision,test_f1score],\n",
    "                                           index=scores.columns ), ignore_index=True)\n",
    "    return(dataframe)"
   ]
  },
  {
   "cell_type": "code",
   "execution_count": 463,
   "metadata": {},
   "outputs": [],
   "source": [
    "# Train test split"
   ]
  },
  {
   "cell_type": "code",
   "execution_count": 464,
   "metadata": {},
   "outputs": [],
   "source": [
    "from sklearn.model_selection import train_test_split"
   ]
  },
  {
   "cell_type": "code",
   "execution_count": 465,
   "metadata": {},
   "outputs": [
    {
     "name": "stdout",
     "output_type": "stream",
     "text": [
      "(429, 7)\n",
      "(185, 7)\n",
      "(429,)\n",
      "(185,)\n"
     ]
    }
   ],
   "source": [
    "y=LP[\"Loan_Status\"]\n",
    "X=LP.drop('Loan_Status', axis=1)\n",
    "X_train, X_test, y_train, y_test = train_test_split(X, y, test_size=0.30, random_state=123, stratify=y)\n",
    "print(X_train.shape)\n",
    "print(X_test.shape)\n",
    "print(y_train.shape)\n",
    "print(y_test.shape)"
   ]
  },
  {
   "cell_type": "code",
   "execution_count": 466,
   "metadata": {},
   "outputs": [
    {
     "name": "stdout",
     "output_type": "stream",
     "text": [
      "Index(['Married', 'Education', 'Credit_History', 'Property_Area'], dtype='object')\n",
      "Index(['Total_Income_log', 'EMI', 'Blance_amount'], dtype='object')\n"
     ]
    }
   ],
   "source": [
    "cat_list=X_train.select_dtypes(\"category\").columns\n",
    "num_list=X_train.select_dtypes(\"number\").columns\n",
    "print(cat_list)\n",
    "print(num_list)"
   ]
  },
  {
   "cell_type": "code",
   "execution_count": 467,
   "metadata": {},
   "outputs": [],
   "source": [
    "# # DataFrameMapper, a class for mapping pandas data frame columns to different sklearn transformations\n",
    "# mapper = DataFrameMapper(\n",
    "#   [([continuous_col], StandardScaler()) for continuous_col in num_list] +\n",
    "#   [([categorical_col], OneHotEncoder(handle_unknown='error')) for categorical_col in cat_list]\n",
    "# , df_out=True)"
   ]
  },
  {
   "cell_type": "code",
   "execution_count": 468,
   "metadata": {},
   "outputs": [],
   "source": [
    "from sklearn.pipeline import Pipeline\n",
    "from sklearn.compose import ColumnTransformer\n",
    "\n",
    "from sklearn.preprocessing import StandardScaler, OneHotEncoder\n",
    "from sklearn.impute import SimpleImputer\n",
    "\n",
    "from sklearn.linear_model import LogisticRegression\n",
    "from sklearn.metrics import accuracy_score\n",
    "\n",
    "from sklearn.metrics import accuracy_score,recall_score,precision_score,f1_score \n",
    "from sklearn.metrics import classification_report, confusion_matrix"
   ]
  },
  {
   "cell_type": "code",
   "execution_count": 469,
   "metadata": {},
   "outputs": [],
   "source": [
    "numeric_transformer = Pipeline(steps=[\n",
    "    ('imputer', SimpleImputer(strategy='median')),\n",
    "    ('scaler', StandardScaler())])\n",
    "\n",
    "categorical_transformer = Pipeline(steps=[\n",
    "    ('imputer', SimpleImputer(strategy='most_frequent')),\n",
    "    ('onehot', OneHotEncoder(handle_unknown='ignore'))])\n",
    "\n",
    "preprocessor = ColumnTransformer(\n",
    "    transformers=[\n",
    "        ('num', numeric_transformer, num_list),\n",
    "        ('cat', categorical_transformer, cat_list)])"
   ]
  },
  {
   "cell_type": "code",
   "execution_count": 470,
   "metadata": {},
   "outputs": [],
   "source": [
    "# Model Building"
   ]
  },
  {
   "cell_type": "code",
   "execution_count": 471,
   "metadata": {},
   "outputs": [
    {
     "data": {
      "text/plain": [
       "Pipeline(memory=None,\n",
       "         steps=[('preprocessor',\n",
       "                 ColumnTransformer(n_jobs=None, remainder='drop',\n",
       "                                   sparse_threshold=0.3,\n",
       "                                   transformer_weights=None,\n",
       "                                   transformers=[('num',\n",
       "                                                  Pipeline(memory=None,\n",
       "                                                           steps=[('imputer',\n",
       "                                                                   SimpleImputer(add_indicator=False,\n",
       "                                                                                 copy=True,\n",
       "                                                                                 fill_value=None,\n",
       "                                                                                 missing_values=nan,\n",
       "                                                                                 strategy='median',\n",
       "                                                                                 verbose=0)),\n",
       "                                                                  ('scaler',\n",
       "                                                                   StandardScaler(copy=True,\n",
       "                                                                                  with_mean...\n",
       "                                                  Index(['Married', 'Education', 'Credit_History', 'Property_Area'], dtype='object'))],\n",
       "                                   verbose=False)),\n",
       "                ('classifier',\n",
       "                 LogisticRegression(C=1.0, class_weight=None, dual=False,\n",
       "                                    fit_intercept=True, intercept_scaling=1,\n",
       "                                    l1_ratio=None, max_iter=100,\n",
       "                                    multi_class='warn', n_jobs=None,\n",
       "                                    penalty='l2', random_state=1, solver='warn',\n",
       "                                    tol=0.0001, verbose=0, warm_start=False))],\n",
       "         verbose=False)"
      ]
     },
     "execution_count": 471,
     "metadata": {},
     "output_type": "execute_result"
    }
   ],
   "source": [
    "#logistic_model = LogisticRegression(random_state=1)\n",
    "log_model=Pipeline(steps=[('preprocessor', preprocessor),\n",
    "                      ('classifier', LogisticRegression(random_state=1))])\n",
    "\n",
    "\n",
    "log_model.fit(X_train,y_train)"
   ]
  },
  {
   "cell_type": "code",
   "execution_count": 478,
   "metadata": {},
   "outputs": [
    {
     "data": {
      "text/plain": [
       "{'num': Pipeline(memory=None,\n",
       "          steps=[('imputer',\n",
       "                  SimpleImputer(add_indicator=False, copy=True, fill_value=None,\n",
       "                                missing_values=nan, strategy='median',\n",
       "                                verbose=0)),\n",
       "                 ('scaler',\n",
       "                  StandardScaler(copy=True, with_mean=True, with_std=True))],\n",
       "          verbose=False), 'cat': Pipeline(memory=None,\n",
       "          steps=[('imputer',\n",
       "                  SimpleImputer(add_indicator=False, copy=True, fill_value=None,\n",
       "                                missing_values=nan, strategy='most_frequent',\n",
       "                                verbose=0)),\n",
       "                 ('onehot',\n",
       "                  OneHotEncoder(categorical_features=None, categories=None,\n",
       "                                drop=None, dtype=<class 'numpy.float64'>,\n",
       "                                handle_unknown='ignore', n_values=None,\n",
       "                                sparse=True))],\n",
       "          verbose=False)}"
      ]
     },
     "execution_count": 478,
     "metadata": {},
     "output_type": "execute_result"
    }
   ],
   "source": [
    "log_model.named_steps.preprocessor.named_transformers_"
   ]
  },
  {
   "cell_type": "code",
   "execution_count": 479,
   "metadata": {},
   "outputs": [
    {
     "data": {
      "text/plain": [
       "array([8.61031917e+00, 3.72222222e-01, 5.46067778e+03])"
      ]
     },
     "execution_count": 479,
     "metadata": {},
     "output_type": "execute_result"
    }
   ],
   "source": [
    "log_model.named_steps.preprocessor.named_transformers_['num']['imputer'].statistics_"
   ]
  },
  {
   "cell_type": "code",
   "execution_count": 481,
   "metadata": {},
   "outputs": [
    {
     "data": {
      "text/plain": [
       "array(['Yes', 'Graduate', 1.0, 'Semiurban'], dtype=object)"
      ]
     },
     "execution_count": 481,
     "metadata": {},
     "output_type": "execute_result"
    }
   ],
   "source": [
    "log_model.named_steps.preprocessor.named_transformers_['cat']['imputer'].statistics_"
   ]
  },
  {
   "cell_type": "code",
   "execution_count": 480,
   "metadata": {},
   "outputs": [
    {
     "data": {
      "text/plain": [
       "array(['Married_No', 'Married_Yes', 'Education_Graduate',\n",
       "       'Education_Not Graduate', 'Credit_History_0.0',\n",
       "       'Credit_History_1.0', 'Property_Area_Rural',\n",
       "       'Property_Area_Semiurban', 'Property_Area_Urban'], dtype=object)"
      ]
     },
     "execution_count": 480,
     "metadata": {},
     "output_type": "execute_result"
    }
   ],
   "source": [
    "log_model.named_steps.preprocessor.named_transformers_['cat']['onehot'].get_feature_names(cat_list)"
   ]
  },
  {
   "cell_type": "code",
   "execution_count": 482,
   "metadata": {},
   "outputs": [
    {
     "data": {
      "text/plain": [
       "0"
      ]
     },
     "execution_count": 482,
     "metadata": {},
     "output_type": "execute_result"
    }
   ],
   "source": [
    "cat_list.isna().sum()"
   ]
  },
  {
   "cell_type": "code",
   "execution_count": 483,
   "metadata": {},
   "outputs": [
    {
     "data": {
      "text/plain": [
       "0"
      ]
     },
     "execution_count": 483,
     "metadata": {},
     "output_type": "execute_result"
    }
   ],
   "source": [
    "num_list.isna().sum()"
   ]
  },
  {
   "cell_type": "code",
   "execution_count": 484,
   "metadata": {},
   "outputs": [],
   "source": [
    "y_pred_train = log_model.predict(X_train)\n",
    "y_pred_test= log_model.predict(X_test)"
   ]
  },
  {
   "cell_type": "code",
   "execution_count": 485,
   "metadata": {},
   "outputs": [
    {
     "name": "stdout",
     "output_type": "stream",
     "text": [
      "\n",
      "         ========================================\n",
      "           CLASSIFICATION REPORT FOR TRAIN DATA\n",
      "         ========================================\n",
      "        \n",
      "              precision    recall  f1-score   support\n",
      "\n",
      "           0     0.8971    0.4552    0.6040       134\n",
      "           1     0.7978    0.9763    0.8780       295\n",
      "\n",
      "    accuracy                         0.8135       429\n",
      "   macro avg     0.8474    0.7157    0.7410       429\n",
      "weighted avg     0.8288    0.8135    0.7924       429\n",
      "\n",
      "\n",
      "             =============================================\n",
      "               CLASSIFICATION REPORT FOR VALIDATION DATA\n",
      "             =============================================\n",
      "            \n",
      "              precision    recall  f1-score   support\n",
      "\n",
      "           0     0.9545    0.3621    0.5250        58\n",
      "           1     0.7730    0.9921    0.8690       127\n",
      "\n",
      "    accuracy                         0.7946       185\n",
      "   macro avg     0.8638    0.6771    0.6970       185\n",
      "weighted avg     0.8299    0.7946    0.7611       185\n",
      "\n",
      "\n",
      "             ========================================\n",
      "               Confusion Matrix FOR TRAIN DATA\n",
      "             ========================================\n",
      "            \n",
      "[[ 61  73]\n",
      " [  7 288]]\n",
      "\n",
      "             =============================================\n",
      "               Confusion matrix FOR VALIDATION DATA\n",
      "             =============================================\n",
      "            \n",
      "[[ 21  37]\n",
      " [  1 126]]\n"
     ]
    },
    {
     "data": {
      "text/html": [
       "<div>\n",
       "<style scoped>\n",
       "    .dataframe tbody tr th:only-of-type {\n",
       "        vertical-align: middle;\n",
       "    }\n",
       "\n",
       "    .dataframe tbody tr th {\n",
       "        vertical-align: top;\n",
       "    }\n",
       "\n",
       "    .dataframe thead th {\n",
       "        text-align: right;\n",
       "    }\n",
       "</style>\n",
       "<table border=\"1\" class=\"dataframe\">\n",
       "  <thead>\n",
       "    <tr style=\"text-align: right;\">\n",
       "      <th></th>\n",
       "      <th>Model</th>\n",
       "      <th>Train_Accuracy</th>\n",
       "      <th>Train_Recall</th>\n",
       "      <th>Train_Precision</th>\n",
       "      <th>Train_F1_Score</th>\n",
       "      <th>Test_Accuracy</th>\n",
       "      <th>Test_Recall</th>\n",
       "      <th>Test_Precision</th>\n",
       "      <th>Test_F1_Score</th>\n",
       "    </tr>\n",
       "  </thead>\n",
       "  <tbody>\n",
       "    <tr>\n",
       "      <th>0</th>\n",
       "      <td>LogisticRegression</td>\n",
       "      <td>0.81352</td>\n",
       "      <td>0.976271</td>\n",
       "      <td>0.797784</td>\n",
       "      <td>0.878049</td>\n",
       "      <td>0.794595</td>\n",
       "      <td>0.992126</td>\n",
       "      <td>0.773006</td>\n",
       "      <td>0.868966</td>\n",
       "    </tr>\n",
       "    <tr>\n",
       "      <th>1</th>\n",
       "      <td>LogisticRegression</td>\n",
       "      <td>0.81352</td>\n",
       "      <td>0.976271</td>\n",
       "      <td>0.797784</td>\n",
       "      <td>0.878049</td>\n",
       "      <td>0.794595</td>\n",
       "      <td>0.992126</td>\n",
       "      <td>0.773006</td>\n",
       "      <td>0.868966</td>\n",
       "    </tr>\n",
       "    <tr>\n",
       "      <th>2</th>\n",
       "      <td>LogisticRegression</td>\n",
       "      <td>0.81352</td>\n",
       "      <td>0.976271</td>\n",
       "      <td>0.797784</td>\n",
       "      <td>0.878049</td>\n",
       "      <td>0.794595</td>\n",
       "      <td>0.992126</td>\n",
       "      <td>0.773006</td>\n",
       "      <td>0.868966</td>\n",
       "    </tr>\n",
       "  </tbody>\n",
       "</table>\n",
       "</div>"
      ],
      "text/plain": [
       "                Model  Train_Accuracy  Train_Recall  Train_Precision  \\\n",
       "0  LogisticRegression         0.81352      0.976271         0.797784   \n",
       "1  LogisticRegression         0.81352      0.976271         0.797784   \n",
       "2  LogisticRegression         0.81352      0.976271         0.797784   \n",
       "\n",
       "   Train_F1_Score  Test_Accuracy  Test_Recall  Test_Precision  Test_F1_Score  \n",
       "0        0.878049       0.794595     0.992126        0.773006       0.868966  \n",
       "1        0.878049       0.794595     0.992126        0.773006       0.868966  \n",
       "2        0.878049       0.794595     0.992126        0.773006       0.868966  "
      ]
     },
     "execution_count": 485,
     "metadata": {},
     "output_type": "execute_result"
    }
   ],
   "source": [
    "scores = get_metrics(y_train,y_pred_train,y_test,y_pred_test,\"LogisticRegression\",scores)\n",
    "scores"
   ]
  },
  {
   "cell_type": "code",
   "execution_count": 474,
   "metadata": {},
   "outputs": [
    {
     "data": {
      "text/html": [
       "<div>\n",
       "<style scoped>\n",
       "    .dataframe tbody tr th:only-of-type {\n",
       "        vertical-align: middle;\n",
       "    }\n",
       "\n",
       "    .dataframe tbody tr th {\n",
       "        vertical-align: top;\n",
       "    }\n",
       "\n",
       "    .dataframe thead th {\n",
       "        text-align: right;\n",
       "    }\n",
       "</style>\n",
       "<table border=\"1\" class=\"dataframe\">\n",
       "  <thead>\n",
       "    <tr style=\"text-align: right;\">\n",
       "      <th></th>\n",
       "      <th>Model</th>\n",
       "      <th>Train_Accuracy</th>\n",
       "      <th>Train_Recall</th>\n",
       "      <th>Train_Precision</th>\n",
       "      <th>Train_F1_Score</th>\n",
       "      <th>Test_Accuracy</th>\n",
       "      <th>Test_Recall</th>\n",
       "      <th>Test_Precision</th>\n",
       "      <th>Test_F1_Score</th>\n",
       "    </tr>\n",
       "  </thead>\n",
       "  <tbody>\n",
       "    <tr>\n",
       "      <th>0</th>\n",
       "      <td>LogisticRegression</td>\n",
       "      <td>0.81352</td>\n",
       "      <td>0.976271</td>\n",
       "      <td>0.797784</td>\n",
       "      <td>0.878049</td>\n",
       "      <td>0.794595</td>\n",
       "      <td>0.992126</td>\n",
       "      <td>0.773006</td>\n",
       "      <td>0.868966</td>\n",
       "    </tr>\n",
       "  </tbody>\n",
       "</table>\n",
       "</div>"
      ],
      "text/plain": [
       "                Model  Train_Accuracy  Train_Recall  Train_Precision  \\\n",
       "0  LogisticRegression         0.81352      0.976271         0.797784   \n",
       "\n",
       "   Train_F1_Score  Test_Accuracy  Test_Recall  Test_Precision  Test_F1_Score  \n",
       "0        0.878049       0.794595     0.992126        0.773006       0.868966  "
      ]
     },
     "execution_count": 474,
     "metadata": {},
     "output_type": "execute_result"
    }
   ],
   "source": []
  },
  {
   "cell_type": "code",
   "execution_count": null,
   "metadata": {},
   "outputs": [],
   "source": []
  }
 ],
 "metadata": {
  "kernelspec": {
   "display_name": "Python 3",
   "language": "python",
   "name": "python3"
  },
  "language_info": {
   "codemirror_mode": {
    "name": "ipython",
    "version": 3
   },
   "file_extension": ".py",
   "mimetype": "text/x-python",
   "name": "python",
   "nbconvert_exporter": "python",
   "pygments_lexer": "ipython3",
   "version": "3.6.9"
  },
  "toc": {
   "base_numbering": 1,
   "nav_menu": {},
   "number_sections": true,
   "sideBar": true,
   "skip_h1_title": false,
   "title_cell": "Table of Contents",
   "title_sidebar": "Contents",
   "toc_cell": false,
   "toc_position": {},
   "toc_section_display": true,
   "toc_window_display": false
  }
 },
 "nbformat": 4,
 "nbformat_minor": 2
}
